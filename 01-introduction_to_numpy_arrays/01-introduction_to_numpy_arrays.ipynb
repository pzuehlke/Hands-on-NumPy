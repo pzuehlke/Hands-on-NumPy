{
 "cells": [
  {
   "cell_type": "markdown",
   "metadata": {},
   "source": [
    "# Introduction to NumPy arrays\n",
    "\n",
    "## $ \\S 1 $ Motivation\n",
    "\n",
    "Suppose that we wish to represent vectors such as $ \\mathbf{u}\n",
    "= (1, 2, 3) $ or $ \\mathbf{v} = (-1, 0, 1) $ in Python. It is natural to think\n",
    "that either lists or tuples might be a good choice for this task."
   ]
  },
  {
   "cell_type": "code",
   "execution_count": null,
   "metadata": {},
   "outputs": [],
   "source": [
    "u = [1, 2, 3]   # Create a list whose elements are 1, 2, 3\n",
    "v = [-1, 0, 1]"
   ]
  },
  {
   "cell_type": "markdown",
   "metadata": {},
   "source": [
    "However, at some point we will probably wish not only to store, but to manipulate\n",
    "these vectors. For instance, how can we add $ \\mathbf u $ and $ \\mathbf v $ or\n",
    "take a multiple of $ \\mathbf v $? It is reasonable to try the following code:"
   ]
  },
  {
   "cell_type": "code",
   "execution_count": null,
   "metadata": {},
   "outputs": [],
   "source": [
    "s = u + v\n",
    "multiple = 3 * v\n",
    "\n",
    "print(s)\n",
    "print(multiple)"
   ]
  },
  {
   "cell_type": "markdown",
   "metadata": {},
   "source": [
    "These unexpected results can be explained by recalling that for either lists or\n",
    "tuples (or strings), the `+` operator denotes _concatenation_, not addition; and\n",
    "accordingly, `*` denotes _repetition_, not multiplication. This behavior is not\n",
    "so strange at all if we take into account that lists and tuples are _generic_\n",
    "sequential types, capable of holding objects of arbitrary types, for which\n",
    "addition and multiplication might not make sense."
   ]
  },
  {
   "cell_type": "markdown",
   "metadata": {},
   "source": [
    "__Exercise:__ What happens if you represent $ \\mathbf u $ and $ \\mathbf v $ as\n",
    "tuples and try to take their difference $ \\mathbf u - \\mathbf v $? What if they\n",
    "are represented as lists?"
   ]
  },
  {
   "cell_type": "code",
   "execution_count": null,
   "metadata": {},
   "outputs": [],
   "source": []
  },
  {
   "cell_type": "markdown",
   "metadata": {},
   "source": [
    "Vectors and matrices are fundamental objects in engineering, science\n",
    "and machine learning. There is thus a clear need for a library that\n",
    "extends Python by providing efficient ways to operate on these objects."
   ]
  },
  {
   "cell_type": "markdown",
   "metadata": {},
   "source": [
    "## $ \\S 2 $ Arrays\n",
    "\n",
    "<img src=\"notebook_1_NumPy.png\" width=\"105\" height=\"38\" alt=\"NumPy\">, which stands for _Numerical Python_, is a foundational package\n",
    "for scientific computing in Python. It is almost universally imported with the\n",
    "`np` alias, as follows:"
   ]
  },
  {
   "cell_type": "code",
   "execution_count": null,
   "metadata": {},
   "outputs": [],
   "source": [
    "import numpy as np"
   ]
  },
  {
   "cell_type": "markdown",
   "metadata": {},
   "source": [
    "We could also import every object/function in NumPy with:"
   ]
  },
  {
   "cell_type": "code",
   "execution_count": null,
   "metadata": {},
   "outputs": [],
   "source": [
    "from numpy import *"
   ]
  },
  {
   "cell_type": "markdown",
   "metadata": {},
   "source": [
    "We would thereby avoid having to type the `np.` prefix everytime. However,\n",
    "this is not recommended, because it may lead to conflicts with names in pure\n",
    "Python (for example `max` and `min`) or those used by other modules (such as\n",
    "`exp` and `sqrt` from the Math module)."
   ]
  },
  {
   "cell_type": "markdown",
   "metadata": {},
   "source": [
    "The central feature in NumPy is a new data structure called **ndarray** (an\n",
    "abbreviation of $n$-dimensional array), or simply **array**. An array is\n",
    "essentially a multi-dimensional table. For example, a $ 1 $-dimensional array is\n",
    "another version of a list; it is just a row of data. A $ 2 $-dimensional array can be\n",
    "seen as a spreadsheet or matrix. And $ 3 $-dimensional arrays are stacks of\n",
    "tables, for example having the shape of a cube.\n",
    "\n",
    "An ndarray is a grid of values _of the same datatype_; in other words, arrays\n",
    "must be **homogeneous**. In most applications this datatype is numerical (say, the\n",
    "elements of the array are all integers or all floating-point numbers). However,\n",
    "it is also possible to create an array whose elements are booleans or strings,\n",
    "for example.\n",
    "\n",
    "A $ 1 $-dimensional numerical array is similar to a vector in the sense of\n",
    "Linear Algebra, as in the discussion in $ \\S 1 $.  Arrays can be instantiated\n",
    "with the `array` function:"
   ]
  },
  {
   "cell_type": "code",
   "execution_count": null,
   "metadata": {},
   "outputs": [],
   "source": [
    "u = np.array([1, 2, 3])     # Calling `array` on the list [1, 2, 3]\n",
    "print(u)\n",
    "print(f\"The type of an array such as u is: {type(u)}\")"
   ]
  },
  {
   "cell_type": "markdown",
   "metadata": {},
   "source": [
    "Note the absence of commas separating the entries of the array when it is displayed\n",
    "(in contrast to lists).\n",
    "\n",
    "__Exercise:__ Print the list `primes = [2, 3, 5, 7]` and its type. Then generate\n",
    "an array `primes_arr` from this list and print it, together with its type."
   ]
  },
  {
   "cell_type": "code",
   "execution_count": null,
   "metadata": {},
   "outputs": [],
   "source": []
  },
  {
   "cell_type": "markdown",
   "metadata": {},
   "source": [
    "__Exercise:__ Define the vector\n",
    "$ \\mathbf a = \\frac{1}{2} \\big(1, 1, 1, 1 \\big) \\in \\mathbb R^4 $ as a NumPy array.\n",
    "Compute the length (norm) of $ \\mathbf a $ by hand and compare your answer to\n",
    "the result obtained through the function `np.linalg.norm`."
   ]
  },
  {
   "cell_type": "code",
   "execution_count": null,
   "metadata": {},
   "outputs": [],
   "source": []
  },
  {
   "cell_type": "markdown",
   "metadata": {},
   "source": [
    "__Exercise:__ Print and determine the types of the following arrays."
   ]
  },
  {
   "cell_type": "code",
   "execution_count": null,
   "metadata": {},
   "outputs": [],
   "source": [
    "b = np.array([True, False, True, False])\n",
    "s = np.array(list(\"test\"))"
   ]
  },
  {
   "cell_type": "markdown",
   "metadata": {},
   "source": [
    "📝 To recap, `ndarray` is the official name of the data type provided by NumPy, and `array` is both\n",
    "the informal name of this data type and the name of the function that we can use\n",
    "to create ndarrays.\n",
    "\n",
    "The argument of the `array` function can be a list, a tuple, a range, another\n",
    "array or any array-like object."
   ]
  },
  {
   "cell_type": "code",
   "execution_count": null,
   "metadata": {},
   "outputs": [],
   "source": [
    "v = np.array((-1, 0, 1))    # The argument of `array` can also be a tuple\n",
    "print(v)"
   ]
  },
  {
   "cell_type": "markdown",
   "metadata": {},
   "source": [
    "__Exercise:__ Can one convert a string such as \"hello\" directly to an array of characters with `array`? Try it below."
   ]
  },
  {
   "cell_type": "code",
   "execution_count": null,
   "metadata": {},
   "outputs": [],
   "source": []
  },
  {
   "cell_type": "markdown",
   "metadata": {},
   "source": [
    "Notice that the type of an array as a whole is always the same (`numpy.ndarray`)\n",
    "and should not be confused with its __datatype__, which is the type of the\n",
    "_elements_ it holds. We can determine the datatype of an array $ \\mathbf a $ through `a.dtype`:"
   ]
  },
  {
   "cell_type": "code",
   "execution_count": null,
   "metadata": {},
   "outputs": [],
   "source": [
    "v.dtype"
   ]
  },
  {
   "cell_type": "markdown",
   "metadata": {},
   "source": [
    "As we can see, the array $ \\mathbf v = (-1, 0, 1) $ defined above holds $ 64 $-bit integers.\n",
    "\n",
    "__Exercise:__ Determine the datatype of the arrays $ \\mathbf b $ and\n",
    "$ \\mathbf c $ defined below."
   ]
  },
  {
   "cell_type": "code",
   "execution_count": null,
   "metadata": {},
   "outputs": [],
   "source": [
    "b = np.array([True, False, True, False])\n",
    "c = np.array((1, 2, 3.))"
   ]
  },
  {
   "cell_type": "markdown",
   "metadata": {},
   "source": [
    "We may also use convert an _existing_ list or tuple or range to an\n",
    "array:"
   ]
  },
  {
   "cell_type": "code",
   "execution_count": null,
   "metadata": {},
   "outputs": [],
   "source": [
    "odds = range(1, 11, 2)  # Create a range containing odd numbers from 1 to 9\n",
    "print(np.array(odds))   # Create an array from `odds` and print it"
   ]
  },
  {
   "cell_type": "markdown",
   "metadata": {},
   "source": [
    "## $ \\S 3 $ Multi-dimensional arrays\n",
    "\n",
    "The number of dimensions of an array is also called its\n",
    "**rank**. A $ 2 $-dimensional array, or array of rank $ 2 $ can be seen\n",
    "as a a table or matrix. "
   ]
  },
  {
   "cell_type": "code",
   "execution_count": null,
   "metadata": {},
   "outputs": [],
   "source": [
    "A = np.array([[1, 1, 1, 1],   # first row of matrix A\n",
    "              [2, 2, 2, 2],   # second row\n",
    "              [3, 3, 3, 3]])  # third row\n",
    "print(A)\n",
    "print(type(A))  # Print the type of object A"
   ]
  },
  {
   "cell_type": "markdown",
   "metadata": {},
   "source": [
    "Notice the use of _double_ brackets here: the first opening bracket `[` serves\n",
    "to delimit the array itself, while the second one is being used to delimit the elements\n",
    "of the first row. The rows are separated by commas, as are elements within each row.\n",
    "\n",
    "📝 In the code of the preceding example, each row of the matrix appears by\n",
    "itself on a line to improve legibility, but the newline characters do not\n",
    "actually delimit the lines (the commas and brackets do).\n",
    "Hence, the following produces the same result:"
   ]
  },
  {
   "cell_type": "code",
   "execution_count": null,
   "metadata": {},
   "outputs": [],
   "source": [
    "A = np.array([[1, 1, 1, 1], [2, 2, 2, 2], [3, 3, 3, 3]])\n",
    "print(A)"
   ]
  },
  {
   "cell_type": "markdown",
   "metadata": {},
   "source": [
    "__Exercise:__ Create and display the matrix\n",
    "$$\n",
    "    T = \\begin{bmatrix}\n",
    "    \\phantom{-}0 & \\phantom{-}1 & \\phantom{-}0 \\\\\n",
    "    -1 & \\phantom{-}0 & \\phantom{-}1 \\\\\n",
    "    \\phantom{-}0 & -1 & \\phantom{-}0\n",
    "    \\end{bmatrix}\n",
    "$$"
   ]
  },
  {
   "cell_type": "code",
   "execution_count": null,
   "metadata": {},
   "outputs": [],
   "source": []
  },
  {
   "cell_type": "markdown",
   "metadata": {},
   "source": [
    "__Exercise:__ Create a $ 3\\times 3 $ array to represent a tic-tac-toe board.\n",
    "Use the string `' '` (single whitespace) for an empty cell, and the strings\n",
    "`'X'` and `'O'` for the pieces placed by each of the two players.\n",
    "Set up the board for the following game state:\n",
    "\n",
    "<img src=\"notebook_1_tic_tac_toe.png\" width=\"200\">"
   ]
  },
  {
   "cell_type": "code",
   "execution_count": null,
   "metadata": {},
   "outputs": [],
   "source": [
    "game_board = np.array(...)\n",
    "\n",
    "print(game_board)"
   ]
  },
  {
   "cell_type": "markdown",
   "metadata": {},
   "source": [
    "⚡ Arrays do not have to be rectangular; they can also be\n",
    "_jagged_ (meaning that the rows may have different lengths), as in the example\n",
    "below. However, jagged arrays lose many of NumPy's performance benefits, which\n",
    "rely on consistent shapes for efficiency."
   ]
  },
  {
   "cell_type": "code",
   "execution_count": null,
   "metadata": {},
   "outputs": [],
   "source": [
    "jagged = np.array([\n",
    "    [1, 2, 3],\n",
    "    [4, 5],\n",
    "    [6, 7, 8, 9]\n",
    "], dtype=object)\n",
    "print(jagged)"
   ]
  },
  {
   "cell_type": "markdown",
   "metadata": {},
   "source": [
    "Notice that this array is storing Python lists, rather than a\n",
    "contiguous block of memory with integers."
   ]
  },
  {
   "cell_type": "markdown",
   "metadata": {},
   "source": [
    "The __shape__ of an array is a _tuple_ of integers indicating the size of each of\n",
    "its dimensions. The array $ A $ below has shape $ (3, 4) $ since it has three\n",
    "rows and four columns."
   ]
  },
  {
   "cell_type": "code",
   "execution_count": null,
   "metadata": {},
   "outputs": [],
   "source": [
    "A = np.array([[42, 17, 99, 3], [-2, -3, -5, -7], [0, 0, 0, 0]])\n",
    "print(A)\n",
    "print(A.shape)  # Print the shape of A"
   ]
  },
  {
   "cell_type": "markdown",
   "metadata": {},
   "source": [
    "__Exercise:__ What is the shape of a one-dimensional array, for instance the\n",
    "array $ \\mathbf b $ below? Can you explain the result of `b.shape` (why is there\n",
    "a comma when you print it)?"
   ]
  },
  {
   "cell_type": "code",
   "execution_count": null,
   "metadata": {},
   "outputs": [],
   "source": [
    "b = np.array([True, False, False, True, False])"
   ]
  },
  {
   "cell_type": "markdown",
   "metadata": {},
   "source": [
    "__Exercise:__ How would you create the matrix\n",
    "$$\n",
    "\\mathbf B = \\begin{equation*}\n",
    "\\left[ \\begin{array}{cc}\n",
    "b_{11} & b_{12} \\\\\n",
    "b_{21} & b_{22} \\\\\n",
    "b_{31} & b_{32} \\\\\n",
    "b_{41} & b_{42}\n",
    "\\end{array} \\right]\n",
    "\\end{equation*}\n",
    "$$\n",
    "where $ b_{ij} = i \\cdot j $?"
   ]
  },
  {
   "cell_type": "code",
   "execution_count": null,
   "metadata": {},
   "outputs": [],
   "source": []
  },
  {
   "cell_type": "markdown",
   "metadata": {},
   "source": [
    "⚡ __Exercise:__ Recall the matrix $ \\mathbf{B} = \\big(b_{ij}\\big) = (i \\cdot j) $ from\n",
    "a previous exercise. Use a double list comprehension to generate the $ b_{ij} $\n",
    "as a list of lists and then convert this to an array. _Hint:_ You will need a\n",
    "double comprehension, of the form `[[... for j in ...] for i in ...]`. "
   ]
  },
  {
   "cell_type": "code",
   "execution_count": null,
   "metadata": {},
   "outputs": [],
   "source": []
  },
  {
   "cell_type": "markdown",
   "metadata": {},
   "source": [
    "A $ 3D $ array is to a matrix as a solid block is to a rectangle. In other words,\n",
    "a rank $ 3 $ array is one having three axes instead of just two.\n",
    "\n",
    "<img src=\"notebook_1_array_3D.png\" alt=\"drawing\" width=\"400\"/>\n",
    "\n",
    "__Exercise:__ What is the rank and shape of the array depicted above?\n",
    "\n",
    "Here's a concrete example of a $ 3D $ array of shape $ 2 \\times 2 \\times 2 $.\n",
    "Think of it as an array having $ 2 $ layers, each of which is a $ 2 \\times 2 $\n",
    "matrix."
   ]
  },
  {
   "cell_type": "code",
   "execution_count": null,
   "metadata": {},
   "outputs": [],
   "source": [
    "A = np.array([[[1, 2],   # The first layer is a 2x2 matrix\n",
    "               [3, 4]], \n",
    "\n",
    "              [[5, 6],   # The second layer is also a 2x2 matrix\n",
    "               [7, 8]]])\n",
    "print(A)"
   ]
  },
  {
   "cell_type": "markdown",
   "metadata": {},
   "source": [
    "__Exercise:__ What happens if you delete the blank line inside the definition of $ A $ above?\n",
    "What happens if you insert an additional blank line?\n",
    "\n",
    "Note that a $ 3D $ array need not be a cube (i.e., have all three dimensions\n",
    "of the same length) as in the previous example.\n",
    "\n",
    "__Exercise:__ Build a rank three array of shape $ (2, 3, 4) $. \n",
    "_Hint:_ Think of this as a pair of $ 3 \\times 4 $ matrices."
   ]
  },
  {
   "cell_type": "code",
   "execution_count": null,
   "metadata": {},
   "outputs": [],
   "source": []
  },
  {
   "cell_type": "markdown",
   "metadata": {},
   "source": [
    "There is no bound on the number of dimensions that an array can have. Even\n",
    "though most applications only require arrays of ranks $ 1 $ and $ 2 $,\n",
    "higher-dimensional arrays do arise naturally in some areas.  For instance, in\n",
    "image processing, RGB pictures can be seen as $ 3D $ arrays with dimensions for\n",
    "height, width, and color channels (red, green, blue). That is, an image such as\n",
    "the one below can be decomposed into three $ 2D $ arrays, each representing the\n",
    "intensity of one color at every pixel.\n",
    "\n",
    "<img src=\"notebook_1_RGB_separation.jpg\" alt=\"RGB separation\" width=\"200\" height=\"600\">\n",
    "\n",
    "\n",
    "Similarly, video processing uses $ 4D $ arrays (time, channels, height, width)\n",
    "and machine learning often uses multi-dimensional arrays."
   ]
  },
  {
   "cell_type": "markdown",
   "metadata": {},
   "source": [
    "## $ \\S 4 $ Other ways to create arrays\n",
    "\n",
    "### $ 4.1 $ Filling arrays automatically"
   ]
  },
  {
   "cell_type": "markdown",
   "metadata": {},
   "source": [
    "There are other ways of creating arrays that are often more convenient than through use of the `array` function. For instance,\n",
    "to instantiate an array of a desired shape filled with $ 0\\text{s} $, we can use the function `zeros`:"
   ]
  },
  {
   "cell_type": "code",
   "execution_count": null,
   "metadata": {},
   "outputs": [],
   "source": [
    "Z = np.zeros((2, 5))  # The argument of `zeros` is the shape you want\n",
    "print(Z)"
   ]
  },
  {
   "cell_type": "markdown",
   "metadata": {},
   "source": [
    "📝 Note the necessary double parentheses in this call. The outermost pair\n",
    "delimits the arguments of the function `array` and the other innermost pair\n",
    "specifies the shape, which is always a tuple. However, there's an exception for \n",
    "$ 1D $ arrays. If we want a vector having, say, $ 10 $ coordinates equal to\n",
    "$ 0 $, then we can use either `np.zeros((10,))` or `np.zeros(10)`."
   ]
  },
  {
   "cell_type": "code",
   "execution_count": null,
   "metadata": {},
   "outputs": [],
   "source": [
    "origin = np.zeros(3)\n",
    "print(origin)"
   ]
  },
  {
   "cell_type": "markdown",
   "metadata": {},
   "source": [
    "Note that by default, the resulting array has floating-point datatype."
   ]
  },
  {
   "cell_type": "markdown",
   "metadata": {},
   "source": [
    "__Exercise:__ Create and print a $ 3D $ array of shape $ (3, 4, 5) $ filled with zeros."
   ]
  },
  {
   "cell_type": "code",
   "execution_count": null,
   "metadata": {},
   "outputs": [],
   "source": []
  },
  {
   "cell_type": "markdown",
   "metadata": {},
   "source": [
    "Arrays can also be automatically populated with $ 1\\text{s} $ by means of the function `ones`: "
   ]
  },
  {
   "cell_type": "code",
   "execution_count": null,
   "metadata": {},
   "outputs": [],
   "source": [
    "U = np.ones((2, 3))\n",
    "print(U)"
   ]
  },
  {
   "cell_type": "markdown",
   "metadata": {},
   "source": [
    "Generalizing `zeros` and `ones`, the `full` function creates an array of a\n",
    "specified shape, filled entirely with a prescribed value:"
   ]
  },
  {
   "cell_type": "code",
   "execution_count": null,
   "metadata": {},
   "outputs": [],
   "source": [
    "# Create a 3x5 array where every element equals 3.14:\n",
    "P = np.full((3, 5), 3.14)\n",
    "print(P)"
   ]
  },
  {
   "cell_type": "markdown",
   "metadata": {},
   "source": [
    "__Exercise:__ Create a $ 1D $ array having $ 50 $ coordinates, all of them equal to $ 1 $, in two different ways."
   ]
  },
  {
   "cell_type": "code",
   "execution_count": null,
   "metadata": {},
   "outputs": [],
   "source": []
  },
  {
   "cell_type": "markdown",
   "metadata": {},
   "source": [
    "We can also create a new array of specified shape and data type, but without\n",
    "initializing the entries, by means of the function `empty`. The uninitialized\n",
    "values are whatever happens to be in the allocated memory location at that time,\n",
    "which can lead to unpredictable results if the array is used without first\n",
    "assigning proper values. On the other hand, this approach can be more efficient,\n",
    "since it avoids the computational cost of setting each element to some default\n",
    "value only to modify it later."
   ]
  },
  {
   "cell_type": "code",
   "execution_count": 6,
   "metadata": {},
   "outputs": [
    {
     "name": "stdout",
     "output_type": "stream",
     "text": [
      "Uninitialized array:\n",
      "[[5. 5.]\n",
      " [5. 5.]]\n",
      "\n",
      "After initialization:\n",
      "[[5. 3.]\n",
      " [3. 5.]]\n"
     ]
    }
   ],
   "source": [
    "# Create an uninitialized array:\n",
    "uninitialized_array = np.empty((2, 2), dtype=float)\n",
    "print(\"Uninitialized array:\")\n",
    "print(uninitialized_array)\n",
    "\n",
    "# Initialize the array with new values:\n",
    "uninitialized_array.fill(5.0)\n",
    "uninitialized_array[0, 1] = uninitialized_array[1, 0] = 3\n",
    "print(\"\\nAfter initialization:\")\n",
    "print(uninitialized_array)"
   ]
  },
  {
   "cell_type": "markdown",
   "metadata": {},
   "source": [
    "Finally, we can create a new array _of the same shape and datatype_ as a\n",
    "given array $ A $ but filled with zeros, ones, some other specified value or\n",
    "uninitialized garbage values with the functions `zeros_like`, `ones_like`,\n",
    "`full_like` and `empty_like`, respectively:"
   ]
  },
  {
   "cell_type": "code",
   "execution_count": null,
   "metadata": {},
   "outputs": [],
   "source": [
    "A = np.array([[1, 2, 3],\n",
    "              [4, 5, 6]])\n",
    "\n",
    "Z = np.zeros_like(A)\n",
    "print(Z, '\\n')\n",
    "\n",
    "T = np.full_like(A, 3)\n",
    "print(T)"
   ]
  },
  {
   "cell_type": "markdown",
   "metadata": {},
   "source": [
    "### $ 4.2 $ Generating sequences with `arange`"
   ]
  },
  {
   "cell_type": "markdown",
   "metadata": {},
   "source": [
    "The `arange` function is much like the Python built-in `range`, but it returns an array:"
   ]
  },
  {
   "cell_type": "code",
   "execution_count": null,
   "metadata": {},
   "outputs": [],
   "source": [
    "digits = np.arange(10)\n",
    "print(type(digits), digits)"
   ]
  },
  {
   "cell_type": "markdown",
   "metadata": {},
   "source": [
    "The full syntax is `arange(<start>, <stop>, <stride>)`. Note that the starting\n",
    "value is included, but the stopping value is not (exactly as in vanilla `range`)."
   ]
  },
  {
   "cell_type": "code",
   "execution_count": null,
   "metadata": {},
   "outputs": [],
   "source": [
    "y = np.arange(4, 10, 2)\n",
    "print(y)"
   ]
  },
  {
   "cell_type": "markdown",
   "metadata": {},
   "source": [
    "One advantage of `arange` over `range` is that _it accepts arguments of type float_. For instance:"
   ]
  },
  {
   "cell_type": "code",
   "execution_count": null,
   "metadata": {},
   "outputs": [],
   "source": [
    "x = np.arange(0.1, 1, 0.1)\n",
    "print(x)"
   ]
  },
  {
   "cell_type": "markdown",
   "metadata": {},
   "source": [
    "However, this feature must be used with caution, because sometimes rounding\n",
    "errors may lead to unexpected results, as in the following example:"
   ]
  },
  {
   "cell_type": "code",
   "execution_count": null,
   "metadata": {},
   "outputs": [],
   "source": [
    "print(np.arange(1, 1.3, 0.1))\n",
    "print(\"Note that the value 1.3 was included!\")"
   ]
  },
  {
   "cell_type": "markdown",
   "metadata": {},
   "source": [
    "__Exercise:__ For each item, create a $ 1D $ array containing the elements described:\n",
    "\n",
    "(a) The sequence of even numbers between $ 2 $ and $ 19 $.\n",
    "\n",
    "(b) All integers from $ 10 $ down to $ 1 $.\n",
    "\n",
    "(c) All integers from $ 5 $  to $ 15 $ (inclusive), but represented as\n",
    "floating-point numbers.\n",
    "\n",
    "\n",
    "(d) All numbers from $ -3.14 $ to $ 2.86 = -3.14 + 6 $, with a stride of $ 2 $."
   ]
  },
  {
   "cell_type": "code",
   "execution_count": null,
   "metadata": {},
   "outputs": [],
   "source": []
  },
  {
   "cell_type": "markdown",
   "metadata": {},
   "source": [
    "### $ 4.3 $ Generating sequences with `linspace` and `logspace`"
   ]
  },
  {
   "cell_type": "markdown",
   "metadata": {},
   "source": [
    "With `linspace` we can construct an array containing evenly spaced\n",
    "values inside a specified interval. The syntax is similar to that of `arange`,\n",
    "except that _the stop value in the second argument is included_ in the result, and\n",
    "_the third argument gives the number of values to be generated_, instead of the\n",
    "step size:"
   ]
  },
  {
   "cell_type": "code",
   "execution_count": null,
   "metadata": {},
   "outputs": [],
   "source": [
    "z = np.linspace(0, 10, 11)\n",
    "print(z, '\\n')\n",
    "\n",
    "w = np.linspace(0, 10, 10)\n",
    "print(w)"
   ]
  },
  {
   "cell_type": "markdown",
   "metadata": {},
   "source": [
    "__Exercise:__ Dividing the interval $ [0, 1] $ into three equal parts, we obtain three subintervals of length $ \\frac{1}{3} $. How many subdivision points are needed? Use `linspace` to obtain them."
   ]
  },
  {
   "cell_type": "code",
   "execution_count": null,
   "metadata": {},
   "outputs": [],
   "source": []
  },
  {
   "cell_type": "markdown",
   "metadata": {},
   "source": [
    "__Exercise:__ How many bounded intervals are determined by $ n + 1 $ equally spaced points on a line?"
   ]
  },
  {
   "cell_type": "markdown",
   "metadata": {},
   "source": [
    "To recap, the syntax is `linspace(<start>, <stop (inclusive)>, <# \n",
    "elements>)`. We can exclude the stop value in `linspace` to make it behave\n",
    "more similarly to `arange` using `endpoint=False`:"
   ]
  },
  {
   "cell_type": "code",
   "execution_count": null,
   "metadata": {},
   "outputs": [],
   "source": [
    "print(np.linspace(0, 10, 10, endpoint=False))"
   ]
  },
  {
   "cell_type": "markdown",
   "metadata": {},
   "source": [
    "__Exercise:__ What happens to the result of `linspace` if the starting value is greater than the stopping value? What if they are equal? And what if the third argument is zero or negative? "
   ]
  },
  {
   "cell_type": "code",
   "execution_count": null,
   "metadata": {},
   "outputs": [],
   "source": []
  },
  {
   "cell_type": "markdown",
   "metadata": {},
   "source": [
    "The `logspace` function generates points that are evenly spaced on a\n",
    "_logarithmic_ scale. For example:"
   ]
  },
  {
   "cell_type": "code",
   "execution_count": null,
   "metadata": {},
   "outputs": [],
   "source": [
    "powers = np.logspace(-1, 2, 4)\n",
    "print(powers)"
   ]
  },
  {
   "cell_type": "markdown",
   "metadata": {},
   "source": [
    "Formally, `logspace(start, stop, num)` creates an array of values where each\n",
    "element is calculated as:\n",
    "$$\n",
    "    10^{\\text{start}} \\times 10^{\\,i \\times \\frac{\\text{stop}-\\text{start}}{\\text{num}-1}}\n",
    "    \\quad \\text{for $ i = 0, 1, 2, ..., \\text{num} - 1 $}\\,.\n",
    "$$\n",
    "Here `num` is the number of elements in the resulting array.  Thus, it is the\n",
    "_exponents_ of the numbers in the sequence that are evenly spaced, instead of\n",
    "the numbers themselves."
   ]
  },
  {
   "cell_type": "markdown",
   "metadata": {},
   "source": [
    "__Exercise:__ Create a logarithmic space from $ 10^{-2} $ to $ 10^2 $ with $ 20\n",
    "$ points.  Calculate and print the ratios between consecutive points to verify\n",
    "they are constant (which is a property of logarithmic spacing)."
   ]
  },
  {
   "cell_type": "code",
   "execution_count": null,
   "metadata": {},
   "outputs": [],
   "source": []
  },
  {
   "cell_type": "markdown",
   "metadata": {},
   "source": [
    "This type of sequence is useful for plotting data that follow a power law or\n",
    "that have a large range, for creating frequency axes for audio processing, and\n",
    "for setting learning rates in ML algorithms that require exponential decay,\n",
    "among other applications.\n",
    "\n",
    "While the default base for `logspace` is $ 10 $, we can use any other positive\n",
    "base by changing the `base` parameter. Base $ 2 $ is particularly useful\n",
    "in computing applications."
   ]
  },
  {
   "cell_type": "markdown",
   "metadata": {},
   "source": [
    "__Exercise:__ Generate all powers of $ 2 $ from $ 1 = 2^0 $ to $ 2^9 = 512 $\n",
    "by modifying the following code. Print the resulting array to check your answer."
   ]
  },
  {
   "cell_type": "code",
   "execution_count": null,
   "metadata": {},
   "outputs": [],
   "source": [
    "# powers_of_two = np.logspace(<start>, <stop>, <num>, base=2)"
   ]
  },
  {
   "cell_type": "markdown",
   "metadata": {},
   "source": [
    "## $ \\S 5 $ Other NumPy features\n",
    "\n",
    "As we will see later, arrays are far more efficient and convenient for numerical\n",
    "computation than Python's built-in data types such as lists, both in memory and\n",
    "in computational costs. NumPy is used in data analysis, machine learning,\n",
    "engineering and any other field that requires intensive\n",
    "numerical computation.  It also serves as the basis for higher-level libraries\n",
    "such as SciPy, pandas, and scikit-learn.  Other features\n",
    "supplied by NumPy include (but are not limited to):\n",
    "* Basic statistical operations;\n",
    "* Random number generation from various probability distributions;\n",
    "* Fourier transforms and signal processing;\n",
    "* Integration with several types of databases and file formats for data import/export.\n",
    "\n",
    "We will meet and use some of these in other notebooks."
   ]
  },
  {
   "cell_type": "markdown",
   "metadata": {},
   "source": [
    "⚡️ __Exercise:__ Create a function `diamond` that returns a two-dimensional integer\n",
    "array whose ones form a diamond shape, as in the following examples:"
   ]
  },
  {
   "cell_type": "code",
   "execution_count": null,
   "metadata": {},
   "outputs": [],
   "source": [
    "print(diamond(0))\n",
    "# Should print:\n",
    "# [[1]]"
   ]
  },
  {
   "cell_type": "code",
   "execution_count": null,
   "metadata": {},
   "outputs": [],
   "source": [
    "print(diamond(1))\n",
    "# Should print:\n",
    "# [[0 1 0]\n",
    "#  [1 0 1]\n",
    "#  [0 1 0]]"
   ]
  },
  {
   "cell_type": "code",
   "execution_count": null,
   "metadata": {},
   "outputs": [],
   "source": [
    "print(diamond(2))\n",
    "# Should print:\n",
    "# [[0 0 1 0 0]\n",
    "#  [0 1 0 1 0]\n",
    "#  [1 0 0 0 1]\n",
    "#  [0 1 0 1 0]\n",
    "#  [0 0 1 0 0]]"
   ]
  },
  {
   "cell_type": "markdown",
   "metadata": {},
   "source": [
    "_Hint:_ Note that for each element equal to $ 1 $, the sum of the distances to\n",
    "the central row and central column is constant."
   ]
  },
  {
   "cell_type": "code",
   "execution_count": null,
   "metadata": {},
   "outputs": [],
   "source": [
    "def diamond(n):\n",
    "    \"\"\"\n",
    "    Create a 2D array with ones forming a diamond shape.\n",
    "    \n",
    "    Parameters\n",
    "    ----------\n",
    "    n : int\n",
    "        Size parameter determining diamond dimensions.\n",
    "        \n",
    "    Returns\n",
    "    -------\n",
    "    numpy.ndarray\n",
    "        2D array with ones forming a diamond shape.\n",
    "    \"\"\"\n",
    "    # Shape of the array will be (2 * n + 1) x (2 * n + 1)"
   ]
  }
 ],
 "metadata": {
  "kernelspec": {
   "display_name": "islp",
   "language": "python",
   "name": "python3"
  },
  "language_info": {
   "codemirror_mode": {
    "name": "ipython",
    "version": 3
   },
   "file_extension": ".py",
   "mimetype": "text/x-python",
   "name": "python",
   "nbconvert_exporter": "python",
   "pygments_lexer": "ipython3",
   "version": "3.12.4"
  }
 },
 "nbformat": 4,
 "nbformat_minor": 2
}
