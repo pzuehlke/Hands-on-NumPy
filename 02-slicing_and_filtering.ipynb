{
 "cells": [
  {
   "cell_type": "code",
   "execution_count": 2,
   "metadata": {},
   "outputs": [],
   "source": [
    "import numpy as np"
   ]
  },
  {
   "cell_type": "markdown",
   "metadata": {},
   "source": [
    "# Slicing and filtering arrays"
   ]
  },
  {
   "cell_type": "markdown",
   "metadata": {},
   "source": [
    "## $ \\S 1 $ Slicing $ 1D $ arrays\n",
    "\n",
    "NumPy arrays can be sliced in a similar way to lists, by using the `:`\n",
    "operator. More precisely, in the case of $ 1D $ arrays, the syntax is\n",
    "`<array>[<start>:<stop>:<step>]`"
   ]
  },
  {
   "cell_type": "markdown",
   "metadata": {},
   "source": [
    "__Exercise:__ Let $ \\mathbf a = (0, 1, \\cdots, 10) $.\n",
    "\n",
    "(a) Instantiate this array using `arange` or with `linspace` together with the instruction `a.astype(int)`.\n",
    "\n",
    "(b) Take a slice of $ \\mathbf a $ resulting in $ (0, 1, \\cdots, 4) $.\n",
    "\n",
    "(c) Slice $ \\mathbf a $ to obtain the array $ (5, 6, \\cdots, 10) $.\n",
    "\n",
    "(d) Construct a slice to retrieve the subarray $ (3, 5, 7, 9) $.\n",
    "\n",
    "(e) Take a full slice of $ \\mathbf a $, call it $ \\mathbf b $, and modify its $ 0\n",
    "$-th element. Is $ \\mathbf a $ affected?"
   ]
  },
  {
   "cell_type": "code",
   "execution_count": null,
   "metadata": {},
   "outputs": [],
   "source": []
  },
  {
   "cell_type": "markdown",
   "metadata": {},
   "source": [
    "📝 _Slicing an array only creates a view on the original array, not a copy_.\n",
    "This behavior is by design, for efficiency reasons. However, this means that\n",
    "modifying the data in the slice will also modify the original array. We will\n",
    "discuss later how to create independent copies. (Note in contrast that slices of\n",
    "Python lists _are_ independent from their originals.)"
   ]
  },
  {
   "cell_type": "code",
   "execution_count": null,
   "metadata": {},
   "outputs": [],
   "source": []
  },
  {
   "cell_type": "markdown",
   "metadata": {},
   "source": [
    "We can also extract multiple elements of an array by listing their specific indices as follows:"
   ]
  },
  {
   "cell_type": "code",
   "execution_count": null,
   "metadata": {},
   "outputs": [
    {
     "name": "stdout",
     "output_type": "stream",
     "text": [
      "[-9 -7 -5 -3 -1  1  3  5  7  9]\n",
      "[-9 -5  1]\n"
     ]
    }
   ],
   "source": [
    "b = np.arange(-9, 10, 2)  # Odd numbers between -9 and 9\n",
    "print(b)\n",
    "print(b[[0, 2, 5]])  # Elements at positions 0, 2, and 5\n"
   ]
  },
  {
   "cell_type": "markdown",
   "metadata": {},
   "source": [
    "## $ \\S 2 $ Slicing general arrays\n",
    "\n",
    "Slicing becomes more interesting with higher-dimensional arrays. For a $ 2D $\n",
    "array, in principle we need to specify slices for both dimensions, separated by\n",
    "a comma. If we use a single slice, then we are indexing into full rows."
   ]
  },
  {
   "cell_type": "code",
   "execution_count": null,
   "metadata": {},
   "outputs": [
    {
     "name": "stdout",
     "output_type": "stream",
     "text": [
      "[[1 2 3]\n",
      " [4 5 6]\n",
      " [7 8 9]] \n",
      "\n",
      "[4 5 6] \n",
      "\n",
      "[3 6 9] \n",
      "\n",
      "[[2 3]\n",
      " [5 6]] \n",
      "\n",
      "[[1 2 3]\n",
      " [4 5 6]]\n"
     ]
    }
   ],
   "source": [
    "M = np.array([[1, 2, 3],\n",
    "              [4, 5, 6],\n",
    "              [7, 8, 9]])\n",
    "print(M, '\\n')\n",
    "\n",
    "# Accessing a specific row:\n",
    "print(M[1, :], '\\n')  # 'First' row\n",
    "\n",
    "# Accessing a specific column:\n",
    "print(M[:, 2], '\\n')  # 'Second' column\n",
    "\n",
    "# Sub-array slicing:\n",
    "print(M[0:2, 1:3], '\\n')  # Top right 2x2 sub-array\n",
    "\n",
    "# If we use only one slice, then entire rows are extracted:\n",
    "print(M[0:2])  # First 2 rows\n"
   ]
  },
  {
   "cell_type": "markdown",
   "metadata": {},
   "source": [
    "📝 If instead of using a slice we specify a single index for some dimension,\n",
    "then that dimension \"collapses\". In particular, the resulting array will have a\n",
    "smaller number of dimensions. This is illustrated in the following example:"
   ]
  },
  {
   "cell_type": "code",
   "execution_count": null,
   "metadata": {},
   "outputs": [
    {
     "name": "stdout",
     "output_type": "stream",
     "text": [
      "[[1 2 3]\n",
      " [4 5 6]\n",
      " [7 8 9]] \n",
      "\n",
      "[[4 5 6]] \n",
      "\n",
      "[4 5 6] \n",
      "\n"
     ]
    }
   ],
   "source": [
    "M = np.array([[1, 2, 3],\n",
    "              [4, 5, 6],\n",
    "              [7, 8, 9]])\n",
    "print(M, '\\n')\n",
    "\n",
    "# Extracting row 1 through a double slice:\n",
    "print(M[1:2, :], '\\n')  # The result is still a 2D array\n",
    "\n",
    "# Extracting row 1 by indexing into it:\n",
    "print(M[1, :], '\\n')  # The result is a 1D array"
   ]
  },
  {
   "cell_type": "markdown",
   "metadata": {},
   "source": [
    "Finally, just as for $ 1D $ arrays, instead of using a slice, we can also\n",
    "specify a list of the indices that we want to index into, along any dimension.\n",
    "This allows us to work with more complicated sets of indices."
   ]
  },
  {
   "cell_type": "code",
   "execution_count": null,
   "metadata": {},
   "outputs": [
    {
     "name": "stdout",
     "output_type": "stream",
     "text": [
      "[[3 0 1 6 8]\n",
      " [8 4 8 3 8]\n",
      " [3 4 3 8 7]] \n",
      "\n",
      "[[3 0 6]\n",
      " [8 4 3]\n",
      " [3 4 8]]\n"
     ]
    }
   ],
   "source": [
    "# A 3x5 array with uniformly random integer coordinates between 0 and 9:\n",
    "R = np.random.randint(0, 10, (3, 5)) \n",
    "print(R, '\\n')\n",
    "\n",
    "# Extracting its columns of indices 0, 1 and 3:\n",
    "S = R[:, [0, 1, 3]]\n",
    "print(S)"
   ]
  },
  {
   "cell_type": "markdown",
   "metadata": {},
   "source": [
    "__Exercise:__ Create a $ 2D $ array of shape $ (4, 4) $ filled with your\n",
    "favorite integers and print it for reference.\n",
    "\n",
    "(a) Extract the last row to produce a $ 1D $ array.\n",
    "\n",
    "(b) Extract the column of index $ 3 $, as a $ 2D $ array.\n",
    "\n",
    "(c) Extract a $ 2\\times 2 $ sub-array from the center of this array.\n",
    "\n",
    "(d) Extract the $ 3 \\times 2 $ lower-left corner of the array.\n",
    "\n",
    "(e) Extract the subarray consisting of columns indexed by $ 1 $ and $ 3 $ in two\n",
    "different ways: by specifying these columns explicitly, and by using a slice\n",
    "with step size $ 2 $."
   ]
  },
  {
   "cell_type": "code",
   "execution_count": null,
   "metadata": {},
   "outputs": [],
   "source": []
  },
  {
   "cell_type": "markdown",
   "metadata": {},
   "source": [
    "📝 All of the principles we have seen extend to arrays of higher dimensions. For\n",
    "each dimension, you can specify a `<start>:<stop>:<step>` slice, separated by\n",
    "commas."
   ]
  },
  {
   "cell_type": "markdown",
   "metadata": {},
   "source": [
    "## $ \\S 3 $ Boolean indexing\n",
    "\n",
    "__Boolean indexing__ is a powerful feature that allows us to select elements\n",
    "from an array using an array of boolean values of the same shape. This method is\n",
    "particularly useful for filtering elements based on some condition. Here's an\n",
    "example:"
   ]
  },
  {
   "cell_type": "code",
   "execution_count": 8,
   "metadata": {},
   "outputs": [
    {
     "name": "stdout",
     "output_type": "stream",
     "text": [
      "original array: [1 2 3 4 5]\n",
      "filter:  [False False  True  True  True]\n",
      "selected elements: [3 4 5]\n"
     ]
    }
   ],
   "source": [
    "v = np.array([1, 2, 3, 4, 5])\n",
    "print(\"original array:\", v)\n",
    "\n",
    "# Create a boolean index array:\n",
    "filter = v > 2\n",
    "print(\"filter: \", filter)\n",
    "\n",
    "# Use boolean indexing to select elements:\n",
    "selected_elements = v[filter]\n",
    "print(\"selected elements:\", selected_elements)"
   ]
  },
  {
   "cell_type": "markdown",
   "metadata": {},
   "source": [
    "In NumPy, and Python in general, the boolean value `True` is treated as\n",
    "equivalent to $ 1 $ in numerical contexts, and `False` is equivalent to\n",
    "$ 0 $. Thus, in the preceding example, we can find the number of elements\n",
    "greater than $ 2 $ by taking the sum of the entries in the filter\n",
    "(we will return to the `np.sum` function later):"
   ]
  },
  {
   "cell_type": "code",
   "execution_count": 9,
   "metadata": {},
   "outputs": [
    {
     "name": "stdout",
     "output_type": "stream",
     "text": [
      "# of elements greater than two: 3\n",
      "2\n"
     ]
    }
   ],
   "source": [
    "print(\"# of elements greater than two:\", np.sum(filter))"
   ]
  },
  {
   "cell_type": "markdown",
   "metadata": {},
   "source": [
    "Here's a more interesting example. Consider a workplace where employees log\n",
    "their daily hours. Consider the problem of retrieving the instances where\n",
    "one of the employees worked overtime. The information is stored over two arrays:\n",
    "* A $ 1D $ array `names` containing the names of five employees.\n",
    "* A $ 2D $ array `hours` whose $ i $-th row corresponds to the $ i $-th employee\n",
    "  listed in `names`, and whose columns correspond to the number of hours worked over two weeks."
   ]
  },
  {
   "cell_type": "code",
   "execution_count": 10,
   "metadata": {},
   "outputs": [],
   "source": [
    "# Names of employees:\n",
    "names = np.array([\"Alice\", \"Bob\", \"Carol\", \"Dave\", \"Alice\", \"Carol\", \"Dave\", \"Bob\"])\n",
    "\n",
    "# Array of hours worked each day for two weeks:\n",
    "hours = np.array([\n",
    "    [9, 8, 10, 8, 7],  # Alice, week 1\n",
    "    [7, 8, 9, 8, 6],   # Bob, week 1\n",
    "    [10, 7, 12, 8, 9], # Carol, week 1\n",
    "    [6, 5, 7, 6, 8],   # Dave, week 1\n",
    "    [8, 9, 7, 10, 8],  # Alice, week 2\n",
    "    [8, 9, 10, 8, 10], # Carol, week 2\n",
    "    [8, 9, 7, 8, 7],   # Dave, week 2\n",
    "    [7, 8, 6, 5, 9]    # Bob, week 2\n",
    "])"
   ]
  },
  {
   "cell_type": "markdown",
   "metadata": {},
   "source": [
    "We can extract all of the hours worked by Carol during these two weeks by:\n",
    "* Creating a boolean filter `names == \"Carol\"`.\n",
    "* Using this to index into `hours`, more precisely its rows."
   ]
  },
  {
   "cell_type": "code",
   "execution_count": null,
   "metadata": {},
   "outputs": [
    {
     "name": "stdout",
     "output_type": "stream",
     "text": [
      "[[10  7 12  8  9]\n",
      " [ 8  9 10  8 10]]\n"
     ]
    }
   ],
   "source": [
    "# Filter to select rows for a specific employee, Carol:\n",
    "mask = (names == \"Carol\")\n",
    "hours_Carol = hours[mask]\n",
    "print(hours_Carol)"
   ]
  },
  {
   "cell_type": "markdown",
   "metadata": {},
   "source": [
    "Now we can use another filter to obtain the times when Carol worked overtime\n",
    "(and the corresponding hours). Note that the result is a $ 1D $ array:"
   ]
  },
  {
   "cell_type": "code",
   "execution_count": null,
   "metadata": {},
   "outputs": [
    {
     "name": "stdout",
     "output_type": "stream",
     "text": [
      "[10 12  9  9 10 10]\n"
     ]
    }
   ],
   "source": [
    "overtime_Carol = hours_Carol[hours_Carol > 8]\n",
    "print(overtime_Carol)"
   ]
  },
  {
   "cell_type": "markdown",
   "metadata": {},
   "source": [
    "📝 We can craft more complex filters by using the usual boolean operators\n",
    "__and__, __or__ and __negation__. However, their Python versions `and`, `or` and\n",
    "`not` do not work with boolean arrays. Instead, we should use `&`, `|` and `~`,\n",
    "respectively. The __exclusive or__ (__xor__) operator is denoted by `^`."
   ]
  },
  {
   "cell_type": "markdown",
   "metadata": {},
   "source": [
    "__Exercise:__ Referring to the preceding example, extract:\n",
    "\n",
    "(a) The overtime hours worked by Alice or by Bob.\n",
    "\n",
    "(b) The numbers of hours between $ 7 $ and $ 9 $ worked by anyone except Dave."
   ]
  },
  {
   "cell_type": "code",
   "execution_count": null,
   "metadata": {},
   "outputs": [],
   "source": []
  },
  {
   "cell_type": "markdown",
   "metadata": {},
   "source": [
    "__Exercise:__ You're provided below with a dataset `rainfall_data` of daily\n",
    "rainfall measurements (in millimeters) in a city for four months (June to\n",
    "September), stored as a $ 2D $ NumPy array.  Each row represents a month, and each\n",
    "column represents a day.\n",
    "\n",
    "(a) Compute the average rainfall and the standard deviation of the sample\n",
    "across the entire period using the functions `np.mean` and `np.std`.\n",
    "\n",
    "(b) Identify days with above-average rainfall for each month, and calculate the\n",
    "percentage of such days in each month. _Hint:_ Use a for loop to iterate over\n",
    "each month/row of the dataset. Use a Boolean filter to find which days\n",
    "had greater than average rainfall and take the sum of the `True` values\n",
    "as discussed above to compute the percentages. "
   ]
  },
  {
   "cell_type": "code",
   "execution_count": null,
   "metadata": {},
   "outputs": [],
   "source": [
    "np.random.seed(123456789)\n",
    "\n",
    "# Sample mean and standard deviation for each month (in mm):\n",
    "mean_rainfall = [1.5, 2.7, 2.7, 0.9]  # Average daily rainfall (mm) for June, July, August, September\n",
    "std_deviation = [1.5, 2, 2.5, 1.5]  # Variability in daily rainfall (mm)\n",
    "\n",
    "# Generating the 2D array of rainfall data:\n",
    "months = [\"June\", \"July\", \"August\", \"September\"]\n",
    "days_in_month = 30\n",
    "rainfall_data = np.zeros((4, days_in_month))\n",
    "\n",
    "for i in range(4):\n",
    "    # Simulate daily rainfall using a normal distribution:\n",
    "    rainfall_data[i, :] = np.clip(np.random.normal(mean_rainfall[i],\n",
    "                                  std_deviation[i], days_in_month), 0, None)\n",
    "# Round to 2 decimal digits:\n",
    "rainfall_data = np.round(rainfall_data, 2)"
   ]
  },
  {
   "cell_type": "code",
   "execution_count": null,
   "metadata": {},
   "outputs": [
    {
     "name": "stdout",
     "output_type": "stream",
     "text": [
      "[[4.82 4.69 4.26 1.62 2.79 0.26 3.24 3.56 2.91 2.77 2.29 0.65 2.75 1.85\n",
      "  0.23 0.   1.55 2.07 0.3  0.25 0.   1.78 1.42 3.09 2.37 1.02 1.1  1.98\n",
      "  3.56 1.19]\n",
      " [3.25 3.03 1.83 2.89 0.   3.86 9.27 3.12 1.66 6.75 3.34 1.62 1.77 3.44\n",
      "  2.05 4.97 0.   0.19 2.66 4.4  1.84 2.44 0.76 0.   1.29 1.43 2.95 4.09\n",
      "  4.81 3.46]\n",
      " [3.49 1.97 4.84 1.42 0.52 3.14 1.3  1.48 1.29 0.71 4.79 1.14 1.37 0.43\n",
      "  6.15 2.31 1.46 4.01 3.85 0.56 0.65 4.01 4.39 1.43 2.33 6.08 7.46 3.95\n",
      "  7.37 2.54]\n",
      " [0.09 3.55 0.37 0.   1.54 1.46 0.61 0.   1.08 2.33 0.19 0.   0.   1.42\n",
      "  0.   2.57 1.65 2.28 0.48 0.48 4.24 0.48 0.   1.08 1.62 0.   2.26 2.73\n",
      "  0.   1.73]]\n"
     ]
    }
   ],
   "source": [
    "print(rainfall_data)"
   ]
  },
  {
   "cell_type": "code",
   "execution_count": null,
   "metadata": {},
   "outputs": [],
   "source": []
  }
 ],
 "metadata": {
  "kernelspec": {
   "display_name": "Python 3",
   "language": "python",
   "name": "python3"
  },
  "language_info": {
   "codemirror_mode": {
    "name": "ipython",
    "version": 3
   },
   "file_extension": ".py",
   "mimetype": "text/x-python",
   "name": "python",
   "nbconvert_exporter": "python",
   "pygments_lexer": "ipython3",
   "version": "3.12.3"
  }
 },
 "nbformat": 4,
 "nbformat_minor": 2
}
