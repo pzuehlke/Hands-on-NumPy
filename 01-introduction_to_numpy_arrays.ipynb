{
 "cells": [
  {
   "cell_type": "markdown",
   "metadata": {},
   "source": [
    "# Introduction to NumPy arrays\n",
    "\n",
    "## $ \\S 1 $ Motivation\n",
    "\n",
    "Suppose that we wish to represent three-dimensional vectors such as $ \\mathbf{u}\n",
    "= (1, 2, 3) $ or $ \\mathbf{v} = (-1, 0, 1) $ in Python. It is natural to think\n",
    "that either lists or tuples might be a good choice for this task."
   ]
  },
  {
   "cell_type": "code",
   "execution_count": 7,
   "metadata": {},
   "outputs": [],
   "source": [
    "u = [1, 2, 3]   # Create a list whose elements are 1, 2, 3\n",
    "v = [-1, 0, 1]"
   ]
  },
  {
   "cell_type": "markdown",
   "metadata": {},
   "source": [
    "However, at some point we will probably wish not only to store, but to manipulate\n",
    "these vectors. For instance, how can we add $ \\mathbf u $ and $ \\mathbf v $ or\n",
    "take a multiple of $ \\mathbf v $? It is reasonable to try the following code:"
   ]
  },
  {
   "cell_type": "code",
   "execution_count": 8,
   "metadata": {},
   "outputs": [
    {
     "name": "stdout",
     "output_type": "stream",
     "text": [
      "[1, 2, 3, -1, 0, 1]\n",
      "[-1, 0, 1, -1, 0, 1, -1, 0, 1]\n"
     ]
    }
   ],
   "source": [
    "s = u + v\n",
    "multiple = 3 * v\n",
    "\n",
    "print(s)\n",
    "print(multiple)"
   ]
  },
  {
   "cell_type": "markdown",
   "metadata": {},
   "source": [
    "These unexpected results can be explained by recalling that for either lists or\n",
    "tuples (or strings), the `+` operator denotes _concatenation_, not addition; and\n",
    "accordingly, `*` denotes _repetition_, not multiplication. This behavior is not\n",
    "so strange at all if we take into account that lists and tuples are _generic_\n",
    "sequential types, capable of holding objects of arbitrary types, for which\n",
    "addition and multiplication might not make sense."
   ]
  },
  {
   "cell_type": "markdown",
   "metadata": {},
   "source": [
    "__Exercise:__ What happens if you represent $ \\mathbf u $ and $ \\mathbf v $ as\n",
    "tuples and try to take their difference $ \\mathbf u - \\mathbf v $? What if they\n",
    "are represented as lists?"
   ]
  },
  {
   "cell_type": "code",
   "execution_count": null,
   "metadata": {},
   "outputs": [],
   "source": []
  },
  {
   "cell_type": "markdown",
   "metadata": {},
   "source": [
    "Vectors and matrices are fundamental objects in engineering, data\n",
    "science and machine learning. There is thus a clear need for a library that\n",
    "extends Python by providing efficient ways to operate on these objects."
   ]
  },
  {
   "cell_type": "markdown",
   "metadata": {},
   "source": [
    "## $ \\S 2 $ Arrays\n",
    "\n",
    "**NumPy**, which stands for _Numerical Python_, is a foundational package\n",
    "for scientific computing in Python. It is almost universally imported with the\n",
    "`np` alias, as follows:"
   ]
  },
  {
   "cell_type": "code",
   "execution_count": 9,
   "metadata": {},
   "outputs": [],
   "source": [
    "import numpy as np"
   ]
  },
  {
   "cell_type": "markdown",
   "metadata": {},
   "source": [
    "📝 Although we could also import every object/function in NumPy with\n",
    "`from numpy import *` and thereby avoid having to type the `np.` prefix\n",
    "everytime, this is not recommended, because it may lead to conflicts with names\n",
    "in pure Python (for example `max` and `min`) or those used by other modules (such\n",
    "as `exp` and `sqrt` from the Math module)."
   ]
  },
  {
   "cell_type": "markdown",
   "metadata": {},
   "source": [
    "The central feature in NumPy is a new data structure called **ndarray** (an\n",
    "abbreviation of $n$-dimensional array), or simply **array**. An ndarray is a\n",
    "grid of values _of the same datatype_; in other words, arrays must be\n",
    "**homogeneous**. In most applications this datatype is numerical (say, the elements\n",
    "of the array are all integers or all floating-point numbers). However,\n",
    "it is also possible to create an array whose elements are booleans or strings,\n",
    "for example.\n",
    "\n",
    "A $ 1 $-dimensional numerical array is similar to a vector in the sense of\n",
    "Linear Algebra, as in the discussion in $ \\S 1 $.  Arrays can be instantiated\n",
    "with the `array` function:"
   ]
  },
  {
   "cell_type": "code",
   "execution_count": 10,
   "metadata": {},
   "outputs": [
    {
     "name": "stdout",
     "output_type": "stream",
     "text": [
      "[1 2 3]\n",
      "The type of an array such as u is: <class 'numpy.ndarray'>\n"
     ]
    }
   ],
   "source": [
    "u = np.array([1, 2, 3])     # Calling `array` on the list [1, 2, 3]\n",
    "print(u)\n",
    "print(f\"The type of an array such as u is: {type(u)}\")"
   ]
  },
  {
   "cell_type": "markdown",
   "metadata": {},
   "source": [
    "Note the absence of commas separating the entries of the array when it is displayed\n",
    "(in contrast to lists)."
   ]
  },
  {
   "cell_type": "markdown",
   "metadata": {},
   "source": [
    "__Exercise:__ Define the vector\n",
    "$ \\mathbf a = \\frac{1}{2} \\big(1, 1, 1, 1 \\big) \\in \\mathbb R^4 $ as a NumPy array.\n",
    "What is the length (norm) of $ \\mathbf a $?"
   ]
  },
  {
   "cell_type": "code",
   "execution_count": null,
   "metadata": {},
   "outputs": [],
   "source": []
  },
  {
   "cell_type": "markdown",
   "metadata": {},
   "source": [
    "__Exercise:__ Print and determine the type of the following array."
   ]
  },
  {
   "cell_type": "code",
   "execution_count": 11,
   "metadata": {},
   "outputs": [],
   "source": [
    "b = np.array([True, False, True, False])"
   ]
  },
  {
   "cell_type": "markdown",
   "metadata": {},
   "source": [
    "The argument of the `array` function can be a list, a tuple, a range, another\n",
    "array or any array-like object."
   ]
  },
  {
   "cell_type": "code",
   "execution_count": 23,
   "metadata": {},
   "outputs": [
    {
     "name": "stdout",
     "output_type": "stream",
     "text": [
      "[-1  0  1]\n"
     ]
    }
   ],
   "source": [
    "v = np.array((-1, 0, 1))    # The argument of `array` can also be a tuple\n",
    "print(v)"
   ]
  },
  {
   "cell_type": "markdown",
   "metadata": {},
   "source": [
    "Notice that the type of an array as a whole is always the same (`numpy.ndarray`)\n",
    "and should not be confused with its _datatype_, which is the type of the\n",
    "_elements_ it holds. We can determine the datatype of an array $ \\mathbf a $ through `a.dtype`:"
   ]
  },
  {
   "cell_type": "code",
   "execution_count": 13,
   "metadata": {},
   "outputs": [
    {
     "data": {
      "text/plain": [
       "dtype('int64')"
      ]
     },
     "execution_count": 13,
     "metadata": {},
     "output_type": "execute_result"
    }
   ],
   "source": [
    "u.dtype"
   ]
  },
  {
   "cell_type": "markdown",
   "metadata": {},
   "source": [
    "As we can see, the array $ \\mathbf u $ defined above holds $ 64 $-bit integers.\n",
    "\n",
    "__Exercise:__ Determine the datatype of the array $ \\mathbf b $ in the previous exercise\n",
    "and of the array $ \\mathbf c $ defined below."
   ]
  },
  {
   "cell_type": "code",
   "execution_count": 14,
   "metadata": {},
   "outputs": [],
   "source": [
    "c = np.array([1, 2, 3.])"
   ]
  },
  {
   "cell_type": "markdown",
   "metadata": {},
   "source": [
    "## $ \\S 3 $ Multi-dimensional arrays\n",
    "\n",
    "The number of dimensions of an array is also called its\n",
    "**rank**. A $ 2 $-dimensional array, or array of rank $ 2 $, is just a matrix. "
   ]
  },
  {
   "cell_type": "code",
   "execution_count": 15,
   "metadata": {},
   "outputs": [
    {
     "name": "stdout",
     "output_type": "stream",
     "text": [
      "[[1 1 1 1]\n",
      " [2 2 2 2]\n",
      " [3 3 3 3]]\n",
      "<class 'numpy.ndarray'>\n"
     ]
    }
   ],
   "source": [
    "A = np.array([[1, 1, 1, 1],   # first row of matrix A\n",
    "              [2, 2, 2, 2],   # second row\n",
    "              [3, 3, 3, 3]])  # third row\n",
    "print(A)\n",
    "print(type(A))  # Print the type of object A"
   ]
  },
  {
   "cell_type": "markdown",
   "metadata": {},
   "source": [
    "Notice the use of _double_ brackets here: the first opening bracket `[` serves\n",
    "to delimit the array itself, while the second one is being used to delimit the elements\n",
    "of the first row. The rows are separated by commas, as are elements within each row.\n",
    "\n",
    "📝 In the code of the preceding example, each row of the matrix appears by\n",
    "itself on a line to improve legibility, but the newline characters do not\n",
    "actually delimit the lines (the commas and brackets do).\n",
    "Hence, the following produces the same result:"
   ]
  },
  {
   "cell_type": "code",
   "execution_count": 17,
   "metadata": {},
   "outputs": [
    {
     "name": "stdout",
     "output_type": "stream",
     "text": [
      "[[1 1 1 1]\n",
      " [2 2 2 2]\n",
      " [3 3 3 3]]\n"
     ]
    }
   ],
   "source": [
    "A = np.array([[1, 1, 1, 1], [2, 2, 2, 2], [3, 3, 3, 3]])\n",
    "print(A)"
   ]
  },
  {
   "cell_type": "markdown",
   "metadata": {},
   "source": [
    "__Exercise:__ Create and display the matrix\n",
    "$$\n",
    "    T = \\begin{bmatrix}\n",
    "    \\phantom{-}0 & \\phantom{-}1 & \\phantom{-}0 \\\\\n",
    "    -1 & \\phantom{-}0 & \\phantom{-}1 \\\\\n",
    "    \\phantom{-}0 & -1 & \\phantom{-}0\n",
    "    \\end{bmatrix}\n",
    "$$"
   ]
  },
  {
   "cell_type": "code",
   "execution_count": null,
   "metadata": {},
   "outputs": [],
   "source": []
  },
  {
   "cell_type": "markdown",
   "metadata": {},
   "source": [
    "__Exercise:__ Create a $ 3\\times 3 $ array to represent a tic-tac-toe board\n",
    "Use the string `' '` (single whitespace) for an empty cell, and the strings\n",
    "`'X'` and `'O'` for the pieces placed by each of the two players.\n",
    "Set up the board for the following game state:\n",
    "~~~\n",
    " X |   | O \n",
    "---+---+---\n",
    "   | X |   \n",
    "---+---+---\n",
    " O |   | X \n",
    "~~~"
   ]
  },
  {
   "cell_type": "code",
   "execution_count": null,
   "metadata": {},
   "outputs": [],
   "source": [
    "game_board = np.array(...)\n",
    "\n",
    "print(game_board)"
   ]
  },
  {
   "cell_type": "markdown",
   "metadata": {},
   "source": [
    "The __shape__ of an array is a tuple of integers indicating the size of each of\n",
    "its dimensions. The preceding array $ A $ has shape $ (3, 4) $ since it\n",
    "has three rows and four columns."
   ]
  },
  {
   "cell_type": "code",
   "execution_count": 14,
   "metadata": {},
   "outputs": [
    {
     "name": "stdout",
     "output_type": "stream",
     "text": [
      "(3, 4)\n"
     ]
    }
   ],
   "source": [
    "print(A.shape)  # Print the shape of A"
   ]
  },
  {
   "cell_type": "markdown",
   "metadata": {},
   "source": [
    "__Exercise:__ What is the shape of a one-dimensional array, for instance the array\n",
    "$ \\mathbf b $ below? Can you explain the result of `b.shape`?"
   ]
  },
  {
   "cell_type": "code",
   "execution_count": 19,
   "metadata": {},
   "outputs": [],
   "source": [
    "b = np.array([True, False, False, True, False])"
   ]
  },
  {
   "cell_type": "markdown",
   "metadata": {},
   "source": [
    "__Exercise:__ How would you create the matrix\n",
    "$$\n",
    "\\mathbf B = \\begin{equation*}\n",
    "\\left[ \\begin{array}{cc}\n",
    "b_{11} & b_{12} \\\\\n",
    "b_{21} & b_{22} \\\\\n",
    "b_{31} & b_{32} \\\\\n",
    "b_{41} & b_{42}\n",
    "\\end{array} \\right]\n",
    "\\end{equation*}\n",
    "$$\n",
    "where $ b_{ij} = i \\cdot j $?"
   ]
  },
  {
   "cell_type": "code",
   "execution_count": null,
   "metadata": {},
   "outputs": [],
   "source": []
  },
  {
   "cell_type": "markdown",
   "metadata": {},
   "source": [
    "We may also use `array` to convert an existing list or tuple (or any other\n",
    "iterable like a range, set or dict) to a one-dimensional array:"
   ]
  },
  {
   "cell_type": "code",
   "execution_count": 21,
   "metadata": {},
   "outputs": [
    {
     "name": "stdout",
     "output_type": "stream",
     "text": [
      "[3.14 2.72 1.62]\n",
      "['pi' 'e' 'phi']\n"
     ]
    }
   ],
   "source": [
    "pi = 3.14\n",
    "e = 2.72\n",
    "phi = 1.62\n",
    "\n",
    "constants = [pi, e, phi]      # Create a list containing the values of three important numbers\n",
    "names = ('pi', 'e', 'phi')    # Create a tuple containing their names and assign it to `names`\n",
    "\n",
    "print(np.array(constants))    # Convert `constants` to an array and print the result\n",
    "print(np.array(names))        # Convert `names` to an array and print the result"
   ]
  },
  {
   "cell_type": "markdown",
   "metadata": {},
   "source": [
    "__Exercise:__ Can you make your solution to the previous exercise more efficient\n",
    "by using a list comprehension to generate the $ b_{ij} $ and then\n",
    "converting the list to an array? _Hint:_ You will need a double comprehension, of the form `[[... for j in ...] for i in ...]`. "
   ]
  },
  {
   "cell_type": "code",
   "execution_count": null,
   "metadata": {},
   "outputs": [],
   "source": []
  },
  {
   "cell_type": "markdown",
   "metadata": {},
   "source": [
    "📝 To recap, `ndarray` is the official name of the data type provided by NumPy, and `array` is both\n",
    "the informal name of this data type and the name of the function that we can use\n",
    "to create ndarrays.\n",
    "\n",
    "\n",
    "A $ 3D$ array is to a matrix as a solid block is to a rectangle. In other words,\n",
    "a rank $ 3 $ array is one having three axes instead of only two.\n",
    "\n",
    "<img src=\"array_3D.png\" alt=\"drawing\" width=\"400\"/>\n",
    "\n",
    "__Exercise:__ What is the rank and shape of the array depicted above?\n",
    "\n",
    "Here's a concrete example of a $ 3D $ array of shape $ 2 \\times 2 \\times 2 $.\n",
    "Think of it as an array having $ 2 $ \"rows\",\n",
    "each of which is a $ 2 \\times 2 $ matrix."
   ]
  },
  {
   "cell_type": "code",
   "execution_count": 3,
   "metadata": {},
   "outputs": [
    {
     "name": "stdout",
     "output_type": "stream",
     "text": [
      "[[[1 2]\n",
      "  [3 4]]\n",
      "\n",
      " [[5 6]\n",
      "  [7 8]]]\n"
     ]
    }
   ],
   "source": [
    "A = np.array([[[1, 2],   # The first \"row\" is a 2x2 matrix\n",
    "               [3, 4]], \n",
    "\n",
    "              [[5, 6],   # The second \"row\" is also a 2x2 matrix\n",
    "               [7, 8]]])\n",
    "print(A)"
   ]
  },
  {
   "cell_type": "markdown",
   "metadata": {},
   "source": [
    "__Exercise:__ What happens if you delete the blank line inside the definition of $ A $ above?\n",
    "What happens if you insert an additional blank line?\n",
    "\n",
    "Note that a $ 3D $ array need not be a \"cube\" (i.e., have all three dimensions\n",
    "of the same length) as in the previous example.\n",
    "\n",
    "__Exercise:__ Build a three-dimensional array of shape $ (2, 3, 4) $. "
   ]
  },
  {
   "cell_type": "code",
   "execution_count": null,
   "metadata": {},
   "outputs": [],
   "source": []
  },
  {
   "cell_type": "markdown",
   "metadata": {},
   "source": [
    "There is no bound on the number of dimensions that an array can have, although\n",
    "for most applications, arrays of dimension greater than $ 3 $ are rarely used."
   ]
  },
  {
   "cell_type": "markdown",
   "metadata": {},
   "source": [
    "## $ \\S 4 $ Other ways to create arrays\n",
    "\n",
    "### $ 4.1 $ Filling arrays automatically"
   ]
  },
  {
   "cell_type": "markdown",
   "metadata": {},
   "source": [
    "There are other ways of creating arrays that are often more convenient than through use of the `array` function. For instance,\n",
    "to instantiate an array of a desired shape filled with $ 0\\text{s} $, we can use the function `zeros`:"
   ]
  },
  {
   "cell_type": "code",
   "execution_count": 8,
   "metadata": {},
   "outputs": [
    {
     "name": "stdout",
     "output_type": "stream",
     "text": [
      "[[0. 0. 0. 0.]\n",
      " [0. 0. 0. 0.]\n",
      " [0. 0. 0. 0.]\n",
      " [0. 0. 0. 0.]]\n"
     ]
    }
   ],
   "source": [
    "Z = np.zeros((4, 4))  # The parameter of `zeros` is the shape you want\n",
    "print(Z)"
   ]
  },
  {
   "cell_type": "markdown",
   "metadata": {},
   "source": [
    "📝 Note the necessary double parentheses in this call, one to delimit the\n",
    "arguments of the function and the other to specify the shape, which is always a\n",
    "tuple. However, if you want to create a $ 1D $ array having, say, $ 10 $ coordinates\n",
    "equal to $ 0 $, then you can use either `np.zeros((10,))` or `np.zeros(10)`.\n",
    "\n",
    "__Exercise:__ Create and print a $ 3D $ array of shape $ (3, 4, 5) $ filled with zeros."
   ]
  },
  {
   "cell_type": "code",
   "execution_count": null,
   "metadata": {},
   "outputs": [],
   "source": []
  },
  {
   "cell_type": "markdown",
   "metadata": {},
   "source": [
    "Arrays can also be automatically populated with $ 1\\text{s} $ by means of the function `ones`: "
   ]
  },
  {
   "cell_type": "code",
   "execution_count": 9,
   "metadata": {},
   "outputs": [
    {
     "name": "stdout",
     "output_type": "stream",
     "text": [
      "[[1. 1. 1.]\n",
      " [1. 1. 1.]]\n"
     ]
    }
   ],
   "source": [
    "U = np.ones((2, 3))\n",
    "print(U)"
   ]
  },
  {
   "cell_type": "markdown",
   "metadata": {},
   "source": [
    "Generalizing `zeros` and `ones`, the `full` function creates an array of a\n",
    "specified shape, filled entirely with a prescribed value:"
   ]
  },
  {
   "cell_type": "code",
   "execution_count": 3,
   "metadata": {},
   "outputs": [
    {
     "name": "stdout",
     "output_type": "stream",
     "text": [
      "[[3.14 3.14 3.14 3.14 3.14]\n",
      " [3.14 3.14 3.14 3.14 3.14]\n",
      " [3.14 3.14 3.14 3.14 3.14]]\n"
     ]
    }
   ],
   "source": [
    "import numpy as np\n",
    "# Create a 3x5 array where every element equals 3.14:\n",
    "P = np.full((3, 5), 3.14)\n",
    "print(P)"
   ]
  },
  {
   "cell_type": "markdown",
   "metadata": {},
   "source": [
    "__Exercise:__ Create a $ 1D $ array having $ 50 $ coordinates, all of them equal to $ 1 $, in two different ways."
   ]
  },
  {
   "cell_type": "code",
   "execution_count": null,
   "metadata": {},
   "outputs": [],
   "source": []
  },
  {
   "cell_type": "markdown",
   "metadata": {},
   "source": [
    "Finally, we can create a new array _of the same shape and datatype_ as a\n",
    "given array $ A $ but filled with zeros, ones or some other specified value with the\n",
    "functions `zeros_like`, `ones_like` and `full_like`, respectively:"
   ]
  },
  {
   "cell_type": "code",
   "execution_count": 15,
   "metadata": {},
   "outputs": [
    {
     "name": "stdout",
     "output_type": "stream",
     "text": [
      "[[0 0 0]\n",
      " [0 0 0]]\n",
      "[[3 3 3]\n",
      " [3 3 3]]\n"
     ]
    }
   ],
   "source": [
    "A = np.array([[1, 2, 3],\n",
    "              [4, 5, 6]])\n",
    "\n",
    "Z = np.zeros_like(A)\n",
    "print(Z)\n",
    "\n",
    "T = np.full_like(A, 3)\n",
    "print(T)"
   ]
  },
  {
   "cell_type": "markdown",
   "metadata": {},
   "source": [
    "### $ 4.2 $ Generating sequences with `arange` and `linspace`"
   ]
  },
  {
   "cell_type": "markdown",
   "metadata": {},
   "source": [
    "The `arange` function is much like the Python built-in `range`, but it returns an ndarray:"
   ]
  },
  {
   "cell_type": "code",
   "execution_count": 10,
   "metadata": {},
   "outputs": [
    {
     "name": "stdout",
     "output_type": "stream",
     "text": [
      "<class 'numpy.ndarray'> [0 1 2 3 4 5 6 7 8 9]\n"
     ]
    }
   ],
   "source": [
    "digits = np.arange(10)\n",
    "print(type(digits), digits)\n"
   ]
  },
  {
   "cell_type": "markdown",
   "metadata": {},
   "source": [
    "The full syntax is `arange(<start>, <stop>, <step>)`. Note that the starting\n",
    "value is included, but the stopping value is not (exactly as in vanilla `range`)."
   ]
  },
  {
   "cell_type": "code",
   "execution_count": 22,
   "metadata": {},
   "outputs": [
    {
     "name": "stdout",
     "output_type": "stream",
     "text": [
      "[4 6 8]\n"
     ]
    }
   ],
   "source": [
    "y = np.arange(4, 10, 2)\n",
    "print(y)"
   ]
  },
  {
   "cell_type": "markdown",
   "metadata": {},
   "source": [
    "One advantage of `arange` over `range` is that _it accepts arguments of type float_, for instance:"
   ]
  },
  {
   "cell_type": "code",
   "execution_count": 12,
   "metadata": {},
   "outputs": [
    {
     "name": "stdout",
     "output_type": "stream",
     "text": [
      "[0.1 0.2 0.3 0.4 0.5 0.6 0.7 0.8 0.9]\n"
     ]
    }
   ],
   "source": [
    "x = np.arange(0.1, 1, 0.1)\n",
    "print(x)"
   ]
  },
  {
   "cell_type": "markdown",
   "metadata": {},
   "source": [
    "However, this feature must be used with caution, because sometimes rounding\n",
    "errors may lead to unexpected results, as in the following example:"
   ]
  },
  {
   "cell_type": "code",
   "execution_count": 13,
   "metadata": {},
   "outputs": [
    {
     "name": "stdout",
     "output_type": "stream",
     "text": [
      "[1.  1.1 1.2 1.3]\n",
      "Note that the value 1.3 was included!\n"
     ]
    }
   ],
   "source": [
    "print(np.arange(1, 1.3, 0.1))\n",
    "print(\"Note that the value 1.3 was included!\")"
   ]
  },
  {
   "cell_type": "markdown",
   "metadata": {},
   "source": [
    "__Exercise:__ For each item, create a $ 1D $ array containing the elements described:\n",
    "\n",
    "(a) All integers from $ 5 $  to $ 15 $ (inclusive), but represented as\n",
    "floating-point numbers.\n",
    "\n",
    "(b) The sequence of even numbers between $ 2 $ and $ 19 $.\n",
    "\n",
    "(c) All integers from $ 10 $ down to $ 1 $.\n",
    "\n",
    "(d) All numbers from $ -3.14 $ to $ 2.86 = -3.14 + 6 $, with a stride of $ 2 $."
   ]
  },
  {
   "cell_type": "code",
   "execution_count": null,
   "metadata": {},
   "outputs": [],
   "source": []
  },
  {
   "cell_type": "markdown",
   "metadata": {},
   "source": [
    "Alternatively, with `linspace` we can create an array containing linearly spaced\n",
    "values inside a specified interval. The syntax is similar to that of `arange`,\n",
    "except that the stop value in the second argument is included in the result, and\n",
    "_the third argument gives the number of values to be generated_, instead of the\n",
    "step size:"
   ]
  },
  {
   "cell_type": "code",
   "execution_count": 64,
   "metadata": {},
   "outputs": [
    {
     "name": "stdout",
     "output_type": "stream",
     "text": [
      "[ 0.  1.  2.  3.  4.  5.  6.  7.  8.  9. 10.] \n",
      "\n",
      "[ 0.          1.11111111  2.22222222  3.33333333  4.44444444  5.55555556\n",
      "  6.66666667  7.77777778  8.88888889 10.        ]\n"
     ]
    }
   ],
   "source": [
    "z = np.linspace(0, 10, 11)\n",
    "print(z, '\\n')\n",
    "\n",
    "w = np.linspace(0, 10, 10)\n",
    "print(w)"
   ]
  },
  {
   "cell_type": "markdown",
   "metadata": {},
   "source": [
    "__Exercise:__ Dividing the interval $ [0, 1] $ into three equal parts, we obtain three subintervals of length $ \\frac{1}{3} $. How many subdivision points are needed? Use `linspace` to obtain them."
   ]
  },
  {
   "cell_type": "code",
   "execution_count": null,
   "metadata": {},
   "outputs": [],
   "source": []
  },
  {
   "cell_type": "markdown",
   "metadata": {},
   "source": [
    "__Exercise:__ How many bounded intervals are determined by $ n + 1 $ equally spaced points on a line?"
   ]
  },
  {
   "cell_type": "markdown",
   "metadata": {},
   "source": [
    "To recap, the syntax is `linspace(<start>, <stop (inclusive)>, <# \n",
    "elements>)`. We can exclude the stop value in `linspace` to make it behave\n",
    "more similarly to `arange` using `endpoint=False`:"
   ]
  },
  {
   "cell_type": "code",
   "execution_count": 51,
   "metadata": {},
   "outputs": [
    {
     "name": "stdout",
     "output_type": "stream",
     "text": [
      "[0. 1. 2. 3. 4. 5. 6. 7. 8. 9.]\n"
     ]
    }
   ],
   "source": [
    "print(np.linspace(0, 10, 10, endpoint=False))"
   ]
  },
  {
   "cell_type": "markdown",
   "metadata": {},
   "source": [
    "__Exercise:__ What happens to the result of `linspace` if the starting value is greater than the stopping value? What if they are equal? And what if the third argument is zero or negative? "
   ]
  },
  {
   "cell_type": "code",
   "execution_count": null,
   "metadata": {},
   "outputs": [],
   "source": []
  },
  {
   "cell_type": "markdown",
   "metadata": {},
   "source": [
    "## $ \\S 5 $ Accessing and modifying individual array elements"
   ]
  },
  {
   "cell_type": "markdown",
   "metadata": {},
   "source": [
    "Recall that lists in Python are __mutable__, meaning that we may modify\n",
    "individual elements of a list:"
   ]
  },
  {
   "cell_type": "code",
   "execution_count": 24,
   "metadata": {},
   "outputs": [],
   "source": [
    "primes = [199, 1_999, 19_999]\n",
    "primes[2] = 19"
   ]
  },
  {
   "cell_type": "markdown",
   "metadata": {},
   "source": [
    "In contrast, tuples are _immutable_. We can still access its elements through\n",
    "`[]`, but we can't modify them:"
   ]
  },
  {
   "cell_type": "code",
   "execution_count": 27,
   "metadata": {},
   "outputs": [
    {
     "name": "stdout",
     "output_type": "stream",
     "text": [
      "🍎\n"
     ]
    }
   ],
   "source": [
    "fruits = ('🍎', '🍊', '🍍')\n",
    "print(fruits[0])"
   ]
  },
  {
   "cell_type": "code",
   "execution_count": 28,
   "metadata": {},
   "outputs": [
    {
     "ename": "TypeError",
     "evalue": "'tuple' object does not support item assignment",
     "output_type": "error",
     "traceback": [
      "\u001b[0;31m---------------------------------------------------------------------------\u001b[0m",
      "\u001b[0;31mTypeError\u001b[0m                                 Traceback (most recent call last)",
      "Cell \u001b[0;32mIn[28], line 1\u001b[0m\n\u001b[0;32m----> 1\u001b[0m \u001b[43mfruits\u001b[49m\u001b[43m[\u001b[49m\u001b[38;5;241;43m0\u001b[39;49m\u001b[43m]\u001b[49m \u001b[38;5;241m=\u001b[39m \u001b[38;5;124m'\u001b[39m\u001b[38;5;124m🍉\u001b[39m\u001b[38;5;124m'\u001b[39m\n",
      "\u001b[0;31mTypeError\u001b[0m: 'tuple' object does not support item assignment"
     ]
    }
   ],
   "source": [
    "fruits[0] = '🍉'"
   ]
  },
  {
   "cell_type": "markdown",
   "metadata": {},
   "source": [
    "NumPy arrays are mutable, like lists. Consider the following vector $ \\mathbf{a} $:"
   ]
  },
  {
   "cell_type": "code",
   "execution_count": 37,
   "metadata": {},
   "outputs": [
    {
     "name": "stdout",
     "output_type": "stream",
     "text": [
      "[1 2 3]\n"
     ]
    }
   ],
   "source": [
    "a = np.array([1, 2, 3])\n",
    "print(a)"
   ]
  },
  {
   "cell_type": "markdown",
   "metadata": {},
   "source": [
    "To access or modify the $ 0 $-th element of $ \\mathbf a $ (recall that we always\n",
    "count from $ 0 $ in Python), we use the same syntax as we would if it were a\n",
    "list:"
   ]
  },
  {
   "cell_type": "code",
   "execution_count": 38,
   "metadata": {},
   "outputs": [
    {
     "name": "stdout",
     "output_type": "stream",
     "text": [
      "1\n",
      "[-1  2  3]\n"
     ]
    }
   ],
   "source": [
    "print(a[0])  # Access 0-th element of `a`\n",
    "a[0] = -1    # Modify this element\n",
    "print(a)     # Print the result\n"
   ]
  },
  {
   "cell_type": "markdown",
   "metadata": {},
   "source": [
    "If we are dealing with a $ 2D $ array, we use `[i, j]` to access its $ (i, j) $-th entry, that is, the element in row $ i $ and column $ j $:"
   ]
  },
  {
   "cell_type": "code",
   "execution_count": 10,
   "metadata": {},
   "outputs": [
    {
     "name": "stdout",
     "output_type": "stream",
     "text": [
      "Before modifications:\n",
      "[[1. 1.]\n",
      " [1. 1.]] \n",
      "\n",
      "After modifications:\n",
      "[[1. 0.]\n",
      " [0. 1.]]\n"
     ]
    }
   ],
   "source": [
    "A = np.ones((2, 2))\n",
    "print(\"Before modifications:\")\n",
    "print(A, '\\n')\n",
    "\n",
    "A[0, 1] = 0\n",
    "A[1, 0] = 0 \n",
    "print(\"After modifications:\")\n",
    "print(A)"
   ]
  },
  {
   "cell_type": "markdown",
   "metadata": {},
   "source": [
    "In general, when dealing with an $ n $-dimensional array, use `[k_1, k_2, ..., k_n]` to access its element having indices $ k_1, k_2, \\cdots, k_n $, respectively."
   ]
  },
  {
   "cell_type": "markdown",
   "metadata": {},
   "source": [
    "__Exercise:__ Build a \"$ 3D $ identity array\" $ M $ of shape $ (5, 5, 5) $ by\n",
    "first populating it with zeros, then setting all elements with indices\n",
    "of the form $ (i, i, i) $ equal to $ 1 $ in the following two ways: \n",
    "\n",
    "(a) Using a `for` loop.\n",
    "\n",
    "(b) With the single call `fill_diagonal(M, 1)`."
   ]
  },
  {
   "cell_type": "code",
   "execution_count": 11,
   "metadata": {},
   "outputs": [],
   "source": [
    "# Populate M with zeros:\n",
    "# M = ...\n",
    "\n",
    "# Set diagonal elements equal to 1:\n",
    "# ...\n",
    "\n",
    "# Print the result:\n",
    "# print(M)\n"
   ]
  },
  {
   "cell_type": "markdown",
   "metadata": {},
   "source": [
    "## $ \\S 6 $ Other NumPy features\n",
    "\n",
    "As we will see later, arrays are far more efficient and convenient for numerical\n",
    "computation than Python's built-in data types such as lists, both in memory and\n",
    "in computational costs. NumPy is used in data analysis, machine learning,\n",
    "engineering and any other field that requires intensive numerical computation.\n",
    "It also serves as the basis for higher-level scientific computing libraries such\n",
    "as SciPy, Pandas, and scikit-learn.  Other features supplied by NumPy include\n",
    "(but are not limited to):\n",
    "* Basic statistical operations;\n",
    "* Random number generation;\n",
    "* Fourier transforms and signal processing;\n",
    "* Integration with various databases and file formats for data import/export.\n",
    "\n",
    "We will meet and use some of these in other notebooks."
   ]
  }
 ],
 "metadata": {
  "kernelspec": {
   "display_name": "Python 3",
   "language": "python",
   "name": "python3"
  },
  "language_info": {
   "codemirror_mode": {
    "name": "ipython",
    "version": 3
   },
   "file_extension": ".py",
   "mimetype": "text/x-python",
   "name": "python",
   "nbconvert_exporter": "python",
   "pygments_lexer": "ipython3",
   "version": "3.12.3"
  }
 },
 "nbformat": 4,
 "nbformat_minor": 2
}
