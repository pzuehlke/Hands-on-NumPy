{
 "cells": [
  {
   "cell_type": "code",
   "execution_count": 2,
   "metadata": {},
   "outputs": [],
   "source": [
    "import numpy as np"
   ]
  },
  {
   "cell_type": "markdown",
   "metadata": {},
   "source": [
    "# Array attributes and methods"
   ]
  },
  {
   "cell_type": "markdown",
   "metadata": {},
   "source": [
    "## $ \\S 1 $ Attributes of arrays\n",
    "\n",
    "### $ 1.1 $ Shape and number of dimensions\n",
    "\n",
    "Recall from the previous notebook that, just as in Linear Algebra, a central\n",
    "property of a $ 2D $ array is its **shape**, which is the element\n",
    "count along each of its **axes** (vertical and horizontal).  Referring to the\n",
    "example below, the shape of our matrix $ A $ is $ (3, 4) $, or $ 3 \\times 4 $,\n",
    "since it has three rows and four columns:"
   ]
  },
  {
   "cell_type": "code",
   "execution_count": 2,
   "metadata": {},
   "outputs": [
    {
     "name": "stdout",
     "output_type": "stream",
     "text": [
      "[[ 1.  2.  3.  4.]\n",
      " [ 1.  4.  9. 16.]\n",
      " [ 1.  8. 27. 64.]]\n"
     ]
    }
   ],
   "source": [
    "import numpy as np\n",
    "\n",
    "A = np.array([[1., 2., 3., 4.],\n",
    "              [1., 4., 9., 16.],\n",
    "              [1., 8., 27., 64.]])\n",
    "print(A)"
   ]
  },
  {
   "cell_type": "markdown",
   "metadata": {},
   "source": [
    "The number of dimensions and shape of an arbitrary array are stored in its `ndim` and `shape` attributes, respectively:"
   ]
  },
  {
   "cell_type": "code",
   "execution_count": 3,
   "metadata": {},
   "outputs": [
    {
     "name": "stdout",
     "output_type": "stream",
     "text": [
      "2\n",
      "(3, 4)\n"
     ]
    }
   ],
   "source": [
    "print(A.ndim)    # Print the number of dimensions of A\n",
    "print(A.shape)   # Print the shape of A"
   ]
  },
  {
   "cell_type": "markdown",
   "metadata": {},
   "source": [
    "The number of dimensions of an array is a positive integer, while its shape is always a tuple, even when the array is one-dimensional:"
   ]
  },
  {
   "cell_type": "code",
   "execution_count": 4,
   "metadata": {},
   "outputs": [
    {
     "name": "stdout",
     "output_type": "stream",
     "text": [
      "(3,)\n",
      "Note that the shape is not '3', but rather the tuple '(3, )'\n",
      "<class 'tuple'>\n"
     ]
    }
   ],
   "source": [
    "a = np.array([11, 13, 17])\n",
    "print(a.shape)\n",
    "\n",
    "print(\"Note that the shape is not '3', but rather the tuple '(3, )'\")\n",
    "print(type(a.shape))"
   ]
  },
  {
   "cell_type": "markdown",
   "metadata": {},
   "source": [
    "__Exercise:__ What are the dimension and the shape of an empty array?"
   ]
  },
  {
   "cell_type": "code",
   "execution_count": null,
   "metadata": {},
   "outputs": [],
   "source": []
  },
  {
   "cell_type": "markdown",
   "metadata": {},
   "source": [
    "### $ 1.2 $ Attributes and related terminology\n",
    "\n",
    "An instance, or object, of a specific class, such as the array $ A $ of type `ndarray`,\n",
    "is equipped with a set of predefined **attributes**. Attributes are \n",
    "_properties inherent to every instance of the class_ (in this case, that of\n",
    "ndarrays). The **state** of an object is _the set of current values of all\n",
    "of its attributes._\n",
    "\n",
    "📝 To access an attribute `a` of an object `x`, the syntax is `x.a`.\n",
    "\n",
    "For example, suppose that we want to design a Python class to represent cars.\n",
    "An instance of this class would then correspond to one specific car\n",
    "in the real world.  Some plausible attributes of this class could be:\n",
    "* Its color (say, `color`, of type `str`).\n",
    "* The year in which it was manufactured (say, `year`, of type `int`).\n",
    "* Whether it is electric or not (say, `electric`, of type `boolean`).\n",
    "* The fuel efficiency of the car (say, `kilometers_per_liter`, of type `float`).\n",
    "\n",
    "And so on for any other relevant property of cars that we might want to include\n",
    "in our model. Note that the values of these attributes for different car\n",
    "instances will vary, in general. However, from this example we can easily imagine\n",
    "a situation where two cars have exactly the same state, as defined by their\n",
    "set of attribute values, and yet they are distinct objects, i.e., have different\n",
    "_identities_.\n",
    "\n",
    "### $ 1.3 $ The main attributes of arrays\n",
    "\n",
    "Although arrays come with several attributes, most of them relate to the array's\n",
    "internal representation or low-level utilities. The five most frequently used and\n",
    "conceptually important are:\n",
    "\n",
    "| Attribute   | Description                                    | Type      |\n",
    "|-------------|------------------------------------------------|-----------|\n",
    "| `ndim`      | Number of dimensions (axes) of the array  | `int`   |\n",
    "| `shape`     | Number of elements that lie along each axis | `tuple`     |\n",
    "| `size`      | Total number of elements in the array     | `int`   |\n",
    "| `dtype`     | Data type of the _elements_ of the array    | `dtype`  |\n",
    "| `T`         | Transpose of the array                    | `ndarray`    |\n",
    "\n"
   ]
  },
  {
   "cell_type": "markdown",
   "metadata": {},
   "source": [
    "__Exercise:__ For the following arrays $ A $, $ B $ and $ \\mathbf v $:\n",
    "\n",
    "(a) Check their attributes. Is the datatype of $ \\mathbf v $ what you expected?\n",
    "\n",
    "(b) Verify that the type of each attribute matches the one described in the table\n",
    "using the Python built-in function `type`."
   ]
  },
  {
   "cell_type": "code",
   "execution_count": 22,
   "metadata": {},
   "outputs": [],
   "source": [
    "A = np.array([[1, 2, 3],\n",
    "              [4, 5, 6],\n",
    "              [7, 8, 9]])\n",
    "\n",
    "B = np.array([[True, False, True],\n",
    "              [False, True, False]])\n",
    "\n",
    "v = np.array([1, 2, 3.])"
   ]
  },
  {
   "cell_type": "markdown",
   "metadata": {},
   "source": [
    "📝 NumPy arrays are designed to store elements of a single datatype, and _these\n",
    "datatypes are specific to NumPy_; this ensures high performance and a lighter\n",
    "memory footprint. As an example, the datatype of the matrix $ A $ above is\n",
    "`int64`, which represents integers using $ 64 $ bits. In contrast, the built-in\n",
    "Python type `int` can hold arbitrarily large integers. It is also possible to work\n",
    "with arrays of arbitrary Python objects by using the datatype `object`. Because\n",
    "in this case what is stored in the array is only a reference to each object (not\n",
    "the object itself), the entries don't even need to have the same Python type:"
   ]
  },
  {
   "cell_type": "code",
   "execution_count": 23,
   "metadata": {},
   "outputs": [
    {
     "name": "stdout",
     "output_type": "stream",
     "text": [
      "<class 'int'>\n",
      "<class 'str'>\n",
      "<class 'float'>\n"
     ]
    }
   ],
   "source": [
    "array_of_objects = np.array([1, 'two', 3.0], dtype=object)\n",
    "\n",
    "print(type(array_of_objects[0]))\n",
    "print(type(array_of_objects[1]))\n",
    "print(type(array_of_objects[2]))"
   ]
  },
  {
   "cell_type": "markdown",
   "metadata": {},
   "source": [
    "__Exercise:__ If an array has shape $ (2, 3, 4) $, what is its size? More generally, what is the size of an array of shape $ (n_1, n_2, \\cdots, n_d) $?"
   ]
  },
  {
   "cell_type": "code",
   "execution_count": null,
   "metadata": {},
   "outputs": [],
   "source": []
  },
  {
   "cell_type": "markdown",
   "metadata": {},
   "source": [
    "__Exercise:__ A _square matrix_ has the same number of rows and columns. Write a\n",
    "function `is_square(matrix)` that accepts a $ 2D $ array as its argument and returns\n",
    "`True` or `False` depending on whether the given matrix is square or not. How\n",
    "would you generalize to multidimensional arrays?"
   ]
  },
  {
   "cell_type": "code",
   "execution_count": null,
   "metadata": {},
   "outputs": [],
   "source": []
  },
  {
   "cell_type": "markdown",
   "metadata": {},
   "source": [
    "__Exercise:__ Write a Python function to determine whether a given matrix $ A $ is\n",
    "symmetric (i.e., whether $ A^T = A $), anti-symmetric ($ A^T = -A $) or neither.\n",
    "Does your function work correctly when $ A $ is not square?\n",
    "\n",
    "_Hint:_ When applied to two arrays of\n",
    "the same shape, the `==` operator performs an element-wise comparison and\n",
    "returns a Boolean array of the same shape. Instead, use `np.array_equal(A, B)` to\n",
    "check if two arrays $ A $ and $ B $ have the same shape and elements."
   ]
  },
  {
   "cell_type": "code",
   "execution_count": 3,
   "metadata": {},
   "outputs": [
    {
     "data": {
      "text/plain": [
       "array([ True,  True,  True])"
      ]
     },
     "execution_count": 3,
     "metadata": {},
     "output_type": "execute_result"
    }
   ],
   "source": [
    "a = np.array([1, 2, 3])\n",
    "b = np.array([1, 2, 3])\n",
    "a == b"
   ]
  },
  {
   "cell_type": "markdown",
   "metadata": {},
   "source": [
    "__Exercise:__ What is the transpose of a $ 1D $ array? What about $ 3D $ arrays?\n",
    "In general, what would be the most reasonable definition of the transpose of an\n",
    "$ n $-dimensional array?"
   ]
  },
  {
   "cell_type": "code",
   "execution_count": null,
   "metadata": {},
   "outputs": [],
   "source": []
  },
  {
   "cell_type": "markdown",
   "metadata": {},
   "source": [
    "## $ \\S 2 $ Array methods\n",
    "\n",
    "Besides attributes, objects of a certain class usually come with predefined\n",
    "**methods**. _Methods are functions associated to each instance of the class and\n",
    "which have direct access to that instance's state_. The\n",
    "syntax for calling a method named `f` of object `x` is `x.f(<arguments>)`. For\n",
    "instance, the `sum` method associated to each array returns the sum of all of\n",
    "its entries:"
   ]
  },
  {
   "cell_type": "code",
   "execution_count": 25,
   "metadata": {},
   "outputs": [
    {
     "name": "stdout",
     "output_type": "stream",
     "text": [
      "2.5\n"
     ]
    }
   ],
   "source": [
    "C = np.array([[-1.0, 2.3, 3.7],\n",
    "              [-4.5, 2.7, -0.7]])\n",
    "print(C.sum())"
   ]
  },
  {
   "cell_type": "markdown",
   "metadata": {},
   "source": [
    "As an optional argument to `sum`, we can designate an axis over which the sum should take place. As always in Python, indexing is zero-based, meaning that for matrix $ C $ above, the rows lie along axis $ 0 $ and the columns along axis $ 1 $."
   ]
  },
  {
   "cell_type": "code",
   "execution_count": 26,
   "metadata": {},
   "outputs": [
    {
     "name": "stdout",
     "output_type": "stream",
     "text": [
      "[-5.5  5.   3. ]\n"
     ]
    }
   ],
   "source": [
    "print(C.sum(axis=0))"
   ]
  },
  {
   "cell_type": "markdown",
   "metadata": {},
   "source": [
    "If we think of $ C $ as the matrix $ C = (c_{ij}) $, where $ i $ is the index\n",
    "for axis $ 0 $ (i.e., the index of rows), then taking the sum along this axis\n",
    "means that for each $ j $, NumPy computes $ \\sum_{i} c_{ij} $, resulting in the\n",
    "preceding vector since $ C $ has three columns. To put it another way, the axis\n",
    "specified as the argument to `sum` is the one that gets collapsed, in this case\n",
    "by the summation."
   ]
  },
  {
   "cell_type": "markdown",
   "metadata": {},
   "source": [
    "__Exercise:__ Compute the sum of the entries of $ C $ along the column index."
   ]
  },
  {
   "cell_type": "code",
   "execution_count": null,
   "metadata": {},
   "outputs": [],
   "source": []
  },
  {
   "cell_type": "markdown",
   "metadata": {},
   "source": [
    "The main array methods that involve mathematical operations are:\n",
    "\n",
    "| Method    | Description of its output                            |\n",
    "|-----------|------------------------------------------------------|\n",
    "| `sum`     | Sum of all the elements in the array   |\n",
    "| `prod`    | Product of all the elements in the array|\n",
    "| `mean`    | Arithmetic mean of the array           |\n",
    "| `std`     | Standard deviation of the array        |\n",
    "| `var`     | Variance of the array                  |\n",
    "| `min`     | Minimum value of the array             |\n",
    "| `max`     | Maximum value of the array             |\n",
    "| `argmin`  | Indices of the minimum value along an axis |\n",
    "| `argmax`  | Indices of the maximum value along an axis |\n",
    "| `cumsum`  | Cumulative sum of the elements along a given axis |\n",
    "| `cumprod` | Cumulative product of the elements along a given axis |\n",
    "\n",
    "\n",
    "All of these can be applied to a specific axis or axes by setting a value for\n",
    "the `axis` parameter. One can also apply them to more complex subarrays using\n",
    "slices."
   ]
  },
  {
   "cell_type": "code",
   "execution_count": 27,
   "metadata": {},
   "outputs": [
    {
     "name": "stdout",
     "output_type": "stream",
     "text": [
      "Maximum of each row: [9 8 7]\n",
      "\n",
      "Mean (average) of each column: [4. 5. 6.]\n",
      "\n",
      "Standard deviation of each row: [3.55902608 1.63299316 1.63299316]\n",
      "\n",
      "Cumulative sum of each column:\n",
      "[[ 1  3 12]\n",
      " [ 4 12 18]\n",
      " [ 7 12 15]]\n",
      "\n",
      "Index of the maximum element along each row: [2 1 0]\n"
     ]
    }
   ],
   "source": [
    "A = np.array([[1, 2, 9],\n",
    "              [4, 8, 6],\n",
    "              [7, 5, 3]])\n",
    "\n",
    "# Maximum of each row, i.e., along axis 1:\n",
    "max_rows = A.max(axis=1)\n",
    "print(f\"Maximum of each row: {max_rows}\\n\")\n",
    "\n",
    "# Mean (average) of each column, i.e., along axis 0:\n",
    "mean_cols = A.mean(axis=0)\n",
    "print(f\"Mean (average) of each column: {mean_cols}\\n\")\n",
    "\n",
    "# Standard deviation of each row, i.e., along axis 1:\n",
    "std_rows = A.std(axis=1)\n",
    "print(f\"Standard deviation of each row: {std_rows}\\n\")\n",
    "\n",
    "# Cumulative sum of each column, i.e., along axis 1:\n",
    "cumulative_sum = A.cumsum(axis=1)\n",
    "print(f\"Cumulative sum of each column:\\n{cumulative_sum}\\n\")\n",
    "\n",
    "# Index of the maximum element along each row:\n",
    "argmax_row = A.argmax(axis=0)\n",
    "print(f\"Index of the maximum element along each row: {argmax_row}\")"
   ]
  },
  {
   "cell_type": "markdown",
   "metadata": {},
   "source": [
    "📝 To get a listing of all attributes and methods that can be used with an object $ A $,\n",
    "you can run the Python command `dir(A)`. "
   ]
  },
  {
   "cell_type": "code",
   "execution_count": 2,
   "metadata": {},
   "outputs": [
    {
     "data": {
      "text/plain": [
       "['T',\n",
       " '__abs__',\n",
       " '__add__',\n",
       " '__and__',\n",
       " '__array__',\n",
       " '__array_finalize__',\n",
       " '__array_function__',\n",
       " '__array_interface__',\n",
       " '__array_prepare__',\n",
       " '__array_priority__',\n",
       " '__array_struct__',\n",
       " '__array_ufunc__',\n",
       " '__array_wrap__',\n",
       " '__bool__',\n",
       " '__buffer__',\n",
       " '__class__',\n",
       " '__class_getitem__',\n",
       " '__complex__',\n",
       " '__contains__',\n",
       " '__copy__',\n",
       " '__deepcopy__',\n",
       " '__delattr__',\n",
       " '__delitem__',\n",
       " '__dir__',\n",
       " '__divmod__',\n",
       " '__dlpack__',\n",
       " '__dlpack_device__',\n",
       " '__doc__',\n",
       " '__eq__',\n",
       " '__float__',\n",
       " '__floordiv__',\n",
       " '__format__',\n",
       " '__ge__',\n",
       " '__getattribute__',\n",
       " '__getitem__',\n",
       " '__getstate__',\n",
       " '__gt__',\n",
       " '__hash__',\n",
       " '__iadd__',\n",
       " '__iand__',\n",
       " '__ifloordiv__',\n",
       " '__ilshift__',\n",
       " '__imatmul__',\n",
       " '__imod__',\n",
       " '__imul__',\n",
       " '__index__',\n",
       " '__init__',\n",
       " '__init_subclass__',\n",
       " '__int__',\n",
       " '__invert__',\n",
       " '__ior__',\n",
       " '__ipow__',\n",
       " '__irshift__',\n",
       " '__isub__',\n",
       " '__iter__',\n",
       " '__itruediv__',\n",
       " '__ixor__',\n",
       " '__le__',\n",
       " '__len__',\n",
       " '__lshift__',\n",
       " '__lt__',\n",
       " '__matmul__',\n",
       " '__mod__',\n",
       " '__mul__',\n",
       " '__ne__',\n",
       " '__neg__',\n",
       " '__new__',\n",
       " '__or__',\n",
       " '__pos__',\n",
       " '__pow__',\n",
       " '__radd__',\n",
       " '__rand__',\n",
       " '__rdivmod__',\n",
       " '__reduce__',\n",
       " '__reduce_ex__',\n",
       " '__repr__',\n",
       " '__rfloordiv__',\n",
       " '__rlshift__',\n",
       " '__rmatmul__',\n",
       " '__rmod__',\n",
       " '__rmul__',\n",
       " '__ror__',\n",
       " '__rpow__',\n",
       " '__rrshift__',\n",
       " '__rshift__',\n",
       " '__rsub__',\n",
       " '__rtruediv__',\n",
       " '__rxor__',\n",
       " '__setattr__',\n",
       " '__setitem__',\n",
       " '__setstate__',\n",
       " '__sizeof__',\n",
       " '__str__',\n",
       " '__sub__',\n",
       " '__subclasshook__',\n",
       " '__truediv__',\n",
       " '__xor__',\n",
       " 'all',\n",
       " 'any',\n",
       " 'argmax',\n",
       " 'argmin',\n",
       " 'argpartition',\n",
       " 'argsort',\n",
       " 'astype',\n",
       " 'base',\n",
       " 'byteswap',\n",
       " 'choose',\n",
       " 'clip',\n",
       " 'compress',\n",
       " 'conj',\n",
       " 'conjugate',\n",
       " 'copy',\n",
       " 'ctypes',\n",
       " 'cumprod',\n",
       " 'cumsum',\n",
       " 'data',\n",
       " 'diagonal',\n",
       " 'dot',\n",
       " 'dtype',\n",
       " 'dump',\n",
       " 'dumps',\n",
       " 'fill',\n",
       " 'flags',\n",
       " 'flat',\n",
       " 'flatten',\n",
       " 'getfield',\n",
       " 'imag',\n",
       " 'item',\n",
       " 'itemset',\n",
       " 'itemsize',\n",
       " 'max',\n",
       " 'mean',\n",
       " 'min',\n",
       " 'nbytes',\n",
       " 'ndim',\n",
       " 'newbyteorder',\n",
       " 'nonzero',\n",
       " 'partition',\n",
       " 'prod',\n",
       " 'ptp',\n",
       " 'put',\n",
       " 'ravel',\n",
       " 'real',\n",
       " 'repeat',\n",
       " 'reshape',\n",
       " 'resize',\n",
       " 'round',\n",
       " 'searchsorted',\n",
       " 'setfield',\n",
       " 'setflags',\n",
       " 'shape',\n",
       " 'size',\n",
       " 'sort',\n",
       " 'squeeze',\n",
       " 'std',\n",
       " 'strides',\n",
       " 'sum',\n",
       " 'swapaxes',\n",
       " 'take',\n",
       " 'tobytes',\n",
       " 'tofile',\n",
       " 'tolist',\n",
       " 'tostring',\n",
       " 'trace',\n",
       " 'transpose',\n",
       " 'var',\n",
       " 'view']"
      ]
     },
     "execution_count": 2,
     "metadata": {},
     "output_type": "execute_result"
    }
   ],
   "source": [
    "# For instance, if A is any array:\n",
    "A = np.array([3, 5, 11])\n",
    "dir(A)  # All objects in the namespace associated with A"
   ]
  },
  {
   "cell_type": "markdown",
   "metadata": {},
   "source": [
    "📝 In Jupyter notebooks, typing `?` before or after an object or function name\n",
    "(e.g., `A?` or `?np.array`) displays detailed documentation about it:"
   ]
  },
  {
   "cell_type": "code",
   "execution_count": 3,
   "metadata": {},
   "outputs": [
    {
     "name": "stdout",
     "output_type": "stream",
     "text": [
      "\u001b[0;31mDocstring:\u001b[0m\n",
      "a.sum(axis=None, dtype=None, out=None, keepdims=False, initial=0, where=True)\n",
      "\n",
      "Return the sum of the array elements over the given axis.\n",
      "\n",
      "Refer to `numpy.sum` for full documentation.\n",
      "\n",
      "See Also\n",
      "--------\n",
      "numpy.sum : equivalent function\n",
      "\u001b[0;31mType:\u001b[0m      builtin_function_or_method"
     ]
    }
   ],
   "source": [
    "A.sum?"
   ]
  },
  {
   "cell_type": "markdown",
   "metadata": {},
   "source": [
    "__Exercise:__ Given a $ 2D $ array `data` of shape $ 100 \\times 5 $ representing a\n",
    "dataset where each row is an entry and each column is a different variable:\n",
    "\n",
    "(a) Calculate the mean and standard deviation of each variable.\n",
    "\n",
    "(b) Using `argmin`, identify the variable with the smallest variance, suggesting it has the\n",
    "least spread."
   ]
  },
  {
   "cell_type": "code",
   "execution_count": 9,
   "metadata": {},
   "outputs": [
    {
     "name": "stdout",
     "output_type": "stream",
     "text": [
      "[[ 0.85805324 -1.30167105  0.45641212  1.58162952  0.36738544]\n",
      " [-0.75800812  1.39250085  0.14171206 -0.13134499 -1.07336724]\n",
      " [ 2.32268766  0.6901426   0.54025557  0.23419604 -0.6370402 ]\n",
      " [ 0.17880191 -0.60913011 -0.21999756  0.07220071 -1.58217841]\n",
      " [ 1.40873944  0.24159351  0.03660412  0.38819821 -0.15872273]]\n"
     ]
    }
   ],
   "source": [
    "np.random.seed = 12345\n",
    "data = np.random.randn(100, 5)\n",
    "\n",
    "print(data[:5])  # Display first five rows of the table"
   ]
  },
  {
   "cell_type": "markdown",
   "metadata": {},
   "source": [
    "__Exercise:__ Given the $ 1D $ array below, calculate the mean of all numbers in\n",
    "it that are greater than $ 50 $."
   ]
  },
  {
   "cell_type": "code",
   "execution_count": 11,
   "metadata": {},
   "outputs": [
    {
     "name": "stdout",
     "output_type": "stream",
     "text": [
      "[72 36  7 37 83 97 38 77 19  7 64 56 25 13 15 27 73 40 85 68 76 22 10 77\n",
      " 61 55 18 47 46 15 87 52 66 35 21 79 86 16 91 98 45 72 55 13 26 29 78  1\n",
      " 28 31 75 25 67  1 23 11  2 61 50 83 99 73 39 60  9 85 83 20 68 61 11 63\n",
      " 42 21 59 30 17 37 76 69 11 97 71 86 21 15 63  2 82 17 49 35 87 94 44 49\n",
      " 61  8 88 86]\n"
     ]
    }
   ],
   "source": [
    "v = np.random.randint(1, 101, size=100)\n",
    "print(v)"
   ]
  },
  {
   "cell_type": "markdown",
   "metadata": {},
   "source": [
    "__Exercise (rolling window):__ A _rolling window average_ is obtained by\n",
    "calculating the average of subsets of data for each point in time over a\n",
    "\"window\" of fixed length moving along the array. This is useful for smoothing\n",
    "out time-series data. Using a for loop, calculate the moving window average\n",
    "for the following $ 1D $ array consisting of $ 1000 $ elements, where the window\n",
    "has length $ 50 $."
   ]
  },
  {
   "cell_type": "code",
   "execution_count": 29,
   "metadata": {},
   "outputs": [],
   "source": [
    "time_series = np.random.rand(1000)\n",
    "window_size = 50"
   ]
  },
  {
   "cell_type": "markdown",
   "metadata": {},
   "source": [
    "## $ \\S 3 $ Reshaping and changing the datatype of arrays\n",
    "\n",
    "### $ 3.1 $ Setting and changing the type\n",
    "\n",
    "Recall that the `dtype` attribute of an array stores its datatype. We can create\n",
    "a new array with a different datatype from a given array by using the method\n",
    "`astype`, provided that the datatype conversion makes sense:"
   ]
  },
  {
   "cell_type": "code",
   "execution_count": 31,
   "metadata": {},
   "outputs": [
    {
     "name": "stdout",
     "output_type": "stream",
     "text": [
      "[['1' '-2']\n",
      " ['3' '-4']] \n",
      "\n",
      "int32 \n",
      " [[ 1 -2]\n",
      " [ 3 -4]] \n",
      "\n",
      "float64 \n",
      " [[ 1. -2.]\n",
      " [ 3. -4.]] \n",
      "\n"
     ]
    }
   ],
   "source": [
    "# Let's begin by creating an array of strings:\n",
    "A = np.array([['1', '-2'],\n",
    "              ['3', '-4']])\n",
    "print(A, '\\n')\n",
    "\n",
    "# Convert the datatype to 32 bit integers:\n",
    "A_int = A.astype(\"int32\")\n",
    "print(A_int.dtype, '\\n', A_int, '\\n')\n",
    "\n",
    "# Convert the datatype to double-precision (64 bit) floating-point numbers:\n",
    "A_double = A.astype(\"float64\")\n",
    "print(A_double.dtype, '\\n', A_double, '\\n')"
   ]
  },
  {
   "cell_type": "markdown",
   "metadata": {},
   "source": [
    "__Exercise:__ What happens if you try to convert a numeric array to one whose\n",
    "datatype is `bool` (NumPy's type to represent boolean values)? What about the\n",
    "converse, i.e., from `bool` to, say, `float32`?"
   ]
  },
  {
   "cell_type": "code",
   "execution_count": null,
   "metadata": {},
   "outputs": [],
   "source": []
  },
  {
   "cell_type": "markdown",
   "metadata": {},
   "source": [
    "📝 Although we have been speaking about the \"conversion\" from one type to another,\n",
    "`astype` doesn't actually modify the original array; instead, it always creates a\n",
    "_new copy_ of the original array having the prescribed datatype. This occurs\n",
    "even when the target datatype is the same as the original one:"
   ]
  },
  {
   "cell_type": "code",
   "execution_count": 40,
   "metadata": {},
   "outputs": [
    {
     "name": "stdout",
     "output_type": "stream",
     "text": [
      "Original u: [1 2 3] of type int64\n",
      "Original v: [1 2 3] of type int64 \n",
      "\n",
      "u after modification of v: [1 2 3]\n",
      "v after modification of v: [-10   2   3]\n"
     ]
    }
   ],
   "source": [
    "u = np.array([1, 2, 3])\n",
    "print(f\"Original u: {u} of type {u.dtype}\")\n",
    "\n",
    "v = u.astype(\"int64\")\n",
    "print(f\"Original v: {v} of type {v.dtype} \\n\")\n",
    "\n",
    "v[0] = -10\n",
    "\n",
    "print(f\"u after modification of v: {u}\")\n",
    "print(f\"v after modification of v: {v}\")"
   ]
  },
  {
   "cell_type": "markdown",
   "metadata": {},
   "source": [
    "To prescribe the datatype of an array at the moment of its creation, we can\n",
    "use the `dtype` argument available in almost all array creation functions\n",
    "provided by NumPy."
   ]
  },
  {
   "cell_type": "code",
   "execution_count": 44,
   "metadata": {},
   "outputs": [
    {
     "name": "stdout",
     "output_type": "stream",
     "text": [
      "float64\n",
      "[1. 2. 3. 4.] \n",
      "\n",
      "int32\n",
      "[[0 0]\n",
      " [0 0]] \n",
      "\n",
      "bool\n",
      "[ True  True  True]\n"
     ]
    }
   ],
   "source": [
    "# Using np.array:\n",
    "A = np.array([1, 2, 3, 4], dtype=np.float64)\n",
    "print(A.dtype)  # Output will be an array of float64 type elements.\n",
    "print(A, '\\n')\n",
    "\n",
    "# Using np.zeros:\n",
    "B = np.zeros((2, 2), dtype=np.int32)\n",
    "print(B.dtype)  # Output will be a 2x2 array of int32 type zeros.\n",
    "print(B, '\\n')\n",
    "\n",
    "# Using np.ones:\n",
    "C = np.ones((3,), dtype=bool)\n",
    "print(C.dtype)  # Output will be an array of complex128 type ones.\n",
    "print(C)"
   ]
  },
  {
   "cell_type": "markdown",
   "metadata": {},
   "source": [
    "__Exercise:__ Create arrays \n",
    "$$ \\mathbf a = (2, 2, 2, 2)\\,, \\quad \\mathbf b = (2, 4, 6, 8) \\quad \\text{and} \\quad\n",
    "\\mathbf c = (2, 3, 4, 5) $$\n",
    "of type `int32` using `full`, `arange` and `linspace`, respectively."
   ]
  },
  {
   "cell_type": "code",
   "execution_count": null,
   "metadata": {},
   "outputs": [],
   "source": []
  },
  {
   "cell_type": "markdown",
   "metadata": {},
   "source": [
    "### $ 3.2 $ Modifying the shape of arrays\n",
    "\n",
    "Reshaping arrays is a common and fundamental operation in NumPy. There is both\n",
    "a function and a method named `reshape` that can accomplish this:"
   ]
  },
  {
   "cell_type": "code",
   "execution_count": 10,
   "metadata": {},
   "outputs": [
    {
     "name": "stdout",
     "output_type": "stream",
     "text": [
      "[1 2 3 4 5 6]\n",
      "\n",
      "[[1 2]\n",
      " [3 4]\n",
      " [5 6]]\n",
      "\n",
      "[[1 2 3]\n",
      " [4 5 6]]\n",
      "\n"
     ]
    }
   ],
   "source": [
    "a = np.array([1, 2, 3, 4, 5, 6])\n",
    "print(a, end='\\n\\n')\n",
    "\n",
    "A = np.reshape(a, (3, 2))  # Here we use the _function_ `reshape`\n",
    "\n",
    "B = a.reshape((2, 3))   # Here we use the `reshape` _method_\n",
    "\n",
    "print(A, end='\\n\\n')  # Here a has been reshaped into a 3 by 2 matrix\n",
    "print(B, end='\\n\\n')  # Here a has been reshaped into a 2 by 3 matrix"
   ]
  },
  {
   "cell_type": "markdown",
   "metadata": {},
   "source": [
    "Note that when we reshape an array, the new shape must be compatible with the\n",
    "size of the original array. For example, the following results in an error (why?):"
   ]
  },
  {
   "cell_type": "code",
   "execution_count": null,
   "metadata": {},
   "outputs": [],
   "source": [
    "C = np.reshape(a, (2, 2))"
   ]
  },
  {
   "cell_type": "markdown",
   "metadata": {},
   "source": [
    "When reshaping, we may also specify $ -1 $ in a dimension to instruct\n",
    "NumPy to infer the number of elements along that dimension from the size of the\n",
    "array and that of the remaining dimensions. This is especially useful when an\n",
    "array is passed to us by the user as an argument in a function call, but we do\n",
    "not know in advance how many entries it has:"
   ]
  },
  {
   "cell_type": "code",
   "execution_count": null,
   "metadata": {},
   "outputs": [
    {
     "name": "stdout",
     "output_type": "stream",
     "text": [
      "[[1]\n",
      " [2]\n",
      " [3]\n",
      " [4]]\n"
     ]
    }
   ],
   "source": [
    "a = np.array([[1, 2],\n",
    "              [3, 4]])\n",
    "A = a.reshape((-1, 1))  # Reshape into a column vector\n",
    "print(A)"
   ]
  },
  {
   "cell_type": "markdown",
   "metadata": {},
   "source": [
    "In this example we wanted to reshape our array so that the result would have\n",
    "one column, but didn't want to figure out how many rows it should have for that\n",
    "to happen. Here's another example, in which we reshape a $ 1D $ array into a\n",
    "matrix and then to a row vector:"
   ]
  },
  {
   "cell_type": "code",
   "execution_count": null,
   "metadata": {},
   "outputs": [
    {
     "name": "stdout",
     "output_type": "stream",
     "text": [
      "[ 1  2  3  4  5  6  7  8  9 10 11 12]\n",
      "\n",
      "[[ 1  2  3  4]\n",
      " [ 5  6  7  8]\n",
      " [ 9 10 11 12]]\n",
      "\n",
      "[[ 1  2  3  4  5  6  7  8  9 10 11 12]]\n",
      "\n"
     ]
    }
   ],
   "source": [
    "x = np.arange(1, 13)\n",
    "X = x.reshape((3, -1))\n",
    "x_row = X.reshape((1, -1))\n",
    "\n",
    "print(x, end='\\n\\n')\n",
    "print(X, end='\\n\\n')\n",
    "print(x_row, end='\\n\\n')"
   ]
  },
  {
   "cell_type": "markdown",
   "metadata": {},
   "source": [
    "📝 There is no essential difference between the function and the method versions\n",
    "of `reshape`. In both cases, NumPy returns a _new_ array, while the original\n",
    "array remains unchanged. However, these operations provide a view of the\n",
    "original array's data whenever possible, meaning that they do not copy the\n",
    "array's _data_ unless necessary. Thus, modifications to the data in the reshaped\n",
    "array can affect the original array and vice versa. Let's use the previous\n",
    "example to illustrate this:"
   ]
  },
  {
   "cell_type": "code",
   "execution_count": null,
   "metadata": {},
   "outputs": [
    {
     "name": "stdout",
     "output_type": "stream",
     "text": [
      "[-23   2   3   4   5   6   7   8   9  10  11  12]\n"
     ]
    }
   ],
   "source": [
    "X[0, 0] = -23  # Modify the top left element of X\n",
    "print(x)  # The 0th element of x has also been affected!"
   ]
  },
  {
   "cell_type": "markdown",
   "metadata": {},
   "source": [
    "To create an independent copy of a NumPy array, we can use the `copy` method.\n",
    "This method generates a new array object with the same data as the original\n",
    "array, but stored in a separate memory location."
   ]
  },
  {
   "cell_type": "code",
   "execution_count": null,
   "metadata": {},
   "outputs": [
    {
     "name": "stdout",
     "output_type": "stream",
     "text": [
      "[10  1  2]\n",
      "[[0 1 2]]\n"
     ]
    }
   ],
   "source": [
    "y = np.arange(3)  # y is the 1D array with entries 0, 1, 2\n",
    "Y = y.copy().reshape((1, -1))  # Reshape y into an independent 2D row vector\n",
    "y[0] = 10  # Modify 0th element of y\n",
    "print(y)\n",
    "print(Y)  # The 0th element of Y is not affected, since Y is an independent copy"
   ]
  },
  {
   "cell_type": "markdown",
   "metadata": {},
   "source": [
    "There is also a _function_ `np.copy` that is essentially equivalent to the `copy` method.\n",
    "\n",
    "The `flatten` method takes a multi-dimensional array and returns a new,\n",
    "independent _one-dimensional_ array containing all of the elements of the original\n",
    "array. "
   ]
  },
  {
   "cell_type": "code",
   "execution_count": 11,
   "metadata": {},
   "outputs": [
    {
     "name": "stdout",
     "output_type": "stream",
     "text": [
      "[1 2 3 4]\n"
     ]
    }
   ],
   "source": [
    "A = np.array([[1, 2],\n",
    "              [3, 4]])\n",
    "a = A.flatten()\n",
    "print(a)"
   ]
  },
  {
   "cell_type": "markdown",
   "metadata": {},
   "source": [
    "The order in which the elements are placed in the flattened array is based on\n",
    "the lexicographic ordering of their indices in the original array. For example,\n",
    "if we are dealing with a $ 3D $ array, then the entry at position $ (0, 0, 2) $\n",
    "comes before the entry at $ (0, 1, 0) $, which will be placed before the entry\n",
    "at $ (1, 0, 0) $."
   ]
  },
  {
   "cell_type": "code",
   "execution_count": null,
   "metadata": {},
   "outputs": [
    {
     "name": "stdout",
     "output_type": "stream",
     "text": [
      "[[0 1 2]\n",
      " [3 4 5]]\n",
      "[0 1 2 3 4 5]\n"
     ]
    }
   ],
   "source": [
    "A = np.arange(6).reshape((2, 3))\n",
    "print(A)\n",
    "a = A.flatten()\n",
    "print(a)"
   ]
  },
  {
   "cell_type": "markdown",
   "metadata": {},
   "source": [
    "__Exercise:__ The $ 2D $ of shape $ 28 \\times 28 $ in the code cell below\n",
    "represents a grayscale image. Write a function to rotate this image $ 90 $ degrees\n",
    "clockwise.\n",
    "\n",
    "_Hint_: This can be accomplished by first transposing the array and then\n",
    "flipping it vertically (i.e., reversing the order of the entries along each\n",
    "column) with an appropriate slice. This is illustrated in the $ 3 \\times 3 $\n",
    "example below, but the same idea works in any dimension.\n",
    "$$\n",
    "\\begin{bmatrix}\n",
    "a & b & c \\\\\n",
    "d & e & f \\\\\n",
    "g & h & i \\\\\n",
    "\\end{bmatrix}\n",
    "\\overset{\\text{transpose}}{\\longrightarrow}\n",
    "\\begin{bmatrix}\n",
    "a & d & g \\\\\n",
    "b & e & h \\\\\n",
    "c & f & i \\\\\n",
    "\\end{bmatrix}\n",
    "\\overset{\\text{flip ver.}}{\\longrightarrow}\n",
    "\\begin{bmatrix}\n",
    "g & d & a \\\\\n",
    "h & e & b \\\\\n",
    "i & f & c \\\\\n",
    "\\end{bmatrix}\n",
    "$$"
   ]
  },
  {
   "cell_type": "code",
   "execution_count": 14,
   "metadata": {},
   "outputs": [
    {
     "name": "stdout",
     "output_type": "stream",
     "text": [
      "[[109  40 228 147 149]\n",
      " [127 218  59  33  29]\n",
      " [ 82 182  78  36 143]\n",
      " [ 39  85  17 189 133]\n",
      " [ 52 129 112 134 200]]\n"
     ]
    }
   ],
   "source": [
    "image = np.array(np.random.randint(0, 256, size=(28, 28)))\n",
    "print(image[:5, :5])"
   ]
  },
  {
   "cell_type": "markdown",
   "metadata": {},
   "source": [
    "__Exercise:__ Given a $ 1D $ array of $ 100 $ elements, reshape it into a $ 10\n",
    "\\times 10 $ matrix. Then, normalize the matrix so that all values are scaled to\n",
    "lie between $ 0 $ and $ 1 $ (inclusive). _Hint:_ Determine the maximum $ M $ and\n",
    "minimum $ m $ of all entries, write a linear function $ f $ that takes $ [m, M] $ into $ [0, 1] $\n",
    "and then apply it to the entire array."
   ]
  },
  {
   "cell_type": "code",
   "execution_count": null,
   "metadata": {},
   "outputs": [],
   "source": []
  },
  {
   "cell_type": "markdown",
   "metadata": {},
   "source": [
    "### $ 3.3 $ Other array methods\n",
    "\n",
    "Some additional methods and functions dealing with array shapes are:\n",
    "* `A.sort()` method: Sorts the array in-place, along the last axis (by default).\n",
    "* `A.squeeze()` method: removes axes of length one from array $ A $. For example, an array\n",
    "  of shape $ (1, 3, 1) $ becomes $ (3,) $ after squeezing.\n",
    "* `A.swapaxes(axis1, axis2)` method: Swaps two axes of an array. It only\n",
    "   provides a view (not a copy) of the original array.\n",
    "* `A.transpose(*axes)` method: Reorders the axes of an array according to the\n",
    "  tuple `axes`. If no axes are provided, it reverses the order of the axes.\n",
    "* `expand_dims(A, axis=i)` function: Inserts a new axis, expanding the array's\n",
    "  shape by one dimension at the specified position ($ i $ in this case).\n"
   ]
  },
  {
   "cell_type": "code",
   "execution_count": 20,
   "metadata": {},
   "outputs": [
    {
     "name": "stdout",
     "output_type": "stream",
     "text": [
      "[[1 2 9]\n",
      " [4 6 8]\n",
      " [3 5 7]]\n"
     ]
    }
   ],
   "source": [
    "A = np.array([[9, 2, 1],\n",
    "              [4, 8, 6],\n",
    "              [3, 5, 7]])\n",
    "\n",
    "A.sort()  # Sort A in-place along its last axis (the column axis)\n",
    "print(A)"
   ]
  },
  {
   "cell_type": "code",
   "execution_count": 2,
   "metadata": {},
   "outputs": [
    {
     "name": "stdout",
     "output_type": "stream",
     "text": [
      "[1 2 3] \n",
      "\n",
      "[[1]\n",
      " [2]\n",
      " [3]]\n",
      "(3, 1)\n"
     ]
    }
   ],
   "source": [
    "a = np.array([1, 2, 3])\n",
    "print(a, '\\n')\n",
    "\n",
    "B = np.expand_dims(a, axis=1)  # Insert a new axis at position 1\n",
    "print(B)\n",
    "print(B.shape)"
   ]
  },
  {
   "cell_type": "code",
   "execution_count": 8,
   "metadata": {},
   "outputs": [
    {
     "name": "stdout",
     "output_type": "stream",
     "text": [
      "(2, 3, 4)\n",
      "[[[-0.39656662  0.8937953   0.72287123 -0.78803847]\n",
      "  [ 1.37170286 -0.3461183   0.94240061 -1.40695644]\n",
      "  [-1.9162974  -0.95437456  0.64405515 -0.67456699]]\n",
      "\n",
      " [[-1.30497949 -0.05582722 -0.81778443 -0.83087778]\n",
      "  [-1.12070382  0.62800488 -1.60885764 -0.39301776]\n",
      "  [-1.00715499  0.20393228 -1.70642381  0.42211023]]] \n",
      "\n",
      "(3, 4, 2)\n",
      "[[[-0.39656662 -1.30497949]\n",
      "  [ 0.8937953  -0.05582722]\n",
      "  [ 0.72287123 -0.81778443]\n",
      "  [-0.78803847 -0.83087778]]\n",
      "\n",
      " [[ 1.37170286 -1.12070382]\n",
      "  [-0.3461183   0.62800488]\n",
      "  [ 0.94240061 -1.60885764]\n",
      "  [-1.40695644 -0.39301776]]\n",
      "\n",
      " [[-1.9162974  -1.00715499]\n",
      "  [-0.95437456  0.20393228]\n",
      "  [ 0.64405515 -1.70642381]\n",
      "  [-0.67456699  0.42211023]]]\n"
     ]
    }
   ],
   "source": [
    "A = np.random.randn(2, 3, 4)  # Array of shape 2x3x4 having random elements\n",
    "print(A.shape)\n",
    "print(A, '\\n') \n",
    "\n",
    "# Reorder the axis (0, 1, 2) in the new order (1, 2, 0):\n",
    "B = A.transpose(1, 2, 0)  # The new shape is 3x4x2\n",
    "print(B.shape)\n",
    "print(B)"
   ]
  },
  {
   "cell_type": "markdown",
   "metadata": {},
   "source": [
    "__Exercise:__ For each of these methods/functions, verify whether the result is a view or a copy of the original\n",
    "array by applying it to an array $ A $, assigning the result to $ B $, modifying an entry of $ A $ and then\n",
    "checking whether $ B $ was affected.\n"
   ]
  },
  {
   "cell_type": "code",
   "execution_count": null,
   "metadata": {},
   "outputs": [],
   "source": []
  }
 ],
 "metadata": {
  "kernelspec": {
   "display_name": "base",
   "language": "python",
   "name": "python3"
  },
  "language_info": {
   "codemirror_mode": {
    "name": "ipython",
    "version": 3
   },
   "file_extension": ".py",
   "mimetype": "text/x-python",
   "name": "python",
   "nbconvert_exporter": "python",
   "pygments_lexer": "ipython3",
   "version": "3.12.4"
  }
 },
 "nbformat": 4,
 "nbformat_minor": 2
}
