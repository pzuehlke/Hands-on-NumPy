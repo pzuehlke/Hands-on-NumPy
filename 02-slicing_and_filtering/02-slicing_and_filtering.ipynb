{
 "cells": [
  {
   "cell_type": "code",
   "execution_count": null,
   "metadata": {},
   "outputs": [],
   "source": [
    "import numpy as np"
   ]
  },
  {
   "cell_type": "markdown",
   "metadata": {},
   "source": [
    "# Accessing and manipulating arrays\n",
    "\n",
    "In the previous notebook we explored the creation of NumPy arrays. Now we'll\n",
    "learn how to access and manipulate elements within arrays, and also\n",
    "how to extract specific elements out of arrays."
   ]
  },
  {
   "cell_type": "markdown",
   "metadata": {},
   "source": [
    "## $ \\S 1 $ Accessing and modifying individual array elements"
   ]
  },
  {
   "cell_type": "markdown",
   "metadata": {},
   "source": [
    "Recall that lists in Python are __mutable__, meaning that we may modify\n",
    "the individual elements of a list:"
   ]
  },
  {
   "cell_type": "code",
   "execution_count": null,
   "metadata": {},
   "outputs": [],
   "source": [
    "primes = [199, 1_999, 19_999]\n",
    "primes[2] = 19\n",
    "print(primes)"
   ]
  },
  {
   "cell_type": "markdown",
   "metadata": {},
   "source": [
    "In contrast, a Python tuple is __immutable__. We can still access its\n",
    "elements through `[]`, but we can't modify them:"
   ]
  },
  {
   "cell_type": "code",
   "execution_count": null,
   "metadata": {},
   "outputs": [],
   "source": [
    "fruits = ('🍎', '🍊', '🍍')\n",
    "print(fruits[0])"
   ]
  },
  {
   "cell_type": "code",
   "execution_count": null,
   "metadata": {},
   "outputs": [],
   "source": [
    "fruits[0] = '🍉'"
   ]
  },
  {
   "cell_type": "markdown",
   "metadata": {},
   "source": [
    "NumPy arrays are also mutable, like lists. Consider the following vector $ \\mathbf{a} $:"
   ]
  },
  {
   "cell_type": "code",
   "execution_count": null,
   "metadata": {},
   "outputs": [],
   "source": [
    "a = np.array([1, 2, 3])\n",
    "print(a)"
   ]
  },
  {
   "cell_type": "markdown",
   "metadata": {},
   "source": [
    "To access or modify the $ 0 $-th element of $ \\mathbf a $ (recall that we always\n",
    "count from $ 0 $ in Python), we use the same syntax as we would if it were a\n",
    "list:"
   ]
  },
  {
   "cell_type": "code",
   "execution_count": null,
   "metadata": {},
   "outputs": [],
   "source": [
    "print(a[0])  # Access 0-th element of `a`\n",
    "a[0] = -1    # Modify this element\n",
    "print(a)     # Print the result"
   ]
  },
  {
   "cell_type": "markdown",
   "metadata": {},
   "source": [
    "If we are dealing with a $ 2D $ array, we use `[i, j]` to access its $ (i, j)\n",
    "$-th entry, that is, the element in row $ i $ and column $ j $.\n",
    "\n",
    "__Exercise:__ Modify the off-diagonal elements in the following matrix $ A $ to\n",
    "turn it into the $ 2 \\times 2 $ identity matrix."
   ]
  },
  {
   "cell_type": "code",
   "execution_count": null,
   "metadata": {},
   "outputs": [],
   "source": [
    "A = np.ones((2, 2))\n",
    "print(\"Before modifications:\")\n",
    "print(A, '\\n')\n",
    "\n",
    "# ...\n",
    "# ...\n",
    "print(\"After modifications:\")\n",
    "print(A)"
   ]
  },
  {
   "cell_type": "markdown",
   "metadata": {},
   "source": [
    "In general, when dealing with an $ n $-dimensional array, use\n",
    "`[k_1, k_2, ..., k_n]` to access the element having indices\n",
    "$ k_1, k_2, \\cdots, k_n $, respectively."
   ]
  },
  {
   "cell_type": "markdown",
   "metadata": {},
   "source": [
    "__Exercise:__ Build a $ 3D $ identity array $ M $ of shape $ (5, 5, 5) $ by\n",
    "first populating it with zeros, then setting all elements whose indices\n",
    "have the form $ (i, i, i) $ to $ 1 $ in the following two ways: \n",
    "\n",
    "(a) Using a `for` loop.\n",
    "\n",
    "(b) With the single call `fill_diagonal(M, 1)`."
   ]
  },
  {
   "cell_type": "code",
   "execution_count": null,
   "metadata": {},
   "outputs": [],
   "source": [
    "# Populate M with zeros:\n",
    "# M = ...\n",
    "\n",
    "# Set diagonal elements equal to 1:\n",
    "# ...\n",
    "\n",
    "# Print the result:\n",
    "# print(M)\n"
   ]
  },
  {
   "cell_type": "markdown",
   "metadata": {},
   "source": [
    "Like Python lists, NumPy arrays support negative indexing. The index $ -1 $\n",
    "refers to the last element, $ -2 $ to the second-to-last, and so on:\n",
    "\n",
    "__Exercise:__ Modify the last coordinate of the vector\n",
    "$ \\mathbf{v} \\in \\mathbb{R}^6 $ below so that its length becomes $ 3 $. _Hint:_\n",
    "Recall that the norm (length) of a vector $ \\mathbf{v} = (v_1, v_2, \\cdots, v_n) $\n",
    "in $ \\mathbb{R}^n $ is given by $ \\sqrt{v_1^2 + v_2^2 + \\cdots + v_n^2} $."
   ]
  },
  {
   "cell_type": "code",
   "execution_count": null,
   "metadata": {},
   "outputs": [],
   "source": [
    "v = np.array([1, 1, 1, 1, 1, 1])\n",
    "\n",
    "print(f\"Vector: {v}\")\n",
    "print(f\"Norm of v = {np.linalg.norm(v):.3f}\")"
   ]
  },
  {
   "cell_type": "markdown",
   "metadata": {},
   "source": [
    "Negative indexing works with multi-dimensional arrays as well:"
   ]
  },
  {
   "cell_type": "code",
   "execution_count": null,
   "metadata": {},
   "outputs": [],
   "source": [
    "A = np.array([[1, 2, 3],\n",
    "              [4, 5, 6],\n",
    "              [7, 8, 9]])\n",
    "\n",
    "print(A[-1, -1])  # Bottom-right element (value: 9)\n",
    "print(A[-2, -3])  # Element at second-to-last row, third-to-last column (value: 4)"
   ]
  },
  {
   "cell_type": "markdown",
   "metadata": {},
   "source": [
    "__Exercise:__ Given the $ 3D $ array below, access and print:\n",
    "\n",
    "(a) The element at position $ (0, 1, 1) $.\n",
    "\n",
    "(b) The last element of the entire array.\n",
    "\n",
    "(c) The element at row $ 0 $, column $ 1 $ of \"layer\" $ 2 $."
   ]
  },
  {
   "cell_type": "code",
   "execution_count": null,
   "metadata": {},
   "outputs": [],
   "source": [
    "B = np.array([[[1, 2], [3, 4]], \n",
    "              [[5, 6], [7, 8]], \n",
    "              [[9, 10], [11, 12]]])\n",
    "print(B)\n",
    "# (a)\n",
    "\n",
    "# (b)\n",
    "\n",
    "# (c)"
   ]
  },
  {
   "cell_type": "markdown",
   "metadata": {},
   "source": [
    "## $ \\S 2 $ Slicing $ 1D $ arrays\n",
    "\n",
    "__Slicing__ is an operation that allows us to extract a subarray from an array.\n",
    "The syntax for $ 1D $ arrays is exactly the same as for slices of Python lists,\n",
    "namely, `a[start:stop:step]`, where `a` denotes an array and:\n",
    "\n",
    "* `start` is the index where the slice begins (included).\n",
    "* `stop` is the index where the slice ends (excluded).\n",
    "* `step` is the step size between elements.\n",
    "\n",
    "If any of these are omitted, they default to their natural boundaries (start of\n",
    "the array, end of the array, and step size $ 1 $)."
   ]
  },
  {
   "cell_type": "markdown",
   "metadata": {},
   "source": [
    "__Exercise:__ Let $ \\mathbf a = (0, 1, \\cdots, 10) $.\n",
    "\n",
    "(a) Instantiate this array using `arange` or with `linspace` together with the instruction `a.astype(int)`.\n",
    "\n",
    "(b) Take a slice of $ \\mathbf a $ resulting in $ (0, 1, \\cdots, 4) $.\n",
    "\n",
    "(c) Slice $ \\mathbf a $ to obtain the array $ (5, 6, \\cdots, 10) $.\n",
    "\n",
    "(d) Construct a slice to retrieve the subarray $ (3, 5, 7, 9) $.\n",
    "\n",
    "(e) Obtain a new array consisting of all elements of $ \\mathbf a $ in reverse order.\n",
    "\n",
    "(f) Take a full slice of $ \\mathbf a $, call it $ \\mathbf b $, and modify its $ 0\n",
    "$-th element. Is $ \\mathbf a $ affected?"
   ]
  },
  {
   "cell_type": "code",
   "execution_count": null,
   "metadata": {},
   "outputs": [],
   "source": []
  },
  {
   "cell_type": "markdown",
   "metadata": {},
   "source": [
    "As seen in the previous exercise, _slicing an array only creates a view of\n",
    "the original array, not a copy_.  A __view__ is a new array object that refers to\n",
    "the same data as the original array.  This means that:\n",
    "* Changes made through the view affect the original array, and vice versa.\n",
    "* No memory duplication occurs when creating a view.\n",
    "\n",
    "This behavior is by design, for efficiency reasons."
   ]
  },
  {
   "cell_type": "code",
   "execution_count": null,
   "metadata": {},
   "outputs": [],
   "source": [
    "a = np.array([1, 2, 3, 4, 5])\n",
    "b = a[1:4]  # This creates a view, not a copy\n",
    "print(\"Original a:\", a)\n",
    "print(\"View b:      \", b)\n",
    "\n",
    "b[0] = 8  # Modifying the view\n",
    "print(\"After modifying b, a becomes:\", a)"
   ]
  },
  {
   "cell_type": "markdown",
   "metadata": {},
   "source": [
    "📝 To create a copy rather than a view in NumPy, use the `copy()` method:"
   ]
  },
  {
   "cell_type": "code",
   "execution_count": null,
   "metadata": {},
   "outputs": [],
   "source": [
    "a = np.array([1, 2, 3, 4, 5])\n",
    "c = a.copy()  # This creates an explicit copy\n",
    "c[1] = 8\n",
    "\n",
    "print(\"Copy c:    \", c)\n",
    "print(\"Original a:\", a)  # Remains unchanged"
   ]
  },
  {
   "cell_type": "markdown",
   "metadata": {},
   "source": [
    "__Exercise:__ Create a vector $ \\mathbf{a} = (1, 2, 3) $ and a full slice $\n",
    "\\mathbf{b} $ of $ \\mathbf{a} $. Check whether $ \\mathbf{a} $ and\n",
    "$ \\mathbf{b} $ point to the same data with `np.shares_memory(a, b)`."
   ]
  },
  {
   "cell_type": "code",
   "execution_count": null,
   "metadata": {},
   "outputs": [],
   "source": []
  },
  {
   "cell_type": "markdown",
   "metadata": {},
   "source": [
    "⚠️⚡ Note in contrast that slices of Python lists or tuples _are_ independent\n",
    "copies from their originals. However, these are _shallow_ copies: only\n",
    "the containers themselves are copies, not their elements. This may lead to\n",
    "unexpected behavior, as in the following example:"
   ]
  },
  {
   "cell_type": "code",
   "execution_count": null,
   "metadata": {},
   "outputs": [],
   "source": [
    "original = [[1, 2, 3], [4, 5, 6]]\n",
    "shallow_1 = original[:]\n",
    "shallow_2 = original[:]\n",
    "\n",
    "shallow_1[0] = [-1, -2, -3]\n",
    "print(original)  # original is not affected\n",
    "\n",
    "shallow_2[0][0] = 8\n",
    "print(original)  # original is affected!"
   ]
  },
  {
   "cell_type": "markdown",
   "metadata": {},
   "source": [
    "## $ \\S 3 $ Slicing general arrays\n",
    "\n",
    "Slicing becomes more interesting with higher-dimensional arrays. For a $ 2D $\n",
    "array, in principle we need to specify slices for both dimensions, separated by\n",
    "a comma. If we use a single slice, then we are indexing into full rows."
   ]
  },
  {
   "cell_type": "code",
   "execution_count": null,
   "metadata": {},
   "outputs": [],
   "source": [
    "M = np.array([[1, 2, 3],\n",
    "              [4, 5, 6],\n",
    "              [7, 8, 9]])\n",
    "print(M, '\\n')\n",
    "\n",
    "# Accessing a specific row:\n",
    "print(M[1, :], '\\n')  # \"First\" row\n",
    "\n",
    "# Accessing a specific column:\n",
    "print(M[:, 2], '\\n')  # \"Second\" column\n",
    "\n",
    "# Sub-array slicing:\n",
    "print(M[0:2, 1:3], '\\n')  # Top right 2x2 sub-array\n",
    "\n",
    "# If we use only one slice, then entire rows are extracted:\n",
    "print(M[0:2])  # First 2 rows"
   ]
  },
  {
   "cell_type": "markdown",
   "metadata": {},
   "source": [
    "__Exercise:__ \n",
    "Given the $ 3 \\times 4 $ matrix below, use slicing to extract:\n",
    "\n",
    "\n",
    "<img src=\"notebook_2_slicing.png\" alt=\"Slicing exercise\" width=\"870\" height=\"174\">\n",
    "\n",
    "(a) The first two rows.\n",
    "\n",
    "(b) The last two columns.\n",
    "\n",
    "(c) A $ 2 \\times 2 $ submatrix containing the elements at the intersection of\n",
    "    the last two rows and the first two columns."
   ]
  },
  {
   "cell_type": "code",
   "execution_count": null,
   "metadata": {},
   "outputs": [],
   "source": [
    "M = np.array([[1, 2, 3, 4],\n",
    "              [5, 6, 7, 8],\n",
    "              [9, 10, 11, 12]])\n",
    "# (a)\n",
    "\n",
    "# (b)\n",
    "\n",
    "# (c)"
   ]
  },
  {
   "cell_type": "markdown",
   "metadata": {},
   "source": [
    "All of the principles we have seen extend to arrays of higher dimensions."
   ]
  },
  {
   "cell_type": "markdown",
   "metadata": {},
   "source": [
    "__Exercise:__ Consider a $ 3D $ array representing an RGB image of shape\n",
    "$ (3, \\text{height}, \\text{width}) $. Write slices to:\n",
    "\n",
    "(a) Extract the green channel only (index $ 1 $ in the $ 0 $-th dimension).\n",
    "\n",
    "(b) Extract the central part of the image (a rectangle with half the height and\n",
    "    half the width of the original image). _Hint:_ Use the interval\n",
    "    $$ \\texttt{[height // 4 : (3 * height) // 4]} $$\n",
    "    for slicing the height dimension and similarly for the width.\n",
    "\n",
    "(c) Downsample the image by taking every second pixel in both the height and\n",
    "    width dimensions, as in the (exaggerated) example below."
   ]
  },
  {
   "cell_type": "markdown",
   "metadata": {},
   "source": [
    "<p align=\"center\">\n",
    "  <img src=\"notebook_2_panda_hi.JPG\" width=\"40%\" />\n",
    "  <img src=\"notebook_2_panda_lo.JPG\" width=\"40%\" />\n",
    "</p>"
   ]
  },
  {
   "cell_type": "code",
   "execution_count": null,
   "metadata": {},
   "outputs": [],
   "source": [
    "# Let's create a random image with 3 channels (R, G and B)\n",
    "# with 8 bits = 256 values per channel (color intensities between 0 and 255):\n",
    "image = rng.integers(0, 256, size=(3, 1280, 720))\n",
    "# (a)\n",
    "\n",
    "# (b)\n",
    "\n",
    "# (c)"
   ]
  },
  {
   "cell_type": "markdown",
   "metadata": {},
   "source": [
    "## $ \\S 4 $ Other types of indexing\n",
    "\n",
    "Let's now consider a couple of additional indexing mechanisms that allow for\n",
    "more flexible selections and manipulations of arrays.\n",
    "\n",
    "### $ 4.1 $ Integer array indexing\n",
    "\n",
    "__Integer array indexing__ (also known as __fancy indexing__) is very simple\n",
    "despite its name;  it allows us to use arrays of indices to\n",
    "select elements:"
   ]
  },
  {
   "cell_type": "code",
   "execution_count": null,
   "metadata": {},
   "outputs": [],
   "source": [
    "a = np.array([0, 10, 20, 30, 40])\n",
    "indices = np.array([0, 2, 3])  # Select elements at indices 0, 2, and 3\n",
    "print(a[indices])"
   ]
  },
  {
   "cell_type": "markdown",
   "metadata": {},
   "source": [
    "We can also supply the indices to be selected in the form of lists or tuples\n",
    "(instead of arrays). Moreover, for multi-dimensional arrays, we can select\n",
    "specific combinations of rows and columns. In the following example\n",
    "we illustrate both of these points:"
   ]
  },
  {
   "cell_type": "code",
   "execution_count": null,
   "metadata": {},
   "outputs": [],
   "source": [
    "A = np.array([[1, 2, 3],\n",
    "              [4, 5, 6],\n",
    "              [7, 8, 9]])\n",
    "\n",
    "# Select diagonal elements:\n",
    "rows = [0, 1, 2]  # here we are using a _list_ (not array) of indices\n",
    "cols = (0, 1, 2)  # here we use a _tuple_ of indices\n",
    "print(A[rows, cols])  # diagonal elements of A"
   ]
  },
  {
   "cell_type": "markdown",
   "metadata": {},
   "source": [
    "Note how the indices for the rows and columns are paired in order, instead of\n",
    "being combined in all possible ways.\n",
    "\n",
    "__Exercise:__ For the same matrix $ A $ as above, use integer array indexing\n",
    "to select the elements in the anti-diagonal."
   ]
  },
  {
   "cell_type": "code",
   "execution_count": null,
   "metadata": {},
   "outputs": [],
   "source": [
    "# Select elements (0,2), (1,0), (2,1) (the anti-diagonal):\n",
    "rows = # ...\n",
    "cols = # ...\n",
    "print(A[rows, cols])"
   ]
  },
  {
   "cell_type": "markdown",
   "metadata": {},
   "source": [
    "__Exercise:__ Given the $ 4 \\times 4 $ matrix below, use integer array indexing\n",
    "to:\n",
    "\n",
    "(a) Extract the four corner elements.\n",
    "\n",
    "(b) Extract the elements on both diagonals (main diagonal and anti-diagonal)."
   ]
  },
  {
   "cell_type": "code",
   "execution_count": null,
   "metadata": {},
   "outputs": [],
   "source": [
    "M = np.array([[1, 2, 3, 4],\n",
    "              [5, 6, 7, 8],\n",
    "              [9, 10, 11, 12],\n",
    "              [13, 14, 15, 16]])\n",
    "print(M)\n",
    "# (a)\n",
    "\n",
    "# (b)"
   ]
  },
  {
   "cell_type": "markdown",
   "metadata": {},
   "source": [
    "### $ 4.2 $ Combining different types of indices\n",
    "\n",
    "We can mix different types of indices (slices, integers, arrays) to create more\n",
    "complex selections. Consider the following matrix $ M $:"
   ]
  },
  {
   "cell_type": "code",
   "execution_count": null,
   "metadata": {},
   "outputs": [],
   "source": [
    "M = np.array([[1, 2, 3, 4],\n",
    "              [5, 6, 7, 8],\n",
    "              [9, 10, 11, 12],\n",
    "              [13, 14, 15, 16]])\n",
    "print(M)"
   ]
  },
  {
   "cell_type": "markdown",
   "metadata": {},
   "source": [
    "One alternative is to specify a list of the indices that we want to index into\n",
    "for some of the dimensions.  This allows us to capture sets of indices that do\n",
    "not follow the pattern of a slice."
   ]
  },
  {
   "cell_type": "code",
   "execution_count": null,
   "metadata": {},
   "outputs": [],
   "source": [
    "# Select rows 0, 1 and 3, all columns:\n",
    "print(M[[0, 1, 3], :])"
   ]
  },
  {
   "cell_type": "code",
   "execution_count": null,
   "metadata": {},
   "outputs": [],
   "source": [
    "# Select all rows, columns 1 and 3:\n",
    "print(M[:, [1, 3]])"
   ]
  },
  {
   "cell_type": "markdown",
   "metadata": {},
   "source": [
    "If instead of using a slice or list of indices, we specify a single index for\n",
    "some dimension, then that dimension \"collapses\". In particular, the resulting\n",
    "array will have a smaller rank. This is illustrated by the following example:"
   ]
  },
  {
   "cell_type": "code",
   "execution_count": null,
   "metadata": {},
   "outputs": [],
   "source": [
    "# Extracting row 1 through a double slice:\n",
    "print(M[1:2, :])  # The result is still a 2D array\n",
    "\n",
    "# Extracting row 1 by indexing into it:\n",
    "print(M[1, :])  # The result is a 1D array"
   ]
  },
  {
   "cell_type": "markdown",
   "metadata": {},
   "source": [
    "__Exercise:__ Create a $ 2D $ array of shape $ (4, 4) $ filled with\n",
    "random integers and print it for reference.\n",
    "\n",
    "(a) Extract the last row to produce a $ 1D $ array.\n",
    "\n",
    "(b) Extract the last column, as a $ 2D $ array.\n",
    "\n",
    "(c) Extract a $ 2\\times 2 $ sub-array from the center of this array.\n",
    "\n",
    "(d) Extract the $ 3 \\times 2 $ lower-left corner of the array.\n",
    "\n",
    "(e) Extract the subarray consisting of columns indexed by $ 1 $ and $ 3 $\n",
    "    in two ways: by using a slice with step size $ 2 $ and by using a list of\n",
    "    indices."
   ]
  },
  {
   "cell_type": "code",
   "execution_count": null,
   "metadata": {},
   "outputs": [],
   "source": []
  },
  {
   "cell_type": "markdown",
   "metadata": {},
   "source": [
    "## $ \\S 5 $ Boolean indexing\n",
    "\n",
    "### $ 5.1 $ Creating boolean masks and filtering arrays with masks\n",
    "\n",
    "__Boolean indexing__ is a powerful feature that allows us to select elements\n",
    "from an array based on _conditions_ instead of indices.\n",
    "* First we create a __boolean mask__, i.e., an array of `True` and `False`\n",
    "  values, having the same shape as the original array.\n",
    "* Then we use this mask to filter those elements out of our array where the mask\n",
    "  is `True`.\n",
    "\n",
    "Here's an example where we wish to extract all the components of an array that\n",
    "are greater than $ 2 $:\n",
    "\n",
    "<img src=\"notebook_2_boolean_indexing.png\" alt=\"Boolean indexing\" width=\"796\" height=\"131\">"
   ]
  },
  {
   "cell_type": "code",
   "execution_count": null,
   "metadata": {},
   "outputs": [],
   "source": [
    "v = np.array([5, 1, 3, 2, 4])\n",
    "print(\"Original array:\", v)\n",
    "\n",
    "# Create a boolean mask:\n",
    "mask = v > 2\n",
    "print(\"Filter: \", mask)\n",
    "\n",
    "# Use boolean indexing to filter the elements that are greater than 2:\n",
    "selected_elements = v[mask]\n",
    "print(\"Selected elements:\", selected_elements)"
   ]
  },
  {
   "cell_type": "markdown",
   "metadata": {},
   "source": [
    "📝 In NumPy, and Python in general, `True` is treated as\n",
    "equivalent to $ 1 $ in numerical contexts and `False` is equivalent to\n",
    "$ 0 $. Thus, in the preceding example, we can compute the number of elements\n",
    "greater than $ 2 $ by taking the sum of the entries in the mask (we will\n",
    "return to the `np.sum` function later):"
   ]
  },
  {
   "cell_type": "code",
   "execution_count": null,
   "metadata": {},
   "outputs": [],
   "source": [
    "print(\"# of elements greater than two:\", np.sum(filter))"
   ]
  },
  {
   "cell_type": "markdown",
   "metadata": {},
   "source": [
    "Boolean indexing is particularly useful for data cleaning.  We can also filter\n",
    "elements in one step; this syntax is very common in the NumPy ecosystem,\n",
    "although it may seem somewhat strange when one first encounters it:"
   ]
  },
  {
   "cell_type": "code",
   "execution_count": null,
   "metadata": {},
   "outputs": [],
   "source": [
    "u = np.array([-3, 3, -2, 2, -1, 1, 0])\n",
    "result = u[u <= 0]\n",
    "print(result)"
   ]
  },
  {
   "cell_type": "markdown",
   "metadata": {},
   "source": [
    "__Exercise:__ Consider the matrix $ A $ given below.\n",
    "\n",
    "(a) Extract its elements that are $ \\ge 2 $ using boolean indexing.\n",
    "\n",
    "(b) What is the shape of your mask? What is the shape of the resulting array? In\n",
    "    what order are the elements filtered?"
   ]
  },
  {
   "cell_type": "code",
   "execution_count": null,
   "metadata": {},
   "outputs": [],
   "source": [
    "A = rng.integers(0, 5, size=(3, 4))\n",
    "print(A)"
   ]
  },
  {
   "cell_type": "markdown",
   "metadata": {},
   "source": [
    "📝 When using boolean indexing on a multi-dimensional array, the result is\n",
    "always a $ 1D $ array containing the elements where the mask is true."
   ]
  },
  {
   "cell_type": "markdown",
   "metadata": {},
   "source": [
    "⚠️ Boolean indexing always generates a new array, even when the result is otherwise identical to the original array. Therefore, it must be used with caution on very large data."
   ]
  },
  {
   "cell_type": "code",
   "execution_count": null,
   "metadata": {},
   "outputs": [],
   "source": [
    "v = np.array([1, 2, 3, 4, 5])\n",
    "u = v[v > 0]  # Filters the elements of v > 0, which happens to be all of v\n",
    "\n",
    "# Checking the memory addresses of u and v to see whether they match:\n",
    "print(id(u))\n",
    "print(id(v))"
   ]
  },
  {
   "cell_type": "markdown",
   "metadata": {},
   "source": [
    "### $ 5.2 $ Combining boolean operations\n",
    "\n",
    "We can craft more complex masks by using the familiar boolean operators\n",
    "__negation__, __and__, __or__ and __exclusive or__ (__xor__). However, the Python\n",
    "versions of the first three, `not`, `and`, `or`, respectively, do not work with\n",
    "boolean arrays. Instead we should use `~`, `&` and `|`, respectively. The\n",
    "xor operator is denoted by `^`. Their truth tables are given below.\n",
    "\n",
    "<img src=\"notebook_2_truth_tables.png\" alt=\"Truth tables\" width=\"752\" height=\"168\">"
   ]
  },
  {
   "cell_type": "code",
   "execution_count": null,
   "metadata": {},
   "outputs": [],
   "source": [
    "a = np.array([1, 2, 3, 4, 5, 6, 7, 8, 9])\n",
    "\n",
    "# Select elements greater than 2 AND less than 7:\n",
    "print(a[(a > 2) & (a < 7)])  # Result: [3, 4, 5, 6]\n",
    "\n",
    "# Select elements less than 3 OR greater than 7:\n",
    "print(a[(a < 3) | (a > 7)])  # Result: [1, 2, 8, 9]\n",
    "\n",
    "# Negate a condition with ~:\n",
    "print(a[~(a % 3 == 0)])  # Select numbers NOT divisible by 3: [1, 2, 4, 5, 7, 8]\n",
    "\n",
    "# Extract all numbers that multiples of 2 OR 3, but NOT multiples of 6:\n",
    "print(a[(a % 2 == 0) ^ (a % 3 == 0)])"
   ]
  },
  {
   "cell_type": "markdown",
   "metadata": {},
   "source": [
    "📝 Make sure to put parentheses around each condition when combining it."
   ]
  },
  {
   "cell_type": "markdown",
   "metadata": {},
   "source": [
    "__Exercise:__ Given the array below, use boolean indexing to extract:\n",
    "\n",
    "(a) Numbers that are both positive and even.\n",
    "\n",
    "(b) Numbers that are either negative or greater than $ 20 $.\n",
    "\n",
    "(c) Numbers that are either divisible by $ 3 $ or positive, but not both."
   ]
  },
  {
   "cell_type": "code",
   "execution_count": null,
   "metadata": {},
   "outputs": [],
   "source": [
    "data = np.array([15, 23, -10, 0, 42, -7, 8, 12, -25, 30])\n",
    "# (a)\n",
    "\n",
    "# (b)\n",
    "\n",
    "# (c)"
   ]
  },
  {
   "cell_type": "markdown",
   "metadata": {},
   "source": [
    "### $ 5.3 $ The `where` function\n",
    "\n",
    "The `np.where` function serves two primary purposes.  When called on a\n",
    "single argument as `np.where(condition)`, the result consists of the\n",
    "_indices_ where this condition is true.  This provides a powerful way to locate\n",
    "elements of interest within an array."
   ]
  },
  {
   "cell_type": "code",
   "execution_count": null,
   "metadata": {},
   "outputs": [
    {
     "name": "stdout",
     "output_type": "stream",
     "text": [
      "Indices of negative elements: (array([1, 2, 2]), array([1, 0, 2]))\n"
     ]
    }
   ],
   "source": [
    "A = np.array([[1, 2, 4], \n",
    "              [5, -3, 9],\n",
    "              [-7, 6, -8]])\n",
    "\n",
    "negative_indices = np.where(A < 0)\n",
    "print(\"Indices of negative elements:\", negative_indices)"
   ]
  },
  {
   "cell_type": "markdown",
   "metadata": {},
   "source": [
    "In this example, note that the first array in the tuple yields the row indices and\n",
    "the second the column indices of the negative elements in $ A $. When we\n",
    "pair these indices in order, we get the coordinates of these elements inside\n",
    "$ A $, e.g., the entry `A[2, 0]` is $ -7 $. If we want the elements themselves\n",
    "for which the condition holds, we can then use these indices exactly as in $ \\S 4.1 $:"
   ]
  },
  {
   "cell_type": "code",
   "execution_count": 9,
   "metadata": {},
   "outputs": [
    {
     "name": "stdout",
     "output_type": "stream",
     "text": [
      "Negative elements in A:  [-5 -7 -9]\n"
     ]
    }
   ],
   "source": [
    "print(\"Negative elements in A: \", A[negative_indices])"
   ]
  },
  {
   "cell_type": "markdown",
   "metadata": {},
   "source": [
    "📝 In the single-parameter version of `where`, the argument must be a Boolean array, and the result\n",
    "will simply be the positions (indices) of the elements that are `True`."
   ]
  },
  {
   "cell_type": "markdown",
   "metadata": {},
   "source": [
    "__Exercise:__ Referring to the same matrix $ A $ as above:\n",
    "\n",
    "(a) Determine the row and column indices of the elements in $ A $\n",
    "that leave a remainder of $ 1 $ when divided by $ 3 $.\n",
    "\n",
    "(b) Use the indices obtained in (a) to construct an array consisting of the\n",
    "elements of $ A $ that satisfy the stated condition."
   ]
  },
  {
   "cell_type": "code",
   "execution_count": null,
   "metadata": {},
   "outputs": [],
   "source": []
  },
  {
   "cell_type": "markdown",
   "metadata": {},
   "source": [
    "To illustrate the second use of the `where` function, consider the following simple array."
   ]
  },
  {
   "cell_type": "code",
   "execution_count": 2,
   "metadata": {},
   "outputs": [
    {
     "name": "stdout",
     "output_type": "stream",
     "text": [
      "[ 1  2 -3  4 -5  6 -7  8]\n"
     ]
    }
   ],
   "source": [
    "numbers = np.array([1, 2, -3, 4, -5, 6, -7, 8])\n",
    "print(numbers)"
   ]
  },
  {
   "cell_type": "markdown",
   "metadata": {},
   "source": [
    "Suppose that we want to replace those elements in `numbers` that are negative by $ 0 $.\n",
    "We can do this as follows:"
   ]
  },
  {
   "cell_type": "code",
   "execution_count": 4,
   "metadata": {},
   "outputs": [
    {
     "name": "stdout",
     "output_type": "stream",
     "text": [
      "After replacing negatives with zeros: [1 2 0 4 0 6 0 8]\n"
     ]
    }
   ],
   "source": [
    "# Replace negative values with zeros, keep positive values:\n",
    "result = np.where(numbers > 0, numbers, 0)\n",
    "print(\"After replacing negatives with zeros:\", result)"
   ]
  },
  {
   "cell_type": "markdown",
   "metadata": {},
   "source": [
    "Thus, in the form `np.where(condition, x, y)`, this function can work as a\n",
    "vectorized ternary operator (similar to `? :` in C), allowing us to make\n",
    "element-wise choices between two arrays based on a condition. \n",
    "\n",
    "__Exercise:__ Suppose that we are building a weather forecast app. We need\n",
    "to be able to display the temperatures in Fahrenheit or Celsius degrees\n",
    "according to whether the user is US-based or not. Use `where` to accomplish\n",
    "this for the following set of $ 10 $ temperatures:"
   ]
  },
  {
   "cell_type": "code",
   "execution_count": null,
   "metadata": {},
   "outputs": [
    {
     "name": "stdout",
     "output_type": "stream",
     "text": [
      "Temperatures to display (F for US, C for others):\n",
      " [ 68.  77.  30.  35. 104.  15.  50.  41.   0.  23.]\n"
     ]
    }
   ],
   "source": [
    "# Array of temperatures in Celsius:\n",
    "celsius = np.array([20, 25, 30, 35, 40, 15, 10, 5, 0, -5])\n",
    "# Corresponding array of temperatures in Fahrenheit (F = C * 9/5 + 32):\n",
    "fahrenheit = celsius * 9/5 + 32\n",
    "# Boolean mask that tells whether the user is US-based (True) or not (False):\n",
    "is_us_visitor = np.array([True, True, False, False, True, False, True, True, False, True])\n",
    "\n",
    "# Use np.where to display temperatures in appropriate units based on visitor location:\n",
    "# display_temps = ???\n",
    "\n",
    "print(\"Temperatures to display (F for US, C for others):\\n\", np.round(display_temps))"
   ]
  }
 ],
 "metadata": {
  "kernelspec": {
   "display_name": "islp",
   "language": "python",
   "name": "python3"
  },
  "language_info": {
   "codemirror_mode": {
    "name": "ipython",
    "version": 3
   },
   "file_extension": ".py",
   "mimetype": "text/x-python",
   "name": "python",
   "nbconvert_exporter": "python",
   "pygments_lexer": "ipython3",
   "version": "3.12.4"
  }
 },
 "nbformat": 4,
 "nbformat_minor": 2
}
