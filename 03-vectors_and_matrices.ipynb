{
 "cells": [
  {
   "cell_type": "markdown",
   "metadata": {},
   "source": [
    "# Representing and operating on vectors and matrices"
   ]
  },
  {
   "cell_type": "markdown",
   "metadata": {},
   "source": [
    "## $ \\S 1 $ Basic operations on vectors\n",
    "\n",
    "We saw in the previous notebook that a vector such as $ (1, 2, 3) $\n",
    "can be represented in NumPy as a $ 1D $ array:"
   ]
  },
  {
   "cell_type": "code",
   "execution_count": 1,
   "metadata": {},
   "outputs": [],
   "source": [
    "import numpy as np\n",
    "\n",
    "v = np.array([1, 2, 3])\n",
    "w = np.array([4, 5, 6])"
   ]
  },
  {
   "cell_type": "markdown",
   "metadata": {},
   "source": [
    "We can also use NumPy to conveniently perform all of the vector operations\n",
    "that we learned in Linear Algebra.\n",
    "\n",
    "Given vectors $ \\mathbf v = (v_1, v_2, \\cdots, v_n) $ and $ \\mathbf w = (w_1,\n",
    "w_2, \\cdots, w_n) $ with the same number of coordinates, their __sum__ and\n",
    "__difference__ $ \\mathbf v \\pm \\mathbf w $ are computed element-wise:\n",
    "$$\n",
    "\\mathbf v \\pm \\mathbf w = (v_1 \\pm w_1,\\,v_2 \\pm w_2,\\, \\cdots,\\, v_n \\pm w_n)\\,.\n",
    "$$\n",
    "NumPy uses the same notation:"
   ]
  },
  {
   "cell_type": "code",
   "execution_count": 17,
   "metadata": {},
   "outputs": [
    {
     "name": "stdout",
     "output_type": "stream",
     "text": [
      "[5 7 9] <class 'numpy.ndarray'>\n",
      "[-3 -3 -3] <class 'numpy.ndarray'>\n"
     ]
    }
   ],
   "source": [
    "s = v + w\n",
    "print(s, type(s))\n",
    "\n",
    "d = v - w\n",
    "print(d, type(d))"
   ]
  },
  {
   "cell_type": "markdown",
   "metadata": {},
   "source": [
    "__Scalar multiplication__ of a vector by a factor $ c \\in \\mathbb{R} $ is also defined\n",
    "element-wise:\n",
    "$$\n",
    "c\\, \\mathbf v = (c\\,v_1, c\\,v_2, \\cdots, c\\,v_n)\\,.\n",
    "$$"
   ]
  },
  {
   "cell_type": "code",
   "execution_count": 19,
   "metadata": {},
   "outputs": [
    {
     "name": "stdout",
     "output_type": "stream",
     "text": [
      "[2 4 6]\n",
      "[-3.14 -6.28 -9.42]\n",
      "[0 0 0]\n"
     ]
    }
   ],
   "source": [
    "print(2 * v)\n",
    "print(-3.14 * v)\n",
    "print(0 * v)"
   ]
  },
  {
   "cell_type": "markdown",
   "metadata": {},
   "source": [
    "Naturally, we may also write $ -\\mathbf v $ instead of $ (-1)\\mathbf v $. Try it in the code cell below:"
   ]
  },
  {
   "cell_type": "code",
   "execution_count": null,
   "metadata": {},
   "outputs": [],
   "source": []
  },
  {
   "cell_type": "markdown",
   "metadata": {},
   "source": [
    "If we operate on an array whose datatype is `int` and any floating-number is\n",
    "involved in the operation, then the result will be of datatype `float`.  A similar\n",
    "observation applies to any other type coercion."
   ]
  },
  {
   "cell_type": "code",
   "execution_count": 2,
   "metadata": {},
   "outputs": [
    {
     "name": "stdout",
     "output_type": "stream",
     "text": [
      "[1 2 3] int64\n",
      "[1. 2. 3.] float64\n"
     ]
    }
   ],
   "source": [
    "# `v.dtype` yields the datatype of the elements of v.\n",
    "# We will study `dtype` in more detail later.\n",
    "v = np.array([1, 2, 3])\n",
    "print(v, v.dtype)\n",
    "\n",
    "u = 1.0 * v\n",
    "print(u, u.dtype)"
   ]
  },
  {
   "cell_type": "markdown",
   "metadata": {},
   "source": [
    "__Exercise:__ Can you explain the output of the following cell?"
   ]
  },
  {
   "cell_type": "code",
   "execution_count": 3,
   "metadata": {},
   "outputs": [
    {
     "name": "stdout",
     "output_type": "stream",
     "text": [
      "[0 0 2 3] int64\n"
     ]
    }
   ],
   "source": [
    "x = np.array([-1, 0, 1, 3])\n",
    "b = np.array([True, False, True, False])\n",
    "\n",
    "x_plus_b = x + b\n",
    "print(x_plus_b, x_plus_b.dtype)\n"
   ]
  },
  {
   "cell_type": "markdown",
   "metadata": {},
   "source": [
    "The __dot product__ $ \\mathbf v \\cdot \\mathbf w $ of two vectors $ \\mathbf v =\n",
    "(w_1, w_2, \\cdots, w_n) $ and $ \\mathbf w  = (w_1, w_2, \\cdots, w_n) $ of the\n",
    "same shape is the sum of the products of their corresponding coordinates:\n",
    "$$\n",
    "\\boxed{\\ \\mathbf v \\cdot \\mathbf w = v_1w_1 + v_2w_2 + \\cdots + v_nw_n\\ } \n",
    "$$"
   ]
  },
  {
   "cell_type": "code",
   "execution_count": 14,
   "metadata": {},
   "outputs": [
    {
     "name": "stdout",
     "output_type": "stream",
     "text": [
      "32\n"
     ]
    }
   ],
   "source": [
    "v = np.array([1, 2, 3])\n",
    "w = np.array([4, 5, 6])\n",
    "dot_product = np.dot(v, w)\n",
    "print(dot_product)"
   ]
  },
  {
   "cell_type": "markdown",
   "metadata": {},
   "source": [
    "Equivalently, we can also use the `@` operator to compute dot products:"
   ]
  },
  {
   "cell_type": "code",
   "execution_count": 16,
   "metadata": {},
   "outputs": [
    {
     "name": "stdout",
     "output_type": "stream",
     "text": [
      "32\n"
     ]
    }
   ],
   "source": [
    "alternative_dot_product = v @ w\n",
    "print(alternative_dot_product)"
   ]
  },
  {
   "cell_type": "markdown",
   "metadata": {},
   "source": [
    "It is easy to verify directly from the definition that the dot product is both:\n",
    "* symmetric, i.e.,\n",
    "    $$ \\mathbf v \\cdot \\mathbf w = \\mathbf w \\cdot \\mathbf v \\qquad (\\mathbf v,\\, \\mathbf w \\in \\mathbb R^n)\\,; \\qquad \\text{and} $$\n",
    "* bilinear, meaning that \n",
    "\\begin{alignat*}{9}\n",
    "    (a\\, \\mathbf u + b\\,\\mathbf v) \\cdot \\mathbf w\n",
    "    &= a\\, (\\mathbf u \\cdot \\mathbf w) + b\\, (\\mathbf v \\cdot \\mathbf w) \\\\\n",
    "    \\mathbf u \\cdot (a\\,\\mathbf v + b\\,\\mathbf w) \n",
    "    &= a\\, (\\mathbf u \\cdot \\mathbf v) + b\\, (\\mathbf u \\cdot \\mathbf w)\\qquad && (\\mathbf u,\\,\\mathbf v,\\, \\mathbf w \\in \\mathbb R^n,\\ a,\\,b \\in \\mathbb R)\\,.\n",
    "\\end{alignat*}"
   ]
  },
  {
   "cell_type": "markdown",
   "metadata": {},
   "source": [
    "The __norm__ or __length__ of a vector\n",
    "$ \\mathbf v = (v_1, v_2, \\cdots, v_n) \\in \\mathbb R^n $ is defined by\n",
    "$$\n",
    "\\boxed{\\ \\Vert \\mathbf v \\Vert = \\sqrt{\\mathbf v \\cdot \\mathbf v} = \\sqrt{v_1^2 + v_2^2 + \\cdots + v_n^2}\\ } $$\n",
    "In dimension $ 2 $, this definition of \"length\" matches our intuitive notion and\n",
    "can be justified by a simple use of Pythagoras' theorem, as illustrated in the\n",
    "figure below. For higher dimensions, we apply Pythagoras' theorem and\n",
    "induction.\n",
    "\n",
    "For example, the norm (length) of the vector $ \\mathbf v = (1, -2, 3) \\in\n",
    "\\mathbb R^3 $ is $ \\sqrt{1^2 + (-2)^2 + 3^2} = \\sqrt{14} $, while the norm of\n",
    "$ \\big(\\frac{1}{2}, \\frac{1}{2}, \\frac{1}{2}, \\frac{1}{2} \\big) \\in \\mathbb R^4 $\n",
    "is $ 1 $.\n",
    "\n",
    "![Vector](vector.png)\n",
    "\n",
    "\n",
    "In NumPy, the norm of a vector can be computed as follows:"
   ]
  },
  {
   "cell_type": "code",
   "execution_count": 4,
   "metadata": {},
   "outputs": [
    {
     "name": "stdout",
     "output_type": "stream",
     "text": [
      "5.0\n",
      "5.0\n"
     ]
    }
   ],
   "source": [
    "v = np.array([3, 4])\n",
    "\n",
    "# We can invoke the function `norm` from the `linalg` submodule:\n",
    "print(np.linalg.norm(v))\n",
    "\n",
    "# Alternatively, we can take the square root of the dot product:\n",
    "print(np.sqrt(np.dot(v, v)))"
   ]
  },
  {
   "cell_type": "markdown",
   "metadata": {},
   "source": [
    "Recall that two vectors are __orthogonal__ (or __perpendicular__) if and only if\n",
    "their dot product vanishes.  As an example, try to decide whether the two\n",
    "vectors below are orthogonal using Python:"
   ]
  },
  {
   "cell_type": "code",
   "execution_count": 19,
   "metadata": {},
   "outputs": [],
   "source": [
    "a = np.array([-3, 4, 7, 3, -6])\n",
    "b = np.array([2, 5, -2, 4, 2])"
   ]
  },
  {
   "cell_type": "markdown",
   "metadata": {},
   "source": [
    "More generally, recall from Linear Algebra the following relationship between the dot product and\n",
    "the smallest angle $ \\theta \\in [0, \\pi] $ between two vectors:\n",
    "$$\n",
    "\\boxed{\\ \\mathbf v \\cdot \\mathbf w = \\Vert \\mathbf v \\Vert \\,\\Vert \\mathbf w \\Vert \\cos \\theta\\ }\n",
    "$$\n",
    "                                                                                                    "
   ]
  },
  {
   "cell_type": "markdown",
   "metadata": {},
   "source": [
    "__Exercise:__ Compute the angle between the vectors $ \\mathbf v = (2, 0) $ and $ \\mathbf w = (3, 3) $ in degrees. _Hint:_ See\n",
    "the illustration below. Use `np.arccos` to compute the arccosine and\n",
    "`np.degrees` to transform the result to degrees.\n"
   ]
  },
  {
   "cell_type": "code",
   "execution_count": null,
   "metadata": {},
   "outputs": [],
   "source": []
  },
  {
   "cell_type": "markdown",
   "metadata": {},
   "source": [
    "![Angle](vectors_and_angle.png)"
   ]
  },
  {
   "cell_type": "markdown",
   "metadata": {},
   "source": [
    "__Exercise:__ Consider the three vectors $ \\mathbf a $, $ \\mathbf b $ and $ \\mathbf c $ in the code cell below.\n",
    "\n",
    "(a) Compute $ \\mathbf d = 3\\mathbf a + 2\\mathbf b - \\mathbf c $.\n",
    "\n",
    "(b) Project $ \\mathbf d $ onto the line spanned by $ \\mathbf b $ to get $ \\mathbf e $. That is, compute \n",
    "$$ \\mathbf e = \\frac{\\mathbf d \\cdot \\mathbf b}{\\mathbf b \\cdot \\mathbf b} \\mathbf b \\,.$$"
   ]
  },
  {
   "cell_type": "code",
   "execution_count": null,
   "metadata": {},
   "outputs": [],
   "source": [
    "a = np.array([1, 2, 3])\n",
    "b = np.array([4, 5, 6])\n",
    "c = np.array([7, 8, 9])"
   ]
  },
  {
   "cell_type": "markdown",
   "metadata": {},
   "source": [
    "__Exercise:__ The __canonical basis__ in $ \\mathbb R^3 $ consists of the three vectors\n",
    "$$ \\mathbf e_1 = (1, 0, 0)\\,, \\quad \\mathbf e_2 = (0, 1, 0)\\,, \\quad \\text{and} \\quad \\mathbf e_3 = (0, 0, 1) \\,,$$\n",
    "which have norm $ 1 $ and point in the same direction as the positive $ x $-, $ y $- and $ z$-axis, respectively.\n",
    "Using Python, compute and print all possible dot products $ \\mathbf e_i \\cdot \\mathbf e_j $. _Hint:_ Store the\n",
    "vectors in a list and use two for loops."
   ]
  },
  {
   "cell_type": "code",
   "execution_count": null,
   "metadata": {},
   "outputs": [],
   "source": []
  },
  {
   "cell_type": "markdown",
   "metadata": {},
   "source": [
    "The __cross product__ $ \\mathbf v \\times \\mathbf w \\in \\mathbb R^3 $ of two vectors in\n",
    "three-dimensional space results in a vector _orthogonal to both $ \\mathbf v $ and $ \\mathbf w $\n",
    "whose length is given by_\n",
    "$$\n",
    "\\boxed{\\ \\Vert{\\mathbf v \\times \\mathbf w}\\Vert = \\Vert{\\mathbf v}\\Vert\\,\\Vert{\\mathbf w}\\Vert\\,\\sin \\theta\\ }\n",
    "$$\n",
    "where again $ \\theta \\in [0, \\pi] $ denotes the angle between $ \\mathbf v $ and\n",
    "$ \\mathbf w $. The cross product is uniquely determined by these two properties\n",
    "together with the fact that the basis $ \\big(\\mathbf v,\\, \\mathbf w,\\, \\mathbf v\n",
    "\\times \\mathbf w \\big) $ is _positively oriented_ (i.e., this trio of vectors,\n",
    "in this order, satisfies the \"right-hand rule\"). Like the dot product, the cross\n",
    "product $ \\times $ is also bilinear, but it is antisymmetric instead of\n",
    "symmetric:\n",
    "$$ \\mathbf w \\times \\mathbf v = -\\mathbf v \\times \\mathbf w \\quad (\\mathbf v,\\, \\mathbf w \\in \\mathbb R^3)\\,.\n",
    "$$"
   ]
  },
  {
   "cell_type": "markdown",
   "metadata": {},
   "source": [
    "__Exercise:__ Compute all possible cross products of the canonical basis vectors $ \\mathbf e_i $ in $ \\mathbb R^3 $\n",
    "using the function `cross`. _Hint:_ Use for loops."
   ]
  },
  {
   "cell_type": "code",
   "execution_count": 32,
   "metadata": {},
   "outputs": [
    {
     "name": "stdout",
     "output_type": "stream",
     "text": [
      "[0 0 1]\n"
     ]
    }
   ],
   "source": [
    "e1 = np.array([1, 0, 0])\n",
    "e2 = np.array([0, 1, 0])\n",
    "cross_product = np.cross(e1, e2)\n",
    "print(cross_product)"
   ]
  },
  {
   "cell_type": "markdown",
   "metadata": {},
   "source": [
    "A __unit vector__ is a vector of length $ 1 $. To get a unit vector $ \\mathbf u $ having the same\n",
    "direction as a given nonzero vector $ \\mathbf v $, we can simply divide the latter by its norm:\n",
    "$$\n",
    "\\mathbf u = \\frac{\\mathbf v}{\\Vert \\mathbf v \\Vert}\\,.\n",
    "$$\n",
    "Indeed, using the bilinearity of the dot product and the definition of the norm, we can check directly that\n",
    "$$\n",
    "\\mathbf u \\cdot \\mathbf u = \\bigg(\\frac{\\mathbf v}{\\Vert \\mathbf v \\Vert}\\bigg) \\cdot \\bigg(\\frac{\\mathbf v}{\\Vert \\mathbf v \\Vert}\\bigg)\n",
    "= \\frac{1}{\\Vert \\mathbf v \\Vert^2}\\big({\\mathbf v \\cdot \\mathbf v}\\big) = \\frac{\\Vert \\mathbf v \\Vert^2}{\\Vert \\mathbf v \\Vert^2} = 1\\,."
   ]
  },
  {
   "cell_type": "markdown",
   "metadata": {},
   "source": [
    "__Exercise:__ How many _unit_ vectors in $ \\mathbb{R}^3 $ are parallel to $ \\mathbf v = (3, -4, 10) $ (i.e., lie on the same line through the origin as $ \\mathbf v $)? Compute all of them using NumPy."
   ]
  },
  {
   "cell_type": "code",
   "execution_count": 23,
   "metadata": {},
   "outputs": [],
   "source": [
    "v = np.array([3, -4, 12])"
   ]
  },
  {
   "cell_type": "markdown",
   "metadata": {},
   "source": [
    "__Exercise:__ Recall that $ A $ is\n",
    "an __orthogonal matrix__ if and only if its $ n $ column vectors (or,\n",
    "equivalently, row vectors) $ \\mathbf v_1, \\cdots, \\mathbf v_n $ form an\n",
    "_orthonormal basis_ of $ \\mathbb R^n $ that is,\n",
    "$$\n",
    "\\mathbf v_i \\cdot \\mathbf v_j = \n",
    "\\begin{cases}\n",
    "1 & \\text{if $ i = j $} \\\\\n",
    "0 & \\text{otherwise}\n",
    "\\end{cases}\n",
    "\\qquad \\text{for each $ i,\\,j = 1, \\cdots, n\\,. $}\n",
    "$$\n",
    "\n",
    "(a) Write a Python function `is_orthogonal` that determines whether a\n",
    "given $ n \\times n $ square matrix $ A $ is orthogonal. \n",
    "_Hint:_ Use the slice `A[:, i]` to extract the $ i $-th column vector of $ A $.\n",
    "\n",
    "(b) Can you see any potential problems with your approach when $ \\mathbf A $\n",
    "consists of floating-point numbers? How could these problems be controlled?"
   ]
  },
  {
   "cell_type": "code",
   "execution_count": null,
   "metadata": {},
   "outputs": [],
   "source": []
  },
  {
   "cell_type": "markdown",
   "metadata": {},
   "source": [
    "## $ \\S 2 $ Basic operations involving matrices\n",
    "\n",
    "Just as for vectors, we can __add__ and __subtract__ two matrices, or more\n",
    "generally any two arrays _having the same shape_ using\n",
    "`+` and `-` respectively:"
   ]
  },
  {
   "cell_type": "code",
   "execution_count": 24,
   "metadata": {},
   "outputs": [
    {
     "name": "stdout",
     "output_type": "stream",
     "text": [
      "Matrix A:\n",
      " [[1 2 3]\n",
      " [1 2 3]] \n",
      "\n",
      "Matrix B:\n",
      " [[4 4 4]\n",
      " [5 5 5]] \n",
      "\n",
      "Sum:\n",
      " [[5 6 7]\n",
      " [6 7 8]] \n",
      "\n",
      "Difference:\n",
      " [[-3 -2 -1]\n",
      " [-4 -3 -2]] \n",
      "\n"
     ]
    }
   ],
   "source": [
    "A = np.array([[1, 2, 3],\n",
    "              [1, 2, 3]])\n",
    "\n",
    "B = np.array([[4, 4, 4],\n",
    "              [5, 5, 5]])\n",
    "\n",
    "print(\"Matrix A:\\n\", A, '\\n')\n",
    "print(\"Matrix B:\\n\", B, '\\n')\n",
    "print(\"Sum:\\n\", A + B, '\\n')\n",
    "print(\"Difference:\\n\", A - B, '\\n')"
   ]
  },
  {
   "cell_type": "markdown",
   "metadata": {},
   "source": [
    "Similarly, to __scale__ every element of a matrix (or, more generally, $ n\n",
    "$-dimensional array) $ A $ by a scalar $ c $, we may use either `c * A` or `A * c`:"
   ]
  },
  {
   "cell_type": "code",
   "execution_count": 12,
   "metadata": {},
   "outputs": [
    {
     "name": "stdout",
     "output_type": "stream",
     "text": [
      "c * A:\n",
      " [[2 4 6]\n",
      " [2 4 6]] \n",
      "\n",
      "A * c:\n",
      " [[2 4 6]\n",
      " [2 4 6]] \n",
      "\n"
     ]
    }
   ],
   "source": [
    "c = 2\n",
    "print(\"c * A:\\n\", c * A, '\\n')\n",
    "print(\"A * c:\\n\", A * c, '\\n')"
   ]
  },
  {
   "cell_type": "markdown",
   "metadata": {},
   "source": [
    "For __multiplication__ of 2D arrays, i.e., matrices, NumPy uses the `np.matmul` function or\n",
    "the `@` operator. Note that we are referring here to matrix multiplication,\n",
    "which is different from element-wise multiplication. In particular, for the\n",
    "product to make sense, the number of columns in the first matrix must match the\n",
    "number of rows in the second matrix: the product of an $ m \\times n $ matrix by\n",
    "an $ n \\times p $ matrix has shape $ m \\times p $."
   ]
  },
  {
   "cell_type": "code",
   "execution_count": 31,
   "metadata": {},
   "outputs": [
    {
     "name": "stdout",
     "output_type": "stream",
     "text": [
      "[[ 74  80  86  92]\n",
      " [173 188 203 218]] (2, 4)\n",
      "[[ 74  80  86  92]\n",
      " [173 188 203 218]] (2, 4)\n"
     ]
    }
   ],
   "source": [
    "# Creating a 2 x 3 matrix A:\n",
    "A = np.array([[1, 2, 3],\n",
    "              [4, 5, 6]])\n",
    "\n",
    "# Creating a 3 x 4 matrix B:\n",
    "B = np.array([[7, 8, 9, 10],\n",
    "              [11, 12, 13, 14],\n",
    "              [15, 16, 17, 18]])\n",
    "\n",
    "# Multiplying A and B:\n",
    "C = np.matmul(A, B)\n",
    "# Alternatively:\n",
    "D = A @ B\n",
    "print(C, C.shape)\n",
    "print(D, D.shape)"
   ]
  },
  {
   "cell_type": "markdown",
   "metadata": {},
   "source": [
    "📝 `np.matmul` and `@` are completely equivalent in their output and\n",
    "performance. The choice between them is a matter of preference and code\n",
    "readability."
   ]
  },
  {
   "cell_type": "markdown",
   "metadata": {},
   "source": [
    "__Exercise:__ Compute `C @ C`, `C * C`, `C**2` and `C**(-1)` for the matrix $ C $ below. Can you explain these results? We will return to these operations in another notebook."
   ]
  },
  {
   "cell_type": "code",
   "execution_count": 10,
   "metadata": {},
   "outputs": [],
   "source": [
    "C = np.array([[-2.5, -1.7, -0.5],\n",
    "              [ 2.4, -6.5,  3.3],\n",
    "              [-0.5,  5.0,  1.0]])"
   ]
  },
  {
   "cell_type": "markdown",
   "metadata": {},
   "source": [
    "To instantiate a copy of the identity matrix of shape $ n \\times n $,\n",
    "we can use the function `np.identity` as follows:"
   ]
  },
  {
   "cell_type": "code",
   "execution_count": 5,
   "metadata": {},
   "outputs": [
    {
     "name": "stdout",
     "output_type": "stream",
     "text": [
      "[[1. 0. 0. 0.]\n",
      " [0. 1. 0. 0.]\n",
      " [0. 0. 1. 0.]\n",
      " [0. 0. 0. 1.]]\n",
      "float64\n"
     ]
    }
   ],
   "source": [
    "n = 4\n",
    "I = np.identity(n)  # Create an n x n identity matrix\n",
    "print(I)\n",
    "print(I.dtype)"
   ]
  },
  {
   "cell_type": "markdown",
   "metadata": {},
   "source": [
    "A more flexible version of `np.identity` allowing the creation of non-square matrices is `np.eye`:"
   ]
  },
  {
   "cell_type": "code",
   "execution_count": 27,
   "metadata": {},
   "outputs": [
    {
     "name": "stdout",
     "output_type": "stream",
     "text": [
      "[[1. 0. 0. 0.]\n",
      " [0. 1. 0. 0.]\n",
      " [0. 0. 1. 0.]]\n"
     ]
    }
   ],
   "source": [
    "E = np.eye(3, 4)\n",
    "print(E)"
   ]
  },
  {
   "cell_type": "markdown",
   "metadata": {},
   "source": [
    "The third (optional) parameter of `np.eye` specifies an offset to the diagonal:"
   ]
  },
  {
   "cell_type": "code",
   "execution_count": 31,
   "metadata": {},
   "outputs": [
    {
     "name": "stdout",
     "output_type": "stream",
     "text": [
      "[[1. 0. 0. 0.]\n",
      " [0. 1. 0. 0.]\n",
      " [0. 0. 1. 0.]\n",
      " [0. 0. 0. 1.]] \n",
      "\n",
      "[[0. 1. 0. 0.]\n",
      " [0. 0. 1. 0.]\n",
      " [0. 0. 0. 1.]\n",
      " [0. 0. 0. 0.]] \n",
      "\n",
      "[[0. 0. 0. 0.]\n",
      " [0. 0. 0. 0.]\n",
      " [1. 0. 0. 0.]\n",
      " [0. 1. 0. 0.]] \n",
      "\n"
     ]
    }
   ],
   "source": [
    "I = np.eye(4, 4, 0)   # An offset of 0 corresponds to the main diagonal\n",
    "U = np.eye(4, 4, 1)   # An offset of 1 corresponds to the diagonal immediately above the main one\n",
    "L = np.eye(4, 4, -2)  # A negative offset to refers to a lower diagonal\n",
    "\n",
    "print(I, '\\n')\n",
    "print(U, '\\n')\n",
    "print(L, '\\n')"
   ]
  },
  {
   "cell_type": "markdown",
   "metadata": {},
   "source": [
    "__Exercise:__ Compute the linear combination $ M^2 - 3 M + 2I $, for $ M $ the matrix below:"
   ]
  },
  {
   "cell_type": "code",
   "execution_count": 36,
   "metadata": {},
   "outputs": [],
   "source": [
    "M = np.array([[ 0, -2],\n",
    "              [ 1,  3]])"
   ]
  },
  {
   "cell_type": "markdown",
   "metadata": {},
   "source": [
    "The diagonal elements of a square matrix $ A $ can be extracted to a $ 1D $ array using the function `np.diag(A)`."
   ]
  },
  {
   "cell_type": "markdown",
   "metadata": {},
   "source": [
    "__Exercise:__ Extract the diagonal elements of the matrix $ C $ below into a vector and\n",
    "then compute its length and the angle it makes with the vector $ (7, -2, 1) $:"
   ]
  },
  {
   "cell_type": "code",
   "execution_count": 11,
   "metadata": {},
   "outputs": [],
   "source": [
    "C = np.array([[0, -4, 2],\n",
    "              [3, 1, -5],\n",
    "              [-3, 0, 2]])"
   ]
  },
  {
   "cell_type": "markdown",
   "metadata": {},
   "source": [
    "When multiplying a $ 2D $ array (matrix) by a $ 1D $ array (vector), the vector\n",
    "is temporarily viewed as a column matrix and the operation is then treated as a\n",
    "matrix multiplication.  Thus, matrix-vector multiplication can also be handled\n",
    "by `@`, or equivalently `np.matmul`:"
   ]
  },
  {
   "cell_type": "code",
   "execution_count": 32,
   "metadata": {},
   "outputs": [
    {
     "name": "stdout",
     "output_type": "stream",
     "text": [
      "[2 2] (2,)\n",
      "[2 2] (2,)\n"
     ]
    }
   ],
   "source": [
    "A = np.array([[1, 2, 3],\n",
    "              [4, 5, 6]])\n",
    "v = np.array([-1, 0, 1])\n",
    "\n",
    "prod1 = A @ v\n",
    "prod2 = np.matmul(A, v)\n",
    "print(prod1, prod1.shape)\n",
    "print(prod2, prod2.shape)"
   ]
  },
  {
   "cell_type": "markdown",
   "metadata": {},
   "source": [
    "Recall that the __trace__ of a square matrix is by definition the sum of all of\n",
    "its diagonal entries. To compute the __trace__, __determinant__ and the\n",
    "__inverse__ of a _square_ matrix, we can use the `np.trace`, `np.linalg.det` and\n",
    "the `np.linalg.inv` functions, respectively. "
   ]
  },
  {
   "cell_type": "code",
   "execution_count": 5,
   "metadata": {},
   "outputs": [
    {
     "name": "stdout",
     "output_type": "stream",
     "text": [
      "Matrix X:\n",
      " [[1 2]\n",
      " [3 4]]\n",
      "Trace of X: 5.00\n",
      "Determinant of X: -2.00\n"
     ]
    }
   ],
   "source": [
    "X = np.array([[1, 2],\n",
    "              [3, 4]])\n",
    "print(\"Matrix X:\\n\", X)\n",
    "print(f\"Trace of X: {np.trace(X):.2f}\")\n",
    "print(f\"Determinant of X: {np.linalg.det(X):.2f}\")"
   ]
  },
  {
   "cell_type": "code",
   "execution_count": 3,
   "metadata": {},
   "outputs": [
    {
     "name": "stdout",
     "output_type": "stream",
     "text": [
      "Inverse of A:\n",
      " [[-0. -1.]\n",
      " [ 1.  0.]]\n",
      "Product of A and its inverse:\n",
      " [[1. 0.]\n",
      " [0. 1.]]\n"
     ]
    }
   ],
   "source": [
    "A = np.array([[0, 1],\n",
    "              [-1, 0]])\n",
    "A_inverse = np.linalg.inv(A)\n",
    "print(\"Inverse of A:\\n\", A_inverse)\n",
    "print(\"Product of A and its inverse:\\n\", A @ A_inverse)"
   ]
  },
  {
   "cell_type": "markdown",
   "metadata": {},
   "source": [
    "__Exercise:__ Find the area of the parallelogram spanned by the vectors \n",
    "$ (3, 5) $ and $ (2, 4) $ in $ \\mathbb{R}^2 $.  Recall that this area can be\n",
    "computed as the absolute value of the determinant of the matrix formed by these\n",
    "vectors. _Hint:_ The absolute value function in NumPy is denoted by `np.abs`."
   ]
  },
  {
   "cell_type": "code",
   "execution_count": null,
   "metadata": {},
   "outputs": [],
   "source": []
  },
  {
   "cell_type": "markdown",
   "metadata": {},
   "source": [
    "__Exercise:__ Given two square matrices $ C $ and $ D $ of the same size, recall\n",
    "that the determinant of their product is the product of their determinants:\n",
    "$$\n",
    "\\boxed{\\ \\det(CD) = \\det(C) \\cdot \\det(D)\\ }\n",
    "$$\n",
    "Verify this identity in the particular example where\n",
    "$$\n",
    "C = \\begin{bmatrix}\n",
    "1 & 2 \\\\\n",
    "3 & 4 \\\\\n",
    "\\end{bmatrix} \\quad \\text{and} \\quad\n",
    "D = \\begin{bmatrix}\n",
    "2 & 3 \\\\\n",
    "1 & 4 \\\\\n",
    "\\end{bmatrix}\\,.\n",
    "$$"
   ]
  },
  {
   "cell_type": "code",
   "execution_count": null,
   "metadata": {},
   "outputs": [],
   "source": []
  },
  {
   "cell_type": "markdown",
   "metadata": {},
   "source": [
    "__Exercise:__ Solve the linear system of equations given by $ A\\mathbf{x} = \\mathbf{b} $, where\n",
    "$$\n",
    "A = \\begin{bmatrix}\n",
    "1 & 2 & 3 \\\\\n",
    "0 & 1 & 4 \\\\\n",
    "5 & 6 & 0 \\\\\n",
    "\\end{bmatrix} \\quad \\text{and} \\quad \\mathbf b = \\begin{bmatrix}\n",
    "3 \\\\\n",
    "7 \\\\\n",
    "8 \\\\\n",
    "\\end{bmatrix}\\,.\n",
    "$$\n",
    "Verify your answer by multiplying $ A $ by $ \\mathbf x $.\n",
    "_Hint:_ Use the inverse of $ A $ to find $ \\mathbf{x} = A^{-1}\\mathbf{b} $."
   ]
  },
  {
   "cell_type": "code",
   "execution_count": null,
   "metadata": {},
   "outputs": [],
   "source": []
  },
  {
   "cell_type": "markdown",
   "metadata": {},
   "source": [
    "__Exercise:__ Recall the function `is_orthogonal` from the last exercise of $ \\S\n",
    "1 $ that determines whether a given $ n \\times n $ square matrix $ A $ is\n",
    "orthogonal by verifying whether its column vectors are orthonormal. An\n",
    "equivalent condition for the orthogonality of $ A $ is that it satisfy\n",
    "$$\n",
    "A^TA = I_n = AA^T\\,,\n",
    "$$\n",
    "where $ A^T $ is the transpose of $ A $ and $ I_n $ is the $ n \\times n $ identity matrix.\n",
    "(Actually, any one of these equations by itself already suffices for orthogonality.)\n",
    " \n",
    "Write another version of `is_orthogonal` that makes use of this criterion. When comparing\n",
    "to the identity, you may want to use `np.round(B, 3)` to round all entries of $\n",
    "B $ to three decimal digits to avoid false negatives."
   ]
  },
  {
   "cell_type": "code",
   "execution_count": null,
   "metadata": {},
   "outputs": [],
   "source": []
  }
 ],
 "metadata": {
  "kernelspec": {
   "display_name": "Python 3",
   "language": "python",
   "name": "python3"
  },
  "language_info": {
   "codemirror_mode": {
    "name": "ipython",
    "version": 3
   },
   "file_extension": ".py",
   "mimetype": "text/x-python",
   "name": "python",
   "nbconvert_exporter": "python",
   "pygments_lexer": "ipython3",
   "version": "3.12.3"
  }
 },
 "nbformat": 4,
 "nbformat_minor": 2
}
