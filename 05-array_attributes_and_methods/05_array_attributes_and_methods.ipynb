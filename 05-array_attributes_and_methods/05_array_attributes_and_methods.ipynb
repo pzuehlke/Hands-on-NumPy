{
 "cells": [
  {
   "cell_type": "code",
   "execution_count": 1,
   "metadata": {},
   "outputs": [],
   "source": [
    "import numpy as np"
   ]
  },
  {
   "cell_type": "markdown",
   "metadata": {},
   "source": [
    "# Array attributes and methods\n",
    "\n",
    "In this notebook we will study the fundamental _attributes_ (properties) and\n",
    "_methods_ (transformations) of NumPy arrays. This will allow us to \n",
    "to analyze, manipulate and restructure our data in various ways."
   ]
  },
  {
   "cell_type": "markdown",
   "metadata": {},
   "source": [
    "## $ \\S 1 $ Attributes of arrays\n",
    "\n",
    "### $ 1.1 $ Shape and number of dimensions"
   ]
  },
  {
   "cell_type": "markdown",
   "metadata": {},
   "source": [
    "The __number of dimensions__, also known as the __rank__, of an array is stored\n",
    "in its `ndim` attribute. For example, the following matrix has rank $ 2 $, because\n",
    "it has two __axes__, one corresponding to its rows and the other one to its columns:\n",
    "\n",
    "<img src=\"array.svg\" width=\"500\" alt=\"Example of an array A\">"
   ]
  },
  {
   "cell_type": "code",
   "execution_count": 11,
   "metadata": {},
   "outputs": [
    {
     "name": "stdout",
     "output_type": "stream",
     "text": [
      "[[ 1  2  3  4]\n",
      " [ 1  4  9 16]\n",
      " [ 1  8 27 64]] \n",
      "\n",
      "Number of dimensions (rank) of A: 2\n"
     ]
    }
   ],
   "source": [
    "A = np.array([[1, 2,  3,  4],\n",
    "              [1, 4,  9, 16],\n",
    "              [1, 8, 27, 64]])\n",
    "print(A, '\\n')\n",
    "\n",
    "print(f\"Number of dimensions (rank) of A: {A.ndim}\")"
   ]
  },
  {
   "cell_type": "markdown",
   "metadata": {},
   "source": [
    "⚠️ Note that the notions of (matrix) _rank_ and _number of dimensions_ (of a\n",
    "vector space) studied in Linear Algebra are at odds with those in NumPy. For\n",
    "instance, the `ndim` of the vector $ \\mathbf{v} = (1, 2, 3) $ is $ 1 $ since\n",
    "it has a single axis, despite the fact that it has three coordinates."
   ]
  },
  {
   "cell_type": "markdown",
   "metadata": {},
   "source": [
    "Perhaps the most important property of an array is its **shape**, which is the\n",
    "element count along each of its axes.  Referring to the preceding example, the\n",
    "shape of our matrix $ A $ is $ (3, 4) $, since it has three\n",
    "rows and four columns:"
   ]
  },
  {
   "cell_type": "code",
   "execution_count": 5,
   "metadata": {},
   "outputs": [
    {
     "name": "stdout",
     "output_type": "stream",
     "text": [
      "(3, 4)\n"
     ]
    }
   ],
   "source": [
    "print(A.shape)"
   ]
  },
  {
   "cell_type": "markdown",
   "metadata": {},
   "source": [
    "📝 The number of dimensions of an array is a positive integer, while its shape is always a tuple, even when the array is one-dimensional:"
   ]
  },
  {
   "cell_type": "code",
   "execution_count": null,
   "metadata": {},
   "outputs": [
    {
     "name": "stdout",
     "output_type": "stream",
     "text": [
      "(3,)\n",
      "Note that the shape is not '3', but rather the tuple '(3, )'\n",
      "<class 'tuple'>\n"
     ]
    }
   ],
   "source": [
    "primes = np.array([19, 199, 1999])\n",
    "print(primes.shape)\n",
    "\n",
    "print(\"Note that the shape is not '3', but rather the tuple '(3, )'\")\n",
    "print(type(primes.shape))"
   ]
  },
  {
   "cell_type": "markdown",
   "metadata": {},
   "source": [
    "The __size__ of an array is simply the total number of elements in it:"
   ]
  },
  {
   "cell_type": "code",
   "execution_count": null,
   "metadata": {},
   "outputs": [
    {
     "name": "stdout",
     "output_type": "stream",
     "text": [
      "3\n"
     ]
    }
   ],
   "source": [
    "print(primes.size)"
   ]
  },
  {
   "cell_type": "markdown",
   "metadata": {},
   "source": [
    "__Exercise:__ \n",
    "\n",
    "(a) What is the size of the matrix $ A $ of shape $ (3, 4) $ that we considered\n",
    "above?\n",
    "\n",
    "(b) What are the rank (i.e., number of dimensions), shape and size of an empty\n",
    "$ 1D $ array? An empty $ 2D $ array?"
   ]
  },
  {
   "cell_type": "code",
   "execution_count": null,
   "metadata": {},
   "outputs": [],
   "source": []
  },
  {
   "cell_type": "markdown",
   "metadata": {},
   "source": [
    "__Exercise:__ If an array has shape $ (2, 3, 4) $, what is its size? More generally, what is the size of an array of shape $ (n_1, n_2, \\cdots, n_d) $? _Hint:_ We have $ n_1 $ options for the first index, for each of these we have $ n_2 $ options for the second index, for each of these we have $ n_3 $ options for the third index, etc., hence in total we have $ \\underline{\\hspace{1cm}} $ elements."
   ]
  },
  {
   "cell_type": "code",
   "execution_count": null,
   "metadata": {},
   "outputs": [],
   "source": []
  },
  {
   "cell_type": "markdown",
   "metadata": {},
   "source": [
    "__Exercise:__ A _square matrix_ has the same number of rows and columns.\n",
    "\n",
    "(a) Write a function `is_square(A)` that takes a $ 2D $ array as its\n",
    "argument and returns `True` or `False` depending on whether the given matrix is\n",
    "square or not.  _Hint:_ Use the shape to decide this.\n",
    "\n",
    "(b)  What is a reasonable definition of a \"cubic\" $ 3D $ array and how could we\n",
    "check that?\n",
    "\n",
    "(c) How would you generalize to multidimensional arrays? _Hint:_ To verify whether\n",
    "an array of shape $ (n_1, n_2, \\cdots, n_d) $ is \"hypercubic\" (all of its axes have\n",
    "the same length), we can check whether\n",
    "$$\n",
    "\\texttt{A.shape} = (n_1, n_2, \\cdots, n_d) == (n_2, n_3, , \\cdots, n_d, n_1) = \\texttt{A.shape[1:] + (A.shape[0], )}\n",
    "$$"
   ]
  },
  {
   "cell_type": "code",
   "execution_count": null,
   "metadata": {},
   "outputs": [],
   "source": []
  },
  {
   "cell_type": "markdown",
   "metadata": {},
   "source": [
    "### $ 1.2 $ Attributes and related terminology\n",
    "\n",
    "An instance, or __object__, of a specific class, such as the array $ A $ of type\n",
    "`ndarray`, is equipped with a set of predefined **attributes**. Attributes are \n",
    "_properties inherent to every instance of the class_.\n",
    "The **state** of an object is _the set of current values of all of\n",
    "its attributes._\n",
    "\n",
    "📝 To access an attribute `a` of an object `x`, the syntax is always `x.a`.\n",
    "\n",
    "For example, suppose that we want to design a Python class `Car` to represent cars.\n",
    "An instance of this class would then correspond to one specific car\n",
    "in the real world.  Some plausible attributes of this class could be:\n",
    "* `color`, of type `str`.\n",
    "* `year`, of type `int`, which stores the year in which the car was manufactured.\n",
    "* `electric`, of type `boolean`.\n",
    "* `kilometers_per_liter`, of type `float`, which represents the fuel efficiency of the car.\n",
    "\n",
    "And so on for any other relevant property of cars that we might want to include\n",
    "in our model. To access, say, the color of an instance `my_car` of the class\n",
    "`Car`, we would type `my_car.color`.\n",
    "\n",
    "Note that the values of these attributes for different car instances will vary,\n",
    "in general. However, from this example we can easily imagine a situation where\n",
    "two cars have exactly the same state, as defined by their set of attribute\n",
    "values, and yet they are distinct objects, i.e., they have different\n",
    "_identities_, meaning that they reside in different memory locations and are\n",
    "hence independent."
   ]
  },
  {
   "cell_type": "markdown",
   "metadata": {},
   "source": [
    "### $ 1.3 $ The main attributes of arrays\n",
    "\n",
    "Although arrays come with several attributes, most of them relate to the array's\n",
    "internal representation or low-level utilities, such as the number of bytes\n",
    "consumed by the elements of the array. The five most frequently used and\n",
    "conceptually important are:\n",
    "\n",
    "| Attribute   | Description                                    | Type      |\n",
    "|-------------|------------------------------------------------|-----------|\n",
    "| `ndim`      | Number of dimensions (rank) of the array  | `int`   |\n",
    "| `shape`     | Number of elements that lie along each axis | `tuple`     |\n",
    "| `size`      | Total number of elements in the array     | `int`   |\n",
    "| `dtype`     | Data type of the _elements_ of the array    | `dtype`  |\n",
    "| `T`         | Transpose of the array                    | `ndarray`    |\n"
   ]
  },
  {
   "cell_type": "markdown",
   "metadata": {},
   "source": [
    "__Exercise:__ For the following arrays $ B $ and $ \\mathbf v $:\n",
    "\n",
    "(a) Check their attributes. Is the datatype of $ \\mathbf v $ what you expected?\n",
    "\n",
    "(b) Verify that the type of each attribute matches the one described in the last\n",
    "column of the table using the Python built-in function `type`."
   ]
  },
  {
   "cell_type": "code",
   "execution_count": null,
   "metadata": {},
   "outputs": [],
   "source": [
    "B = np.array([[True, False, True],\n",
    "              [False, True, False]])"
   ]
  },
  {
   "cell_type": "code",
   "execution_count": null,
   "metadata": {},
   "outputs": [],
   "source": [
    "v = np.array([1, 2, 3.])"
   ]
  },
  {
   "cell_type": "markdown",
   "metadata": {},
   "source": [
    "### $ 1.4 $ The datatype of an array\n",
    "\n",
    "NumPy arrays are designed to store elements of a single datatype, and _these\n",
    "datatypes are specific to NumPy_. Many of these are based on C's native types;\n",
    "this ensures high performance and a lighter memory footprint. As an example, the\n",
    "datatype of the matrix $ A $ above is `int64`, which represents integers using $\n",
    "64 $ bits. In contrast, the built-in Python type `int` can hold arbitrarily\n",
    "large integers.\n",
    "\n",
    "It is also possible to work\n",
    "with arrays of arbitrary Python objects by using the datatype `object`. Because\n",
    "in this case what is stored in the array is only a reference to each object (not\n",
    "the object itself), the entries don't even need to have the same Python type:"
   ]
  },
  {
   "cell_type": "code",
   "execution_count": 4,
   "metadata": {},
   "outputs": [
    {
     "name": "stdout",
     "output_type": "stream",
     "text": [
      "Item: pandas\t of type: <class 'str'>\n",
      "Item: [1, 2, 3]\t of type: <class 'list'>\n",
      "Item: (1+1j)\t of type: <class 'complex'>\n"
     ]
    }
   ],
   "source": [
    "import numpy as np\n",
    "complex_array = np.array([\"pandas\",  [1, 2, 3], 1 + 1j], dtype=object)\n",
    "\n",
    "for item in complex_array:\n",
    "    print(f\"Item: {item}\\t of type: {type(item)}\")"
   ]
  },
  {
   "cell_type": "markdown",
   "metadata": {},
   "source": [
    "To create a NumPy array with a specified datatype, we can use the `dtype`\n",
    "parameter in any array creation function. For example:"
   ]
  },
  {
   "cell_type": "code",
   "execution_count": 10,
   "metadata": {},
   "outputs": [
    {
     "name": "stdout",
     "output_type": "stream",
     "text": [
      "Datatype of v: float32\n",
      "[1. 2. 3. 4.]\n"
     ]
    }
   ],
   "source": [
    "v = np.array([1, 2, 3, 4], dtype=\"float32\")\n",
    "print(f\"Datatype of v: {v.dtype}\")\n",
    "print(v)"
   ]
  },
  {
   "cell_type": "markdown",
   "metadata": {},
   "source": [
    "Note that in this form the datatype is passed as a string argument.\n",
    "\n",
    "__Exercise:__\n",
    "\n",
    "(a) Create a $ 2D $ array $ B $ of shape $ (2, 3) $ whose elements are all\n",
    "    `True`. _Hint:_ Invoke the `ones` function \n",
    "    with the appropriate shape and `dtype=\"bool\"` as one of the arguments.\n",
    "\n",
    "(b) Instantiate $ \\mathbf b = (2, 3, 4, 5) $ of type `uint32` (unsigned, $ 32\n",
    "$-bit integer) using `linspace`.\n",
    "\n",
    "(c) Construct a $ 2D $ array $ C $ of shape $ (4, 2) $ in which all entries are\n",
    "equal to $ 1 + i $, of type `complex`. _Hint:_ Use `full` and recall that\n",
    "the imaginary unit in Python is denoted with `j`."
   ]
  },
  {
   "cell_type": "code",
   "execution_count": null,
   "metadata": {},
   "outputs": [],
   "source": []
  },
  {
   "cell_type": "markdown",
   "metadata": {},
   "source": [
    "### $ 1.5 $ The transpose\n",
    "\n",
    "For $ 2D $ arrays, the __transpose__ is obtained by swapping rows and columns.\n",
    "The transpose of a matrix is very important in Linear Algebra and its\n",
    "applications to statistics and machine learning.  The `T` attribute in NumPy\n",
    "arrays provides a __view__ of the transposed array, meaning that `A.T` shares\n",
    "the same underlying data buffer as the original array `A`. In particular, any\n",
    "modification to one of them affects the other.\n",
    "\n",
    "⚡ To say that one object is a view of another does not mean that they have the\n",
    "same identity as objects. Even though the _values_ in the arrays are the same,\n",
    "the metadata such as the shape or datatype might be different. We can verify\n",
    "whether two objects have the same identity (memory location) with the Python\n",
    "function `id`, and whether they share the same data with `np.may_share_memory`:"
   ]
  },
  {
   "cell_type": "code",
   "execution_count": 28,
   "metadata": {},
   "outputs": [
    {
     "name": "stdout",
     "output_type": "stream",
     "text": [
      "False\n",
      "True\n"
     ]
    }
   ],
   "source": [
    "A = np.array([[1, 2],\n",
    "              [3, 4]])\n",
    "B = A.T\n",
    "\n",
    "print(id(A) == id(B))\n",
    "print(np.may_share_memory(A, B))"
   ]
  },
  {
   "cell_type": "markdown",
   "metadata": {},
   "source": [
    "__Exercise:__ \n",
    "\n",
    "(a) What is the transpose of a $ 1D $ array?\n",
    "\n",
    "(b) What is the transpose of a $ 3D $ array, i.e., how is it obtained from the original array?\n",
    "    Make a conjecture and then try it out on an array of shape $ (2, 3, 4) $.\n",
    "\n",
    "(c) More generally, what do you think would be the most reasonable definition of the transpose of an $ n $-dimensional array?\n",
    "    _Hint:_ Create an array of shape $ (2, 3, 4, 5) $ and inspect the shape of its transpose."
   ]
  },
  {
   "cell_type": "code",
   "execution_count": null,
   "metadata": {},
   "outputs": [],
   "source": []
  },
  {
   "cell_type": "markdown",
   "metadata": {},
   "source": [
    "### $ 1.6 $ Comparing two arrays for equality\n",
    "\n",
    "<div style=\"\n",
    "    background-color: #fff3cd; \n",
    "    border: 1px solid #ffeeba; \n",
    "    border-left: 5px solid #ffc107; \n",
    "    border-radius: 4px; \n",
    "    color: #856404; \n",
    "    margin: 10px 0px; \n",
    "    padding: 15px;\">\n",
    "    <span style=\"font-size: 24px; margin-right: 10px; vertical-align: middle;\">⚠️</span>\n",
    "    Contrary to what might be expected, when applied to two arrays of the same\n",
    "    shape, the <code>==</code> operator performs an element-wise comparison and\n",
    "    returns a <i>Boolean array</i> having the same shape as the operands. In contrast,\n",
    "    <code>np.array_equal(A, B)</code> returns\n",
    "    a <i>single Boolean value</i> depending on whether the arrays have the same shape\n",
    "    and all corresponding elements are equal.\n",
    "</div>"
   ]
  },
  {
   "cell_type": "code",
   "execution_count": 2,
   "metadata": {},
   "outputs": [
    {
     "name": "stdout",
     "output_type": "stream",
     "text": [
      "[ True  True  True]\n",
      "True\n"
     ]
    }
   ],
   "source": [
    "a = np.array([1, 2, 3])\n",
    "b = np.arange(1, 4)\n",
    "\n",
    "print(a == b)  # Element-wise comparison, result is an array\n",
    "print(np.array_equal(a, b))  # Overall array equality, result is True or False"
   ]
  },
  {
   "cell_type": "markdown",
   "metadata": {},
   "source": [
    "__Exercise:__ Write a Python function which prints a message indicating whether\n",
    "a given matrix $ A $ is _symmetric_ (i.e., whether $ A^T = A $),\n",
    "_anti-symmetric_ ($ A^T = -A $) or neither.\n",
    "Does your function work correctly when $ A $ is not square?"
   ]
  },
  {
   "cell_type": "code",
   "execution_count": null,
   "metadata": {},
   "outputs": [],
   "source": [
    "def is_symmetric(A):\n",
    "    # complete..."
   ]
  },
  {
   "cell_type": "markdown",
   "metadata": {},
   "source": [
    "__Exercise:__ A square matrix $ A $ is called _orthogonal_ if it satisfies\n",
    "$$\n",
    "A^TA = I_n = AA^T\\,,\n",
    "$$\n",
    "where $ A^T $ is the transpose of $ A $ and $ I_n $ is the $ n \\times n $ identity matrix.\n",
    "(Actually, any one of these equations by itself already suffices for orthogonality.)\n",
    "Write a procedure `is_orthogonal(A)` that makes use of this criterion to decide\n",
    "whether $ A $ is orthogonal.  When comparing to the identity, you may want to\n",
    "use `np.round(B, 10)` to round all entries of $ B $ to ten decimal digits to\n",
    "avoid false negatives."
   ]
  },
  {
   "cell_type": "code",
   "execution_count": null,
   "metadata": {},
   "outputs": [],
   "source": []
  },
  {
   "cell_type": "markdown",
   "metadata": {},
   "source": [
    "## $ \\S 2 $ Reduction and accumulation methods\n",
    "\n",
    "### $ 2.1 $ Methods and related terminology\n",
    "\n",
    "While attributes describe the properties of an object, **methods** define what\n",
    "an object can do: they are functions that are bound to the object and that can\n",
    "access or modify its state. Methods encapsulate behavior that is appropriate for\n",
    "the class of objects that they belong to, just as attributes encapsulate state.\n",
    "\n",
    "📝 To invoke a method `m` on an object `x`, the syntax is `x.m(<arguments>)`.\n",
    "\n",
    "Continuing the example from $ \\S 1.2 $, we could think about implementing\n",
    "the following methods for our `Car` class used to represent cars:\n",
    "* `start_engine()`, which returns nothing but changes the car's state.\n",
    "* `needs_maintenance()`, which returns a `boolean` but does not change the car's state.\n",
    "* `refuel(amount)`, which refuels the car with a given amount of gas and returns the new fuel level as a `float`.\n",
    "\n",
    "For example, to refuel an instance `my_car` of the `Car` class, we could issue\n",
    "the instruction `my_car.refuel(20)`.\n",
    "\n",
    "Similarly, in the context of NumPy arrays, methods like `sum()` perform calculations on the\n",
    "array's data and return results, while methods like `sort()` modify the array in\n",
    "place, without returning anything. (We will discuss both methods along with several others below.)"
   ]
  },
  {
   "cell_type": "code",
   "execution_count": 3,
   "metadata": {},
   "outputs": [
    {
     "name": "stdout",
     "output_type": "stream",
     "text": [
      "v = [2 3 1]\n",
      "v after sorting: [1 2 3]\n",
      "Sum of the values in v: 6\n"
     ]
    }
   ],
   "source": [
    "v = np.array([2, 3, 1])\n",
    "print(f\"v = {v}\")\n",
    "\n",
    "v.sort()\n",
    "print(f\"v after sorting: {v}\")\n",
    "print(f\"Sum of the values in v: {v.sum()}\")"
   ]
  },
  {
   "cell_type": "markdown",
   "metadata": {},
   "source": [
    "### $ 2.2 $ Main reduction and accumulation methods\n",
    "\n",
    "NumPy arrays have several __reduction methods__ that transform data\n",
    "into simpler forms.  For example, the `min` and `max` methods yield the minimum\n",
    "and maximum elements of an array. Similarly, `argmin` and `argmax` return the\n",
    "_index_ of the minimum and maximum elements. Here's an illustration in the\n",
    "case of a $ 1D $ array `a`:\n",
    "\n",
    "<img src=\"max_min.svg\" width=\"1400\" height=\"300\" alt=\"Max and min methods\">"
   ]
  },
  {
   "cell_type": "markdown",
   "metadata": {},
   "source": [
    "📝 When the minimum value occurs multiple times, `argmin` returns the index of\n",
    "the first occurrence. When called on a multidimensional array, it returns\n",
    "the index of the minimum element of the _flattened_ ($ 1D $) version of the array:"
   ]
  },
  {
   "cell_type": "code",
   "execution_count": 4,
   "metadata": {},
   "outputs": [
    {
     "name": "stdout",
     "output_type": "stream",
     "text": [
      "[[3 2 4]\n",
      " [1 4 1]]\n",
      "Argmin: 3\n"
     ]
    }
   ],
   "source": [
    "arr = np.array([[3, 2, 4], \n",
    "                [1, 4, 1]])\n",
    "print(arr)\n",
    "\n",
    "idx = arr.argmin()\n",
    "print(f\"Argmin: {idx}\")"
   ]
  },
  {
   "cell_type": "markdown",
   "metadata": {},
   "source": [
    "The result in this case is $ 3 $ because that's the first index of an element\n",
    "having the minimum value $ 1 $ in the flattened array $ (3, 2, 4, 1, 4, 1) $.\n",
    "Of course, similar comments apply to `argmax`."
   ]
  },
  {
   "cell_type": "markdown",
   "metadata": {},
   "source": [
    "__Exercise:__ Compute `min`, `max`, `argmin` and `argmax` of the following $ 2D $ array.\n",
    "Explain the results of the two latter methods."
   ]
  },
  {
   "cell_type": "code",
   "execution_count": 15,
   "metadata": {},
   "outputs": [
    {
     "name": "stdout",
     "output_type": "stream",
     "text": [
      "[[2 0 3]\n",
      " [3 1 0]\n",
      " [1 2 0]] \n",
      "\n"
     ]
    }
   ],
   "source": [
    "A = np.array([[2, 0, 3],\n",
    "              [3, 1, 0],\n",
    "              [1, 2, 0]])\n",
    "print(A, '\\n')"
   ]
  },
  {
   "cell_type": "markdown",
   "metadata": {},
   "source": [
    "The `sum` and `prod` are further reduction methods that compute the sum and product of\n",
    "all the elements in an array. In contrast, `cumsum` and `cumprod` are\n",
    "_accumulation_ methods. Instead of returning a single number, they produce an\n",
    "array of the same shape as the original, obtained by computing the _cumulative_\n",
    "sum and product of the entries in the array:\n",
    "\n",
    "<img src=\"sum_prod.svg\" width=\"1400\" height=\"300\" alt=\"Sum and product methods\">"
   ]
  },
  {
   "cell_type": "markdown",
   "metadata": {},
   "source": [
    "__Exercise:__ Verify the results in the preceding example using NumPy and directly from\n",
    "the definitions of the methods."
   ]
  },
  {
   "cell_type": "code",
   "execution_count": null,
   "metadata": {},
   "outputs": [],
   "source": []
  },
  {
   "cell_type": "markdown",
   "metadata": {},
   "source": [
    "__Exercise:__ Create a function that calculates compound interest using\n",
    "`cumprod`. Given a principal amount and an array of monthly interest rates\n",
    "(as decimal values), return the account balance after each month.\n",
    "Test it on the values below. _Hint:_ The growth factors are given by\n",
    "$ 1 + \\text{monthly rates} $. The balances will be the product of the\n",
    "principal amount and the cumulative product of the growth factors."
   ]
  },
  {
   "cell_type": "code",
   "execution_count": 6,
   "metadata": {},
   "outputs": [],
   "source": [
    "principal = 1000\n",
    "monthly_rates = np.array([0.01, 0.012, 0.008, 0.011, 0.009, 0.013])\n",
    "# balances = ???"
   ]
  },
  {
   "cell_type": "markdown",
   "metadata": {},
   "source": [
    "The reduction methods `mean`, `var` and `std` provide basic\n",
    "statistical operations which are essential for data analysis, namely,\n",
    "they compute the (arithmetic) mean, variance and standard deviation\n",
    "of the set of elements in the array, respectively. For instance:\n",
    "\n",
    "<img src=\"mean_var.svg\" width=\"1400\" height=\"300\" alt=\"Statistical reduction methods\">"
   ]
  },
  {
   "cell_type": "markdown",
   "metadata": {},
   "source": [
    "Recall that the __variance__ of a collection of numbers $ x_i $ is the expected\n",
    "value of the squared deviation from the mean; it measures how spread out the\n",
    "values are.  The __standard deviation__ is simply the square root of the\n",
    "variance.  In symbols, if \n",
    "$$\n",
    "\\mu = \\frac{1}{n} \\sum_{i=1}^{n} x_i\n",
    "$$\n",
    "denotes the mean, then\n",
    "$$\n",
    "\\sigma^2 = \\text{Var} = \\frac{1}{n} \\sum_{i=1}^{n} (x_i - \\mu)^2 \\qquad\n",
    "\\text{and} \\qquad \n",
    "\\sigma = \\text{Std} = \\sqrt{\\text{Var}} = \\sqrt{\\frac{1}{n} \\sum_{i=1}^{n} (x_i - \\mu)^2}\n",
    "$$\n",
    "As above, the standard deviation is often denoted by $ \\sigma $. Even though the\n",
    "variance has better mathematical properties and is usually more convenient to\n",
    "work with than the standard deviation, the latter has the advantage of being\n",
    "given in the same unit of measurement as the original quantities.  For example,\n",
    "if the $ x_i $ represent the fuel efficiency in miles per gallon of a collection\n",
    "of cars, then $ \\sigma $ will also be in MPG.\n",
    "\n",
    "__Exercise:__\n",
    "\n",
    "(a) Verify using the definitions that the values in the preceding illustration\n",
    "are correct.\n",
    "\n",
    "(b) Compute the median of this array with the _function_ (not method)\n",
    "`np.median`. Recall that the __median__ of a collection of numbers is its middle\n",
    "value when it is arranged in ascending order; if there is an even\n",
    "number of values, the median is the average of the two middle values. "
   ]
  },
  {
   "cell_type": "code",
   "execution_count": null,
   "metadata": {},
   "outputs": [],
   "source": []
  },
  {
   "cell_type": "markdown",
   "metadata": {},
   "source": [
    "__Exercise:__ What are the mean, median, variance and standard deviation of an\n",
    "array whose elements all have the same value $ c $?"
   ]
  },
  {
   "cell_type": "markdown",
   "metadata": {},
   "source": [
    "__Exercise:__ The following array records daily temperatures (in Celsius) for\n",
    "$ 30 $ consecutive days.\n",
    "\n",
    "(a) Compute the mean, median and standard deviation $ \\sigma $, and interpret the latter value.\n",
    "\n",
    "(b) Find all days where the temperature was more than $ 2\\,\\sigma $ below or above the mean. _Hint:_\n",
    "Use `np.where` to find the indices of the days for which\n",
    "$ \\vert \\text{temperature} - \\text{mean} \\vert > 1.5\\, \\sigma $. The absoluve value function\n",
    "in NumPy is `np.abs`."
   ]
  },
  {
   "cell_type": "code",
   "execution_count": 7,
   "metadata": {},
   "outputs": [],
   "source": [
    "temperatures = np.array([\n",
    "    25.3, 26.1, 25.8, 26.5, 27.2, 28.1, 29.3, 28.7, 27.5, 26.8,\n",
    "    25.9, 24.7, 23.5, 22.8, 21.5, 22.3, 23.1, 24.2, 25.4, 26.7,\n",
    "    32.1, 33.5, 33.8, 32.9, 30.2, 28.5, 27.3, 26.8, 25.9, 25.2\n",
    "])"
   ]
  },
  {
   "cell_type": "markdown",
   "metadata": {},
   "source": [
    "__Exercise:__ The _Wallis product_ is the following infinite product\n",
    "$$\n",
    "2\\,\\prod_{k=1}^{\\infty} \\frac{4k^2}{4k^2 - 1} = 2 \\cdot\n",
    "\\frac{4}{3} \\cdot \\frac{16}{15} \\cdot \\frac{36}{35} \\cdot \\frac{64}{63}\n",
    "\\cdot \\frac{100}{99} \\cdots\n",
    "$$\n",
    "\n",
    "(a) Create a procedure `wallis_product(n)` that computes the partial products\n",
    "$ (p_1, p_2, \\cdots, p_n) $ as a $ 1D $ array, where\n",
    "$$\n",
    "p_n = 2\\,\\prod_{k=1}^{n} \\frac{4k^2}{4k^2 - 1}\\,.\n",
    "$$\n",
    "_Hint:_ First create a vector whose $ k $-th coordinate is the term $ \\frac{4k^2}{4k^2 - 1} $,\n",
    "then take its `cumprod` and multiply the result by $ 2 $.\n",
    "\n",
    "(b) Can you recognize the value (limit) of the infinite product? Make a conjecture, then\n",
    "test it by computing `wallis(n)` for a large value such as $ n = 100\\,000 $ and\n",
    "printing a slice with step $ \\frac{n}{100} $ (use `//` for integer division)."
   ]
  },
  {
   "cell_type": "code",
   "execution_count": null,
   "metadata": {},
   "outputs": [],
   "source": []
  },
  {
   "cell_type": "markdown",
   "metadata": {},
   "source": [
    "### $ 2.3 $ Applying reduction and accumulation methods along an axis\n",
    "\n",
    "📝 None of the reduction and accumulation methods perform in-place\n",
    "transformations. Instead, they return new arrays (or numbers) with the computed\n",
    "results while leaving the original array unchanged.\n",
    "\n",
    "As an optional argument to any of these methods, we can designate an axis\n",
    "__along which__ the operation should take place.\n",
    "\n",
    "<img src=\"array_sum.svg\" width=\"800\" alt=\"Summing the entries of an array along an axis\">"
   ]
  },
  {
   "cell_type": "markdown",
   "metadata": {},
   "source": [
    "If we think of $ A $ as the matrix $ A = (a_{ij}) $, where $ i $ is the index\n",
    "for axis $ 0 $ (i.e., the index of rows), then taking the sum _along_ this axis\n",
    "means that, for each $ j $, NumPy computes\n",
    "$$\n",
    "\\sum_{i} a_{ij}\n",
    "$$\n",
    "resulting in the vector having four coordinates at the bottom of the figure\n",
    "since $ A $ has four columns. To put it another way, _the axis specified as the\n",
    "argument to method is the one that gets operated over_, and hence it collapses."
   ]
  },
  {
   "cell_type": "markdown",
   "metadata": {},
   "source": [
    "__Exercise:__ Compute the products of the rows and of the columns in the array\n",
    "$ C $ given below along both axes. Explain the results."
   ]
  },
  {
   "cell_type": "code",
   "execution_count": 33,
   "metadata": {},
   "outputs": [
    {
     "name": "stdout",
     "output_type": "stream",
     "text": [
      "[[2 1 3]\n",
      " [3 2 1]]\n"
     ]
    }
   ],
   "source": [
    "C = np.array([[2, 1, 3],\n",
    "              [3, 2, 1]])\n",
    "print(C)"
   ]
  },
  {
   "cell_type": "markdown",
   "metadata": {},
   "source": [
    "__Exercise:__ Understanding how the axis parameter works is crucial;\n",
    "this exercise will help you master this.\n",
    "Given the matrix $ A $ in the code cell below:\n",
    "\n",
    "(a) Find the maximum value in each row (i.e., along the columns).\n",
    "\n",
    "(b) Calculate the average of each column (i.e., along the rows).\n",
    "\n",
    "(c) Determine the index of the maximum element in each row (i.e., along the columns).\n",
    "\n",
    "(d) Compute the standard deviation of the values in each row.\n",
    "\n",
    "(e) Find the cumulative sums for each row using the `cumsum` method. "
   ]
  },
  {
   "cell_type": "code",
   "execution_count": 9,
   "metadata": {},
   "outputs": [
    {
     "name": "stdout",
     "output_type": "stream",
     "text": [
      "[[1 2 3 4]\n",
      " [3 3 3 3]]\n"
     ]
    }
   ],
   "source": [
    "A = np.array([[1, 2, 3, 4],\n",
    "              [3, 3, 3, 3]])\n",
    "print(A)"
   ]
  },
  {
   "cell_type": "markdown",
   "metadata": {},
   "source": [
    "📝 It is possible to apply the methods along multiple axes by passing a tuple of\n",
    "axes to the `axis` parameter. This performs the operation across the specified\n",
    "dimensions simultaneously."
   ]
  },
  {
   "cell_type": "markdown",
   "metadata": {},
   "source": [
    "__Exercise:__ Apply `sum` along axes $ 1 $ and $ 2 $ of the following $ 3D $ array\n",
    "and explain the result. _Hint:_ Pass the argument `axis=(1, 2)`."
   ]
  },
  {
   "cell_type": "code",
   "execution_count": 10,
   "metadata": {},
   "outputs": [
    {
     "name": "stdout",
     "output_type": "stream",
     "text": [
      "[[[-12 -11 -10  -9]\n",
      "  [ -8  -7  -6  -5]\n",
      "  [ -4  -3  -2  -1]]\n",
      "\n",
      " [[  0   1   2   3]\n",
      "  [  4   5   6   7]\n",
      "  [  8   9  10  11]]]\n"
     ]
    }
   ],
   "source": [
    "M = np.arange(-12, 12).reshape(2, 3, 4)\n",
    "print(M)"
   ]
  },
  {
   "cell_type": "markdown",
   "metadata": {},
   "source": [
    "### $ 2.4 $ Other reduction and accumulation methods\n",
    "\n",
    "Arrays have several more methods besides the ones discussed above. To get a listing\n",
    "of all attributes and methods associated to an object `a` (not necessarily an\n",
    "array), you can run the Python command `dir(a)`.  Also, in Jupyter notebooks,\n",
    "typing `?` before or after an object or function name (e.g., `A?` or\n",
    "`?np.array`) displays detailed documentation about it:"
   ]
  },
  {
   "cell_type": "code",
   "execution_count": 11,
   "metadata": {},
   "outputs": [
    {
     "name": "stdout",
     "output_type": "stream",
     "text": [
      "\u001b[0;31mDocstring:\u001b[0m\n",
      "a.sum(axis=None, dtype=None, out=None, keepdims=False, initial=0, where=True)\n",
      "\n",
      "Return the sum of the array elements over the given axis.\n",
      "\n",
      "Refer to `numpy.sum` for full documentation.\n",
      "\n",
      "See Also\n",
      "--------\n",
      "numpy.sum : equivalent function\n",
      "\u001b[0;31mType:\u001b[0m      builtin_function_or_method"
     ]
    }
   ],
   "source": [
    "A.sum?"
   ]
  },
  {
   "cell_type": "markdown",
   "metadata": {},
   "source": [
    "Here we will mention only two additional, very useful methods: `any` and `all`, which are\n",
    "Boolean reduction methods:\n",
    "\n",
    "* `any` returns `True` if and only if at least one element in the array is true (or non-zero).\n",
    "   It is equivalent to an OR operation across elements.\n",
    "* `all` returns `True` if and only if every element in the array is true (or non-zero). It is\n",
    "   equivalent to an AND operation across elements.\n",
    "\n",
    "Both accept an axis argument to apply the operation along specific dimensions,\n",
    "and both handle non-boolean arrays by treating any nonzero values as true."
   ]
  },
  {
   "cell_type": "markdown",
   "metadata": {},
   "source": [
    "__Exercise:__ In graph theory and network analysis, a _connectivity_ or\n",
    "_adjacency matrix_ is a square matrix used to encode a finite graph. The $\n",
    "(i, j) $ entry indicates whether nodes $ i $ and $ j $ are\n",
    "connected or not.  Implement a function that determines if all nodes in a\n",
    "network (represented by such a matrix) are connected to at least one other node.\n",
    "_Hint:_ A row with all zeros represents a node with no connections to any other\n",
    "node. We need to check if there are any such nodes. Use both `all` and `any` to\n",
    "do this."
   ]
  },
  {
   "cell_type": "code",
   "execution_count": null,
   "metadata": {},
   "outputs": [],
   "source": [
    "# Example connectivity matrix for a network with 5 nodes:\n",
    "example_matrix = np.array([\n",
    "    [0, 1, 0, 0, 1],  # Node 0 connects to nodes 1 and 4\n",
    "    [1, 0, 1, 0, 0],  # Node 1 connects to nodes 0 and 2\n",
    "    [0, 1, 0, 0, 0],  # Node 2 connects only to node 1\n",
    "    [0, 0, 0, 0, 0],  # Node 3 has no connections (isolated)\n",
    "    [1, 0, 0, 0, 0]   # Node 4 connects only to node 0\n",
    "])\n",
    "\n",
    "def all_node_connected(A):\n",
    "    # complete ..."
   ]
  },
  {
   "cell_type": "markdown",
   "metadata": {},
   "source": [
    "## $ \\S 3 $ Transformations of arrays"
   ]
  },
  {
   "cell_type": "markdown",
   "metadata": {},
   "source": [
    "### $ 3.1 $ Copying arrays\n",
    "\n",
    "To create an independent, deep copy of a NumPy array, we can use the `copy` method.\n",
    "This generates a new array object with the same data as the original\n",
    "array, but stored in a separate memory location. There is also an `np.copy`\n",
    "_function_ that achieves the same result but is slightly less versatile.\n",
    "\n",
    "__Exercise:__ Given the vector $ \\mathbf{x} = (0, 1, 2, \\cdots, 9) $,\n",
    "copy $ \\mathbf{x} $ and assign the result to $ \\mathbf{y} $. \n",
    "Modify an element of $ \\mathbf{y} $ and check whether $ \\mathbf{x} $ is affected."
   ]
  },
  {
   "cell_type": "code",
   "execution_count": null,
   "metadata": {},
   "outputs": [],
   "source": [
    "x = np.arange(10)"
   ]
  },
  {
   "cell_type": "markdown",
   "metadata": {},
   "source": [
    "### $ 3.2 $ Changing the datatype\n",
    "\n",
    "Recall that the `dtype` attribute of an array stores its datatype. We can create\n",
    "a new array with a different datatype from a given array by using the method\n",
    "`astype`, provided that the datatype conversion makes sense:"
   ]
  },
  {
   "cell_type": "code",
   "execution_count": 18,
   "metadata": {},
   "outputs": [
    {
     "name": "stdout",
     "output_type": "stream",
     "text": [
      "[['1' '-2']\n",
      " ['3' '-4']] \n",
      "\n",
      "[[ 1. -2.]\n",
      " [ 3. -4.]] \n",
      " float64\n"
     ]
    }
   ],
   "source": [
    "# Let's begin by creating an array of strings:\n",
    "A = np.array([[\"1\", \"-2\"],\n",
    "              [\"3\", \"-4\"]])\n",
    "print(A, '\\n')\n",
    "\n",
    "# Convert the datatype to double-precision (64 bit) floating-point numbers:\n",
    "A_double = A.astype(\"float64\")\n",
    "print(A_double, '\\n', A_double.dtype)"
   ]
  },
  {
   "cell_type": "markdown",
   "metadata": {},
   "source": [
    "📝 Note that the datatype is passed as a string, such as \"float128\", \"uint32\" or\n",
    "\"bool\".  Actually these are just convenient aliases for the true (NumPy) type\n",
    "names, such as `np.float64` and `np.bool_`, which can also be passed directly.\n",
    "See the [documentation](https://numpy.org/devdocs/user/basics.types.html)\n",
    "for a complete list of datatypes.\n"
   ]
  },
  {
   "cell_type": "markdown",
   "metadata": {},
   "source": [
    "__Exercise:__ What happens if you try to convert a numeric array to one whose\n",
    "datatype is `bool`? What about the converse, i.e., from `bool` to, say, `int32`?"
   ]
  },
  {
   "cell_type": "code",
   "execution_count": 15,
   "metadata": {},
   "outputs": [],
   "source": [
    "numbers = np.array([-2, -1, 0, 1, 2])\n",
    "\n",
    "bool_vals = np.array([True, False, True, True])"
   ]
  },
  {
   "cell_type": "markdown",
   "metadata": {},
   "source": [
    "📝 Although we have been speaking about the \"conversion\" from one type to another,\n",
    "`astype` doesn't actually modify the original array; instead, it always creates a\n",
    "_new copy_ of the original array having the prescribed datatype. This occurs\n",
    "even when the target datatype is the same as the original.\n",
    "\n",
    "__Exercise:__ Prove that the two arrays $ \\mathbf{u} $ and $ \\mathbf{v} $ below\n",
    "are independent by modifying one of them and checking that the other one\n",
    "is unaffected."
   ]
  },
  {
   "cell_type": "code",
   "execution_count": 16,
   "metadata": {},
   "outputs": [
    {
     "name": "stdout",
     "output_type": "stream",
     "text": [
      "Original u: [1 2 3] of type int64\n",
      "Original v: [1 2 3] of type int64 \n",
      "\n"
     ]
    }
   ],
   "source": [
    "u = np.array([1, 2, 3])\n",
    "print(f\"Original u: {u} of type {u.dtype}\")\n",
    "\n",
    "v = u.astype(\"int64\")\n",
    "print(f\"Original v: {v} of type {v.dtype} \\n\")\n",
    "\n",
    "# Modify v and check if u is affected:"
   ]
  },
  {
   "cell_type": "markdown",
   "metadata": {},
   "source": [
    "### $ 3.3 $ Converting an array to a list\n",
    "\n",
    "The `tolist` method is used to convert arrays to Python lists. Given an\n",
    "$ n $-dimensional array, it returns a nested list with $ n $ levels of nesting:"
   ]
  },
  {
   "cell_type": "code",
   "execution_count": 19,
   "metadata": {},
   "outputs": [
    {
     "name": "stdout",
     "output_type": "stream",
     "text": [
      "[1, 2, 3, 4]\n",
      "[[1, 2], [3, 4]]\n",
      "<class 'list'>\n"
     ]
    }
   ],
   "source": [
    "arr1d = np.array([1, 2, 3, 4])\n",
    "list1d = arr1d.tolist()\n",
    "print(list1d)\n",
    "\n",
    "arr2d = np.array([[1, 2], [3, 4]])\n",
    "list2d = arr2d.tolist()\n",
    "print(list2d)\n",
    "\n",
    "print(type(list2d))"
   ]
  },
  {
   "cell_type": "markdown",
   "metadata": {},
   "source": [
    "Since we lose NumPy's performance benefits when we convert an array to a list,\n",
    "this should only be done when we specifically need to interface with code that\n",
    "does not support NumPy."
   ]
  },
  {
   "cell_type": "markdown",
   "metadata": {},
   "source": [
    "### $ 3.4 $ Reshaping arrays\n",
    "\n",
    "Reshaping arrays is a common and fundamental operation in NumPy. There is both\n",
    "a function and a method named `reshape` that can accomplish this:"
   ]
  },
  {
   "cell_type": "code",
   "execution_count": 39,
   "metadata": {},
   "outputs": [
    {
     "name": "stdout",
     "output_type": "stream",
     "text": [
      "[1 2 3 4 5 6]\n",
      "\n",
      "[[1 2]\n",
      " [3 4]\n",
      " [5 6]]\n",
      "\n",
      "[[1 2 3]\n",
      " [4 5 6]]\n",
      "\n"
     ]
    }
   ],
   "source": [
    "a = np.array([1, 2, 3, 4, 5, 6])\n",
    "print(a, end='\\n\\n')\n",
    "\n",
    "A = np.reshape(a, (3, 2))  # Here we use the _function_ `reshape`\n",
    "\n",
    "B = a.reshape((2, 3))   # Here we use the `reshape` _method_\n",
    "\n",
    "print(A, end=\"\\n\\n\")\n",
    "print(B, end=\"\\n\\n\")"
   ]
  },
  {
   "cell_type": "markdown",
   "metadata": {},
   "source": [
    "Note that when we reshape an array, the (row-major) order of the elements is preserved.\n",
    "More importantly, the new shape must be compatible with the size of the original array,\n",
    "in the sense that the size (total number of elements) must remain the same. For\n",
    "example, the following results in an error:"
   ]
  },
  {
   "cell_type": "code",
   "execution_count": null,
   "metadata": {},
   "outputs": [],
   "source": [
    "C = np.reshape(a, (2, 2))"
   ]
  },
  {
   "cell_type": "markdown",
   "metadata": {},
   "source": [
    "When reshaping, we may also specify $ -1 $ in a dimension to instruct\n",
    "NumPy to infer the number of elements along that dimension from the size of the\n",
    "array and that of the remaining dimensions. This is especially useful when an\n",
    "array is passed to us by the user as an argument in a function call, but we do\n",
    "not know in advance how many entries it has:"
   ]
  },
  {
   "cell_type": "code",
   "execution_count": null,
   "metadata": {},
   "outputs": [
    {
     "name": "stdout",
     "output_type": "stream",
     "text": [
      "[[1]\n",
      " [2]\n",
      " [3]\n",
      " [4]]\n"
     ]
    }
   ],
   "source": [
    "a = np.array([[1, 2],\n",
    "              [3, 4]])\n",
    "a = a.reshape((-1, 1))  # reshape into a column vector (an m x 1 matrix)\n",
    "print(A)"
   ]
  },
  {
   "cell_type": "markdown",
   "metadata": {},
   "source": [
    "In this example we wanted to reshape our array so that the result would have\n",
    "one column, but didn't want to figure out how many rows it should have for that\n",
    "to happen.\n",
    "\n",
    "__Exercise:__ Reshape the following $ 1D $ array $ \\mathbf x $ into a matrix\n",
    "$ X $ having three rows; note that there is need to figure out how many columns\n",
    "there must be."
   ]
  },
  {
   "cell_type": "code",
   "execution_count": null,
   "metadata": {},
   "outputs": [
    {
     "name": "stdout",
     "output_type": "stream",
     "text": [
      "[ 1  2  3  4  5  6  7  8  9 10 11 12]\n"
     ]
    }
   ],
   "source": [
    "x = np.arange(1, 13)\n",
    "# X = ...\n",
    "\n",
    "print(x)\n",
    "print(X)"
   ]
  },
  {
   "cell_type": "markdown",
   "metadata": {},
   "source": [
    "📝 There is no essential difference between the function and the method versions\n",
    "of `reshape`. In both cases, NumPy returns a _new_ array, while the original\n",
    "array remains unchanged. However, these operations provide a view of the\n",
    "original array's data whenever possible, meaning that they do not copy the\n",
    "array's _data_ unless necessary. Thus, modifications to the data in the reshaped\n",
    "array can affect the original array and vice versa.\n",
    "\n",
    "__Exercise:__ Use the the matrix in the previous exercise to illustrate this: modify\n",
    "an entry of $ X $ and check whether $ \\mathbf{x} $ is affected."
   ]
  },
  {
   "cell_type": "code",
   "execution_count": null,
   "metadata": {},
   "outputs": [],
   "source": []
  },
  {
   "cell_type": "markdown",
   "metadata": {},
   "source": [
    "__Exercise:__ Given a $ 1D $ array of $ 100 $ elements, reshape it into a $ 10\n",
    "\\times 10 $ matrix. Then, normalize the matrix so that all values are scaled to\n",
    "lie between $ 0 $ and $ 1 $ (inclusive). _Hint:_ Determine the maximum $ M $ and\n",
    "minimum $ m $ of all entries, write a linear function $ f $ that takes $ [m, M]\n",
    "$ into $ [0, 1] $ and then apply it to the entire array."
   ]
  },
  {
   "cell_type": "code",
   "execution_count": null,
   "metadata": {},
   "outputs": [
    {
     "name": "stdout",
     "output_type": "stream",
     "text": [
      "[400 787 316 239 791 876  79  58 671 336 573 150 860 450 894 796 705 230\n",
      " 767  52 570 404 996 198 946  90 623 580 898 298 902 671 890 199 758 942\n",
      "  48 365 636 105 510 629 763 927 409 440 474 954 195 499  49 425 945 620\n",
      " 349 995 603 948  16 460 834 757 407 497 420 529 230 785  77 414 281 734\n",
      " 749 711 924 932 184 114 132 729 970 927 668 967 871  14 119 863  82 981\n",
      " 827 957 360 148 516 972 367 889 383 822]\n"
     ]
    }
   ],
   "source": [
    "# Generate random array of 100 elements\n",
    "data = rng.integers(0, 1000, size=100)\n",
    "print(data)"
   ]
  },
  {
   "cell_type": "markdown",
   "metadata": {},
   "source": [
    "### $ 3.5 $ Resizing an array\n",
    "\n",
    "Unlike `reshape`, which requires the total number of elements to remain the same,\n",
    "`resize` can modify not only the shape of an array but also its size.\n",
    "There are two versions:\n",
    "* The `resize` _method_ modifies the array in-place. If the\n",
    "  new size is greater than the old one, then the method fills the missing entries\n",
    "  with zeros. As an example of the syntax, `a.resize((2, 4))` will reshape/resize the\n",
    "  array `a` into a matrix of shape $ (2, 4) $.\n",
    "* The `np.resize` _function_ returns a new independent array. If the new size is greater than\n",
    "  that of the original, it cycles through the elements of the original array until the\n",
    "  remaining entries are filled. As an example of the syntax, `np.resize(a, (1, 2, 3))` will\n",
    "  reshape/resize the array `a` into an array of shape $ (1, 2, 3) $.\n",
    "* In either case, if the new size is smaller than the original, \n",
    "  exceeding elements are discarded.\n",
    "* Also for both the function and the method, when reshaping to a one-dimensional\n",
    "  array, we may pass the number of elements instead of the full shape, e.g.,\n",
    "  `np.resize(x, 3)` (or `x.resize(3)`) instead of `np.resize(x, (3, ))`.\n",
    "\n",
    "__Exercise:__ Compare the behavior of the `resize` function and the `resize`\n",
    "method by resizing the array $ \\mathbf{v} $ to arrays of the following shapes.\n",
    "Be careful with your code since the resize method modifies in-place, which\n",
    "will affect subsequent operations involving $ \\mathbf{v} $; it might be\n",
    "a good idea to call the function before the method.\n",
    "\n",
    "(a) A vector with $ 10 $ coordinates. _Hint:_ You can use the simpler syntax\n",
    "`v.resize(10)` instead of `v.resize((10, ))`, and similarly for the function version.\n",
    "\n",
    "(b) A matrix of shape $ (3, 3) $.\n",
    "\n",
    "(c) A vector with only two coordinates.\n"
   ]
  },
  {
   "cell_type": "code",
   "execution_count": 24,
   "metadata": {},
   "outputs": [
    {
     "name": "stdout",
     "output_type": "stream",
     "text": [
      "Original vector: [1 2 3 4]\n"
     ]
    }
   ],
   "source": [
    "v = np.array([1, 2, 3, 4])\n",
    "print(f\"Original vector: {v}\")"
   ]
  },
  {
   "cell_type": "markdown",
   "metadata": {},
   "source": [
    "### $ 3.6 $ Flattening an array with `flatten` and `ravel`\n",
    "\n",
    "The `flatten` method takes a multi-dimensional array and returns a new,\n",
    "_independent_ one-dimensional array containing all the elements of the original\n",
    "array."
   ]
  },
  {
   "cell_type": "markdown",
   "metadata": {},
   "source": [
    "The order in which the elements are placed in the flattened array is based on\n",
    "the row-major ordering of their indices in the original array. For example,\n",
    "if we are dealing with a $ 3D $ array, then the entry at position $ (0, 0, 2) $\n",
    "comes before the entry at $ (0, 1, 0) $, which will be placed before the entry\n",
    "at $ (1, 0, 0) $."
   ]
  },
  {
   "cell_type": "markdown",
   "metadata": {},
   "source": [
    "NumPy provides another method called `ravel` that is similar to `flatten` but\n",
    "with an important difference: while `flatten` always returns a deep copy of the\n",
    "data, `ravel` returns a view when possible, which makes it more\n",
    "memory-efficient.\n",
    "\n",
    "__Exercise:__ Apply `ravel` and `flatten` to the matrix $ A $ below to obtain\n",
    "two vectors. Verify whether changes to the entries of $ A $ affect these vectors\n",
    "and vice-versa."
   ]
  },
  {
   "cell_type": "code",
   "execution_count": null,
   "metadata": {},
   "outputs": [
    {
     "name": "stdout",
     "output_type": "stream",
     "text": [
      "[[1 2]\n",
      " [3 4]]\n"
     ]
    }
   ],
   "source": [
    "A = np.array([[1, 2],\n",
    "              [3, 4]])\n",
    "print(A)"
   ]
  },
  {
   "cell_type": "markdown",
   "metadata": {},
   "source": [
    "### $ 3.7 $ Combining arrays with `hstack` and `vstack`\n",
    "\n",
    "NumPy provides several functions to stack arrays together. The most commonly\n",
    "used are `hstack` (horizontal stack) and `vstack` (vertical stack)."
   ]
  },
  {
   "cell_type": "code",
   "execution_count": null,
   "metadata": {},
   "outputs": [
    {
     "name": "stdout",
     "output_type": "stream",
     "text": [
      "Horizontal stack of a and b: [1 2 3 4 5 6]\n",
      "Vertical stack of a and b:\n",
      "[[1 2 3]\n",
      " [4 5 6]]\n"
     ]
    }
   ],
   "source": [
    "a = np.array([1, 2, 3])\n",
    "b = np.array([4, 5, 6])\n",
    "\n",
    "# Horizontal stacking (side by side):\n",
    "h_stacked = np.hstack((a, b))\n",
    "print(f\"Horizontal stack of a and b: {h_stacked}\")\n",
    "\n",
    "# Vertical stacking (one above the other):\n",
    "v_stacked = np.vstack((a, b))\n",
    "print(f\"Vertical stack of a and b:\\n{v_stacked}\")"
   ]
  },
  {
   "cell_type": "markdown",
   "metadata": {},
   "source": [
    "Note the double parentheses in the syntax of the calls. Both functions\n",
    "take a tuple of arrays to be stacked, and the shapes of these arrays must be\n",
    "exactly the same, except for the lengths of the concatenation axis, which need\n",
    "not match.\n",
    "\n",
    "__Exercise:__ Stack the two matrices $ A $ and $ B $ below horizontally and vertically.\n",
    "Can you stack $ A $ and $ \\mathbf{c} $ horizontally and vertically as well?\n",
    "What about $ A $ and $ \\mathbf{d} $?"
   ]
  },
  {
   "cell_type": "code",
   "execution_count": 40,
   "metadata": {},
   "outputs": [],
   "source": [
    "A = np.array([[1, 2], [3, 4]])\n",
    "B = np.array([[5, 6], [7, 8]])\n",
    "c = np.array([5, 6])\n",
    "d = np.array([[1],\n",
    "              [2]])"
   ]
  },
  {
   "cell_type": "markdown",
   "metadata": {},
   "source": [
    "### $ 3.8 $ Sorting and finding unique elements\n",
    "\n",
    "There are several options for sorting arrays, each suited for different\n",
    "situations.\n",
    "\n",
    "* The `np.sort` function returns a sorted indepedent copy of the array without\n",
    "  modifying the original array:"
   ]
  },
  {
   "cell_type": "code",
   "execution_count": 4,
   "metadata": {},
   "outputs": [
    {
     "name": "stdout",
     "output_type": "stream",
     "text": [
      "[3 1 2]\n",
      "[1 2 3]\n"
     ]
    }
   ],
   "source": [
    "a = np.array([3, 1, 2])\n",
    "b = np.sort(a)\n",
    "\n",
    "print(a)  # a remains unchanged\n",
    "print(b)"
   ]
  },
  {
   "cell_type": "markdown",
   "metadata": {},
   "source": [
    "* The `sort` method sorts the array in-place (and returns `None` as the result of the call):"
   ]
  },
  {
   "cell_type": "code",
   "execution_count": 7,
   "metadata": {},
   "outputs": [
    {
     "name": "stdout",
     "output_type": "stream",
     "text": [
      "[1 2 3]\n"
     ]
    }
   ],
   "source": [
    "a = np.array([3, 1, 2])\n",
    "a.sort()\n",
    "\n",
    "print(a)  # a is now sorted"
   ]
  },
  {
   "cell_type": "markdown",
   "metadata": {},
   "source": [
    "* The `argsort` function returns the indices that would sort the array:"
   ]
  },
  {
   "cell_type": "code",
   "execution_count": 9,
   "metadata": {},
   "outputs": [
    {
     "name": "stdout",
     "output_type": "stream",
     "text": [
      "[1 2 0]\n"
     ]
    }
   ],
   "source": [
    "a = np.array([3, 1, 2])\n",
    "indices = np.argsort(a)  \n",
    "\n",
    "print(indices)"
   ]
  },
  {
   "cell_type": "markdown",
   "metadata": {},
   "source": [
    "To understand the preceding result, note that $ 1 $ is the index of the smallest\n",
    "element in the array, $ 2 $ is the index of the median and $ 0 $ the index of\n",
    "the largest element. All of these functions support parameters to specify\n",
    "an axis and the sorting algorithm; see the [documentation](https://numpy.org/doc/stable/reference/routines.sort.html)\n",
    "for more details.\n",
    "\n",
    "__Exercise:__ \n",
    "\n",
    "(a) Sort the following matrix without passing any arguments. Explain the result.\n",
    "\n",
    "(b) Sort using the argument `axis=0` and explain the result.\n",
    "\n",
    "(c) Perform an `argsort` and explain the result."
   ]
  },
  {
   "cell_type": "code",
   "execution_count": 13,
   "metadata": {},
   "outputs": [],
   "source": [
    "M = np.array([[5, 2, 7], \n",
    "              [1, 8, 3], \n",
    "              [9, 4, 2]])"
   ]
  },
  {
   "cell_type": "markdown",
   "metadata": {},
   "source": [
    "The `np.unique` function returns the unique elements of an array in sorted\n",
    "order. It can also tell us how many times each unique appears in the array when the\n",
    "`return_counts` parameter is set to `True`."
   ]
  },
  {
   "cell_type": "code",
   "execution_count": null,
   "metadata": {},
   "outputs": [
    {
     "name": "stdout",
     "output_type": "stream",
     "text": [
      "Original array: [3 1 4 1 5 9 2 6 5 3 5]\n",
      "\n",
      "Unique elements: [1 2 3 4 5 6 9]\n",
      "\n",
      "Unique elements: [1 2 3 4 5 6 9]\n",
      "Counts:          [2 1 2 1 3 1 1]\n"
     ]
    }
   ],
   "source": [
    "data = np.array([3, 1, 4, 1, 5, 9, 2, 6, 5, 3, 5])\n",
    "print(f\"Original array: {data}\")\n",
    "\n",
    "# Get unique elements:\n",
    "unique_elements = np.unique(data)\n",
    "print(f\"\\nUnique elements: {unique_elements}\")\n",
    "\n",
    "# Get unique elements and their counts:\n",
    "unique_elements, counts = np.unique(data, return_counts=True)\n",
    "print(f\"\\nUnique elements: {unique_elements}\")\n",
    "print(f\"Counts: {str(counts):>24}\")"
   ]
  },
  {
   "cell_type": "markdown",
   "metadata": {},
   "source": [
    "__Exercise:__ Use `argmax` to find the most common element in the array `data` of the preceding example."
   ]
  },
  {
   "cell_type": "code",
   "execution_count": null,
   "metadata": {},
   "outputs": [],
   "source": []
  },
  {
   "cell_type": "markdown",
   "metadata": {},
   "source": [
    "### $ 3.9 $ Flipping arrays\n",
    "\n",
    "The `np.flip` function reverses the order of elements in an array along a specified axis. It always\n",
    "returns a new, independent array, not a view of the original."
   ]
  },
  {
   "cell_type": "code",
   "execution_count": null,
   "metadata": {},
   "outputs": [],
   "source": [
    "a = np.array([1, 2, 3, 4, 5])\n",
    "print(f\"Original array: {a}\")\n",
    "print(f\"Flipped array: {np.flip(a)}\")"
   ]
  },
  {
   "cell_type": "markdown",
   "metadata": {},
   "source": [
    "__Exercise:__ Given the $ 2D $ array $ A $ below:\n",
    "\n",
    "(a) Flip $ A $ along its $ 0 $-th axis using `flip` with the argument `axis=0`.\n",
    "\n",
    "(b) Reverse the order of the columns of $ A $ using `flip`.\n",
    "\n",
    "(c) Flip both axes of $ A $ by using `flip` without providing an `axis` argument.\n",
    "\n",
    "(d) Can you accomplish the same results using slices of type `::-1`? What is the difference?\n",
    "_Hint:_ What happens if you modify the flipped array, is the original one affected?"
   ]
  },
  {
   "cell_type": "code",
   "execution_count": 15,
   "metadata": {},
   "outputs": [
    {
     "name": "stdout",
     "output_type": "stream",
     "text": [
      "\n",
      "Original 2D array:\n",
      "[[1 2 3]\n",
      " [4 5 6]\n",
      " [7 8 9]]\n"
     ]
    }
   ],
   "source": [
    "# Create a 2D array\n",
    "A = np.array([[1, 2, 3],\n",
    "              [4, 5, 6],\n",
    "              [7, 8, 9]])\n",
    "\n",
    "print(f\"\\nOriginal 2D array:\\n{A}\")"
   ]
  },
  {
   "cell_type": "markdown",
   "metadata": {},
   "source": [
    "__Exercise:__ The $ 2D $ of shape $ 28 \\times 28 $ in the code cell below\n",
    "represents a grayscale image. Write a function to rotate this image $ 90 $ degrees\n",
    "clockwise.\n",
    "\n",
    "_Hint_: This can be accomplished by first transposing the array and then\n",
    "flipping it vertically (i.e., reversing the order of the entries along each\n",
    "column) with an appropriate slice or using `flip`. This is illustrated in the\n",
    "$ 3 \\times 3 $ example below, but the same idea works for any $ 2D $ shape.\n",
    "$$\n",
    "\\begin{bmatrix}\n",
    "a & b & c \\\\\n",
    "d & e & f \\\\\n",
    "g & h & i \\\\\n",
    "\\end{bmatrix}\n",
    "\\overset{\\text{transpose}}{\\longrightarrow}\n",
    "\\begin{bmatrix}\n",
    "a & d & g \\\\\n",
    "b & e & h \\\\\n",
    "c & f & i \\\\\n",
    "\\end{bmatrix}\n",
    "\\overset{\\text{flip ver.}}{\\longrightarrow}\n",
    "\\begin{bmatrix}\n",
    "g & d & a \\\\\n",
    "h & e & b \\\\\n",
    "i & f & c \\\\\n",
    "\\end{bmatrix}\n",
    "$$"
   ]
  },
  {
   "cell_type": "code",
   "execution_count": null,
   "metadata": {},
   "outputs": [
    {
     "name": "stdout",
     "output_type": "stream",
     "text": [
      "[[209 215 215 107 109]\n",
      " [139 143 115 203  34]\n",
      " [180 127  65  62 170]\n",
      " [  5 237  66 204  48]\n",
      " [206 217  69 153  58]]\n"
     ]
    }
   ],
   "source": [
    "image = np.array(rng.integers(0, 256, size=(28, 28)))\n",
    "print(image[:5, :5])\n",
    "\n",
    "def rotate_90_clockwise(img):\n",
    "    \"\"\" Rotate a 2D array 90 degrees clockwise.  \"\"\""
   ]
  },
  {
   "cell_type": "markdown",
   "metadata": {},
   "source": [
    "### $ 3.10 $ The `squeeze` method\n",
    "\n",
    "The `squeeze` method removes axes of length $ 1 $ from the shape of an array.\n",
    "For example, an array of shape $ (1, 3, 1) $ becomes $ (3,) $ after squeezing. "
   ]
  },
  {
   "cell_type": "code",
   "execution_count": 16,
   "metadata": {},
   "outputs": [
    {
     "name": "stdout",
     "output_type": "stream",
     "text": [
      "(1, 3, 1, 2)\n",
      "(3, 2)\n"
     ]
    }
   ],
   "source": [
    "# Create array with shape (1, 3, 1, 2):\n",
    "A = np.array([[[[1, 2]], [[3, 4]], [[5, 6]]]])\n",
    "print(A.shape)\n",
    "\n",
    "# Remove single-dimensional axes:\n",
    "B = A.squeeze()\n",
    "print(B.shape)"
   ]
  },
  {
   "cell_type": "markdown",
   "metadata": {},
   "source": [
    "Some key characteristics of `squeeze`:\n",
    "* It returns a view of the input array, not a copy.\n",
    "* Without arguments, it removes all single-dimensional axes.\n",
    "* With the axis parameter, it can remove only specific single-dimensional axes.\n",
    "* Raises a `ValueError` if you try to squeeze an axis of size $ > 1 $."
   ]
  },
  {
   "cell_type": "markdown",
   "metadata": {},
   "source": [
    "__Exercise:__ Squeeze out axis $ 2 $ of the array $ A $ in the preceding example to obtain\n",
    "an array $ C $. Then modify an element of $ C $ and check whether $ A $ is affected."
   ]
  },
  {
   "cell_type": "code",
   "execution_count": null,
   "metadata": {},
   "outputs": [],
   "source": []
  }
 ],
 "metadata": {
  "kernelspec": {
   "display_name": "base",
   "language": "python",
   "name": "python3"
  },
  "language_info": {
   "codemirror_mode": {
    "name": "ipython",
    "version": 3
   },
   "file_extension": ".py",
   "mimetype": "text/x-python",
   "name": "python",
   "nbconvert_exporter": "python",
   "pygments_lexer": "ipython3",
   "version": "3.12.4"
  }
 },
 "nbformat": 4,
 "nbformat_minor": 2
}
