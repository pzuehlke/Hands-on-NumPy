{
 "cells": [
  {
   "cell_type": "code",
   "execution_count": 1,
   "metadata": {},
   "outputs": [],
   "source": [
    "import numpy as np"
   ]
  },
  {
   "cell_type": "markdown",
   "metadata": {},
   "source": [
    "# Array attributes and methods"
   ]
  },
  {
   "cell_type": "markdown",
   "metadata": {},
   "source": [
    "## $ \\S 1 $ Attributes of arrays\n",
    "\n",
    "### $ 1.1 $ Shape and number of dimensions\n",
    "\n",
    "Recall from the previous notebook that, just as in Linear Algebra, a central\n",
    "property of a $ 2D $ array is its **shape**, which is the element\n",
    "count along each of its **axes** (vertical and horizontal).  Referring to the\n",
    "example below, the shape of our matrix $ A $ is $ (3, 4) $, or $ 3 \\times 4 $,\n",
    "since it has three rows and four columns:"
   ]
  },
  {
   "cell_type": "code",
   "execution_count": 2,
   "metadata": {},
   "outputs": [
    {
     "name": "stdout",
     "output_type": "stream",
     "text": [
      "[[ 1.  2.  3.  4.]\n",
      " [ 1.  4.  9. 16.]\n",
      " [ 1.  8. 27. 64.]]\n"
     ]
    }
   ],
   "source": [
    "A = np.array([[1., 2., 3., 4.],\n",
    "              [1., 4., 9., 16.],\n",
    "              [1., 8., 27., 64.]])\n",
    "print(A)"
   ]
  },
  {
   "cell_type": "markdown",
   "metadata": {},
   "source": [
    "The __number of dimensions__, also known as the __rank__, of an arbitrary array\n",
    "is stored in its `ndim` attribute:"
   ]
  },
  {
   "cell_type": "code",
   "execution_count": 3,
   "metadata": {},
   "outputs": [
    {
     "name": "stdout",
     "output_type": "stream",
     "text": [
      "(3, 4)\n",
      "2\n"
     ]
    }
   ],
   "source": [
    "print(A.shape)   # Print the shape of A\n",
    "print(A.ndim)    # Print the number of dimensions of A"
   ]
  },
  {
   "cell_type": "markdown",
   "metadata": {},
   "source": [
    "The number of dimensions of an array is a positive integer, while its shape is always a tuple, even when the array is one-dimensional:"
   ]
  },
  {
   "cell_type": "code",
   "execution_count": 4,
   "metadata": {},
   "outputs": [
    {
     "name": "stdout",
     "output_type": "stream",
     "text": [
      "(3,)\n",
      "Note that the shape is not '3', but rather the tuple '(3, )'\n",
      "<class 'tuple'>\n"
     ]
    }
   ],
   "source": [
    "a = np.array([11, 13, 17])\n",
    "print(a.shape)\n",
    "\n",
    "print(\"Note that the shape is not '3', but rather the tuple '(3, )'\")\n",
    "print(type(a.shape))"
   ]
  },
  {
   "cell_type": "markdown",
   "metadata": {},
   "source": [
    "__Exercise:__ What are the rank and the shape of an empty $ 1D $ array? An empty\n",
    "$ 2D $ array?"
   ]
  },
  {
   "cell_type": "code",
   "execution_count": null,
   "metadata": {},
   "outputs": [],
   "source": []
  },
  {
   "cell_type": "markdown",
   "metadata": {},
   "source": [
    "### $ 1.2 $ Attributes and related terminology\n",
    "\n",
    "An instance, or object, of a specific class, such as the array $ A $ of type `ndarray`,\n",
    "is equipped with a set of predefined **attributes**. Attributes are \n",
    "_properties inherent to every instance of the class_ (in this case, that of\n",
    "ndarrays). The **state** of an object is _the set of current values of all\n",
    "of its attributes._\n",
    "\n",
    "📝 To access an attribute `a` of an object `x`, the syntax is `x.a`.\n",
    "\n",
    "For example, suppose that we want to design a Python class to represent cars.\n",
    "An instance of this class would then correspond to one specific car\n",
    "in the real world.  Some plausible attributes of this class could be:\n",
    "* Its color (say, `color`, of type `str`).\n",
    "* The year in which it was manufactured (say, `year`, of type `int`).\n",
    "* Whether it is electric or not (say, `electric`, of type `boolean`).\n",
    "* The fuel efficiency of the car (say, `kilometers_per_liter`, of type `float`).\n",
    "\n",
    "And so on for any other relevant property of cars that we might want to include\n",
    "in our model. Note that the values of these attributes for different car\n",
    "instances will vary, in general. However, from this example we can easily imagine\n",
    "a situation where two cars have exactly the same state, as defined by their\n",
    "set of attribute values, and yet they are distinct objects, i.e., have different\n",
    "_identities_."
   ]
  },
  {
   "cell_type": "markdown",
   "metadata": {},
   "source": [
    "### $ 1.3 $ The main attributes of arrays\n",
    "\n",
    "Although arrays come with several attributes, most of them relate to the array's\n",
    "internal representation or low-level utilities. The five most frequently used and\n",
    "conceptually important are:\n",
    "\n",
    "| Attribute   | Description                                    | Type      |\n",
    "|-------------|------------------------------------------------|-----------|\n",
    "| `ndim`      | Number of dimensions (rank) of the array  | `int`   |\n",
    "| `shape`     | Number of elements that lie along each axis | `tuple`     |\n",
    "| `size`      | Total number of elements in the array     | `int`   |\n",
    "| `dtype`     | Data type of the _elements_ of the array    | `dtype`  |\n",
    "| `T`         | Transpose of the array                    | `ndarray`    |\n"
   ]
  },
  {
   "cell_type": "markdown",
   "metadata": {},
   "source": [
    "__Exercise:__ For the following arrays $ A $, $ B $ and $ \\mathbf v $:\n",
    "\n",
    "(a) Check their attributes. Is the datatype of $ \\mathbf v $ what you expected?\n",
    "\n",
    "(b) Verify that the type of each attribute matches the one described in the table\n",
    "using the Python built-in function `type`."
   ]
  },
  {
   "cell_type": "code",
   "execution_count": null,
   "metadata": {},
   "outputs": [],
   "source": [
    "A = np.array([[1, 2, 3],\n",
    "              [4, 5, 6],\n",
    "              [7, 8, 9]])\n",
    "\n",
    "B = np.array([[True, False, True],\n",
    "              [False, True, False]])\n",
    "\n",
    "v = np.array([1, 2, 3.])"
   ]
  },
  {
   "cell_type": "markdown",
   "metadata": {},
   "source": [
    "NumPy arrays are designed to store elements of a single datatype, and _these\n",
    "datatypes are specific to NumPy_. Many of these are based on C's native types.\n",
    "This ensures high performance and a lighter memory footprint. As an example, the\n",
    "datatype of the matrix $ A $ above is `int64`, which represents integers using $\n",
    "64 $ bits. In contrast, the built-in Python type `int` can hold arbitrarily\n",
    "large integers.\n",
    "\n",
    "It is also possible to work\n",
    "with arrays of arbitrary Python objects by using the datatype `object`. Because\n",
    "in this case what is stored in the array is only a reference to each object (not\n",
    "the object itself), the entries don't even need to have the same Python type:"
   ]
  },
  {
   "cell_type": "code",
   "execution_count": 13,
   "metadata": {},
   "outputs": [
    {
     "name": "stdout",
     "output_type": "stream",
     "text": [
      "Item 0: pandas (type: <class 'str'>)\n",
      "Item 1: [1, 2, 3] (type: <class 'list'>)\n",
      "Item 2: {'name': 'Alice'} (type: <class 'dict'>)\n"
     ]
    }
   ],
   "source": [
    "complex_array = np.array([\"pandas\",  [1, 2, 3], {\"name\": \"Alice\"}], dtype=object)\n",
    "\n",
    "for i, item in enumerate(complex_array):\n",
    "    print(f\"Item {i}: {item} (type: {type(item)})\")"
   ]
  },
  {
   "cell_type": "markdown",
   "metadata": {},
   "source": [
    "__Exercise:__ If an array has shape $ (2, 3, 4) $, what is its size? More generally, what is the size of an array of shape $ (n_1, n_2, \\cdots, n_d) $?"
   ]
  },
  {
   "cell_type": "code",
   "execution_count": null,
   "metadata": {},
   "outputs": [],
   "source": []
  },
  {
   "cell_type": "markdown",
   "metadata": {},
   "source": [
    "__Exercise:__ A _square matrix_ has the same number of rows and columns.\n",
    "\n",
    "(a) Write a function `is_square(matrix)` that accepts a $ 2D $ array as its\n",
    "argument and returns `True` or `False` depending on whether the given matrix is\n",
    "square or not.  _Hint:_ Use the transpose of the matrix.\n",
    "\n",
    "(b) How would you generalize to multidimensional arrays?"
   ]
  },
  {
   "cell_type": "code",
   "execution_count": null,
   "metadata": {},
   "outputs": [],
   "source": []
  },
  {
   "cell_type": "markdown",
   "metadata": {},
   "source": [
    "⚠️ When applied to two arrays of the same shape, the `==` operator performs an\n",
    "element-wise comparison and returns a Boolean array of the same shape. Instead,\n",
    "use `np.array_equal(A, B)` to check if two arrays $ A $ and $ B $ have the same\n",
    "shape and elements."
   ]
  },
  {
   "cell_type": "code",
   "execution_count": 18,
   "metadata": {},
   "outputs": [
    {
     "name": "stdout",
     "output_type": "stream",
     "text": [
      "[ True  True  True]\n",
      "True\n"
     ]
    }
   ],
   "source": [
    "a = np.array([1, 2, 3])\n",
    "b = np.array([1, 2, 3])\n",
    "\n",
    "print(a == b)\n",
    "print(np.array_equal(a, b))"
   ]
  },
  {
   "cell_type": "markdown",
   "metadata": {},
   "source": [
    "__Exercise:__ Write a Python function to determine whether a given matrix $ A $ is\n",
    "symmetric (i.e., whether $ A^T = A $), anti-symmetric ($ A^T = -A $) or neither.\n",
    "Does your function work correctly when $ A $ is not square?"
   ]
  },
  {
   "cell_type": "code",
   "execution_count": null,
   "metadata": {},
   "outputs": [],
   "source": []
  },
  {
   "cell_type": "markdown",
   "metadata": {},
   "source": [
    "__Exercise:__ What is the transpose of a $ 1D $ array? What about $ 3D $ arrays?\n",
    "Test your conjectures on some examples. More generally, what would be the most\n",
    "reasonable definition of the transpose of an $ n $-dimensional array?"
   ]
  },
  {
   "cell_type": "code",
   "execution_count": null,
   "metadata": {},
   "outputs": [],
   "source": []
  },
  {
   "cell_type": "markdown",
   "metadata": {},
   "source": [
    "## $ \\S 2 $ Array methods\n",
    "\n",
    "### $ 2.1 $ Methods and related terminology\n",
    "\n",
    "While attributes describe the properties of an object, **methods** define what\n",
    "an object can do: they are functions that are bound to the object and can access\n",
    "or modify its state. Methods encapsulate behavior that is appropriate for the\n",
    "class of objects they belong to, just as attributes encapsulate state.\n",
    "\n",
    "📝 To invoke a method `m` on an object `x`, the syntax is `x.m(<arguments>)`.\n",
    "\n",
    "Continuing the example from $ \\S 1.2 $, we could think about implementing\n",
    "the following methods for our class representing cars:\n",
    "* Starting the engine (say, `start_engine()`, which returns nothing but changes the car's state).\n",
    "* Computing the range based on current fuel level (say, `get_range()`, which returns a `float`).\n",
    "* Checking if maintenance is needed (say, `needs_maintenance()`, which returns a `boolean`).\n",
    "\n",
    "In the context of NumPy arrays, methods like `max()` or `mean()` perform\n",
    "calculations on the array's data and return results, while methods like `sort()`\n",
    "modify the array in place, without returing anything."
   ]
  },
  {
   "cell_type": "code",
   "execution_count": 13,
   "metadata": {},
   "outputs": [
    {
     "name": "stdout",
     "output_type": "stream",
     "text": [
      "Sum of the values in C: 12\n",
      "C after sorting:\n",
      " [[1 2 3]\n",
      " [1 2 3]]\n"
     ]
    }
   ],
   "source": [
    "C = np.array([[2, 1, 3],\n",
    "              [3, 2, 1]])\n",
    "print(f\"Sum of the values in C: {C.sum()}\")\n",
    "\n",
    "C.sort()\n",
    "print(f\"C after sorting:\\n\", C)"
   ]
  },
  {
   "cell_type": "markdown",
   "metadata": {},
   "source": [
    "As an optional argument to `sum`, we can designate an axis __along which__ the\n",
    "sum should take place. As always in Python, indexing is zero-based, meaning that\n",
    "for the matrix $ C $ above, the rows lie along axis $ 0 $ and the columns along\n",
    "axis $ 1 $."
   ]
  },
  {
   "cell_type": "code",
   "execution_count": 15,
   "metadata": {},
   "outputs": [
    {
     "name": "stdout",
     "output_type": "stream",
     "text": [
      "[5 3 4]\n"
     ]
    }
   ],
   "source": [
    "C = np.array([[2, 1, 3],\n",
    "              [3, 2, 1]])\n",
    "print(C.sum(axis=0))"
   ]
  },
  {
   "cell_type": "markdown",
   "metadata": {},
   "source": [
    "If we think of $ C $ as the matrix $ C = (c_{ij}) $, where $ i $ is the index\n",
    "for axis $ 0 $ (i.e., the index of rows), then taking the sum along this axis\n",
    "means that, for each $ j $, NumPy computes $ \\sum_{i} c_{ij} $, resulting in the\n",
    "preceding vector since $ C $ has three columns. To put it another way, _the axis\n",
    "specified as the argument to `sum` is the one that gets collapsed_, in this case\n",
    "by the summation."
   ]
  },
  {
   "cell_type": "markdown",
   "metadata": {},
   "source": [
    "### $ 2.2 $ Reduction and accumulation methods\n",
    "\n",
    "The main array methods that involve mathematical operations are the following:\n",
    "\n",
    "| Method    | Description of its output                            |\n",
    "|-----------|------------------------------------------------------|\n",
    "| `min`     | Minimum value of the array             |\n",
    "| `max`     | Maximum value of the array             |\n",
    "| `argmin`  | Indices of the minimum value along an axis |\n",
    "| `argmax`  | Indices of the maximum value along an axis |\n",
    "| `sum`     | Sum of all the elements in the array   |\n",
    "| `prod`    | Product of all the elements in the array|\n",
    "| `mean`    | Arithmetic mean of the array           |\n",
    "| `median`  | Median of the array                    |\n",
    "| `percentile`  | $ n $-th percentile of the array   |\n",
    "| `std`     | Standard deviation of the array        |\n",
    "| `var`     | Variance of the array                  |\n",
    "\n",
    "All of these can be applied to a specific axis or axes by setting a value for\n",
    "the `axis` parameter."
   ]
  },
  {
   "cell_type": "markdown",
   "metadata": {},
   "source": [
    "__Exercise:__ Understanding how the axis parameter works is crucial;\n",
    "this exercise will help you master this.\n",
    "Given the matrix $ A $ in the code cell below:\n",
    "\n",
    "(a) Find the maximum value in each row (i.e., along the columns).\n",
    "\n",
    "(b) Calculate the mean (average) of each column (i.e., along the rows).\n",
    "\n",
    "(c) Determine the index of the maximum element in each row (i.e., along the columns).\n",
    "\n",
    "(d) Compute the standard deviation of values in each row.\n",
    "\n",
    "(e) Find the cumulative sums for each row using the `cumsum` method. Unlike all\n",
    "of the methods in the table, its result has the same shape as the\n",
    "original array. It is a type of _accumulation_ method."
   ]
  },
  {
   "cell_type": "code",
   "execution_count": 43,
   "metadata": {},
   "outputs": [
    {
     "name": "stdout",
     "output_type": "stream",
     "text": [
      "[[1 2 3 4]\n",
      " [3 3 3 3]]\n"
     ]
    }
   ],
   "source": [
    "A = np.array([[1, 2, 3, 4],\n",
    "              [3, 3, 3, 3]])\n",
    "print(A)"
   ]
  },
  {
   "cell_type": "markdown",
   "metadata": {},
   "source": [
    "📝 Arrays have several more methods besides the ones listed above. To get a\n",
    "listing of all attributes and methods associated to an object $ a $ (not\n",
    "necessarily an array), you can run the Python command `dir(a)`. \n",
    "Also, in Jupyter notebooks, typing `?` before or after an object or function name\n",
    "(e.g., `A?` or `?np.array`) displays detailed documentation about it:"
   ]
  },
  {
   "cell_type": "code",
   "execution_count": 32,
   "metadata": {},
   "outputs": [
    {
     "name": "stdout",
     "output_type": "stream",
     "text": [
      "\u001b[0;31mDocstring:\u001b[0m\n",
      "a.sum(axis=None, dtype=None, out=None, keepdims=False, initial=0, where=True)\n",
      "\n",
      "Return the sum of the array elements over the given axis.\n",
      "\n",
      "Refer to `numpy.sum` for full documentation.\n",
      "\n",
      "See Also\n",
      "--------\n",
      "numpy.sum : equivalent function\n",
      "\u001b[0;31mType:\u001b[0m      builtin_function_or_method"
     ]
    }
   ],
   "source": [
    "A.sum?"
   ]
  },
  {
   "cell_type": "markdown",
   "metadata": {},
   "source": [
    "__Exercise:__ Given a $ 2D $ array `data` of shape $ 100 \\times 5 $ representing a\n",
    "dataset where each row is an entry and each column corresponds to a different variable:\n",
    "\n",
    "(a) Calculate the mean and standard deviation of each variable.\n",
    "\n",
    "(b) Using `argmin`, identify the variable with the smallest variance, suggesting it has the\n",
    "least spread."
   ]
  },
  {
   "cell_type": "code",
   "execution_count": 37,
   "metadata": {},
   "outputs": [
    {
     "name": "stdout",
     "output_type": "stream",
     "text": [
      "[[ 0.12573022 -0.13210486  0.64042265  0.10490012 -0.53566937]\n",
      " [ 0.36159505  1.30400005  0.94708096 -0.70373524 -1.26542147]\n",
      " [-0.62327446  0.04132598 -2.32503077 -0.21879166 -1.24591095]\n",
      " [-0.73226735 -0.54425898 -0.31630016  0.41163054  1.04251337]\n",
      " [-0.12853466  1.36646347 -0.66519467  0.35151007  0.90347018]]\n"
     ]
    }
   ],
   "source": [
    "rng = np.random.default_rng(seed=0)\n",
    "data = rng.normal(size=(100, 5))\n",
    "\n",
    "print(data[:5])  # Display first five rows of the table"
   ]
  },
  {
   "cell_type": "markdown",
   "metadata": {},
   "source": [
    "__Exercise:__ Given the $ 1D $ array below, calculate the mean of all numbers in\n",
    "it that are greater than $ 50 $."
   ]
  },
  {
   "cell_type": "code",
   "execution_count": 40,
   "metadata": {},
   "outputs": [
    {
     "name": "stdout",
     "output_type": "stream",
     "text": [
      "[94 12 13 43 59 63 87 38 95 71 58 24 75 15  6 75 25 67 57 43] ...\n"
     ]
    }
   ],
   "source": [
    "v = rng.integers(1, 101, size=100)\n",
    "# First 20 elements:\n",
    "print(v[:20], \"...\")"
   ]
  },
  {
   "cell_type": "markdown",
   "metadata": {},
   "source": [
    "__Exercise (moving averages):__ A _moving average_ is obtained by calculating the\n",
    "average of subsets of data for each point in time over a \"window\" of fixed\n",
    "length moving along the array. This is useful for smoothing out time-series\n",
    "data. Using a for loop, calculate the moving average for the following $\n",
    "1D $ array consisting of $ 1000 $ elements, where the window has length $ 50 $."
   ]
  },
  {
   "cell_type": "code",
   "execution_count": 41,
   "metadata": {},
   "outputs": [],
   "source": [
    "time_series = np.random.rand(1000)\n",
    "window_size = 50\n",
    "# The result will be an array of length 1000 - 50 + 1 = 951:\n",
    "moving_averages = np.zeros(len(time_series) - window_size + 1)\n",
    "# for ..."
   ]
  },
  {
   "cell_type": "markdown",
   "metadata": {},
   "source": [
    "## $ \\S 3 $ Reshaping and changing the datatype of arrays\n",
    "\n",
    "### $ 3.1 $ Setting and changing the type\n",
    "\n",
    "Recall that the `dtype` attribute of an array stores its datatype. We can create\n",
    "a new array with a different datatype from a given array by using the method\n",
    "`astype`, provided that the datatype conversion makes sense:"
   ]
  },
  {
   "cell_type": "code",
   "execution_count": 58,
   "metadata": {},
   "outputs": [
    {
     "name": "stdout",
     "output_type": "stream",
     "text": [
      "[['1' '-2']\n",
      " ['3' '-4']] \n",
      "\n",
      "float64 \n",
      " [[ 1. -2.]\n",
      " [ 3. -4.]]\n"
     ]
    }
   ],
   "source": [
    "# Let's begin by creating an array of strings:\n",
    "A = np.array([[\"1\", \"-2\"],\n",
    "              [\"3\", \"-4\"]])\n",
    "print(A, '\\n')\n",
    "\n",
    "# Convert the datatype to double-precision (64 bit) floating-point numbers:\n",
    "A_double = A.astype(\"float64\")\n",
    "print(A_double.dtype, '\\n', A_double)"
   ]
  },
  {
   "cell_type": "markdown",
   "metadata": {},
   "source": [
    "📝 Note that the datatype is passed as a string. Actually these are just\n",
    "convenient aliases for the true type names, such as `np.float64` and `np.bool_`,\n",
    "which can also be passed directly.\n"
   ]
  },
  {
   "cell_type": "markdown",
   "metadata": {},
   "source": [
    "__Exercise:__ What happens if you try to convert a numeric array to one whose\n",
    "datatype is `bool`? What about the converse, i.e., from `bool` to, say, `int32`?"
   ]
  },
  {
   "cell_type": "code",
   "execution_count": null,
   "metadata": {},
   "outputs": [],
   "source": []
  },
  {
   "cell_type": "markdown",
   "metadata": {},
   "source": [
    "📝 Although we have been speaking about the \"conversion\" from one type to another,\n",
    "`astype` doesn't actually modify the original array; instead, it always creates a\n",
    "_new copy_ of the original array having the prescribed datatype. This occurs\n",
    "even when the target datatype is the same as the original.\n",
    "\n",
    "__Exercise:__ Prove that the two arrays $ \\mathbf{u} $ and $ \\mathbf{v} $ below\n",
    "are independent by modifying one of them and checking that the other one\n",
    "is unaffected."
   ]
  },
  {
   "cell_type": "code",
   "execution_count": null,
   "metadata": {},
   "outputs": [
    {
     "name": "stdout",
     "output_type": "stream",
     "text": [
      "Original u: [1 2 3] of type int64\n",
      "Original v: [1 2 3] of type int64 \n",
      "\n",
      "u after modification of v: [1 2 3]\n",
      "v after modification of v: [1 2 3]\n"
     ]
    }
   ],
   "source": [
    "u = np.array([1, 2, 3])\n",
    "print(f\"Original u: {u} of type {u.dtype}\")\n",
    "\n",
    "v = u.astype(\"int64\")\n",
    "print(f\"Original v: {v} of type {v.dtype} \\n\")\n",
    "\n",
    "# ...\n",
    "\n",
    "print(f\"u after modification of v: {u}\")\n",
    "print(f\"v after modification of v: {v}\")"
   ]
  },
  {
   "cell_type": "markdown",
   "metadata": {},
   "source": [
    "To prescribe the datatype of an array at the moment of its creation, we can\n",
    "use the `dtype` argument available in almost all array creation functions:"
   ]
  },
  {
   "cell_type": "code",
   "execution_count": 60,
   "metadata": {},
   "outputs": [
    {
     "name": "stdout",
     "output_type": "stream",
     "text": [
      "[1. 2. 3. 4.]\n",
      "[[ True  True]\n",
      " [ True  True]]\n"
     ]
    }
   ],
   "source": [
    "A = np.array([1, 2, 3, 4], dtype=\"float64\")\n",
    "print(A)\n",
    "\n",
    "B = np.ones((2, 2), dtype=\"bool\")\n",
    "print(B)"
   ]
  },
  {
   "cell_type": "markdown",
   "metadata": {},
   "source": [
    "__Exercise:__ Create arrays \n",
    "$$ \\mathbf a = (2, 2, 2, 2)\\,, \\quad \\mathbf b = (2, 4, 6, 8) \\quad \\text{and} \\quad\n",
    "\\mathbf c = (2, 3, 4, 5) $$\n",
    "of type `float64` using `full`, `arange` and `linspace`, respectively."
   ]
  },
  {
   "cell_type": "code",
   "execution_count": null,
   "metadata": {},
   "outputs": [],
   "source": []
  },
  {
   "cell_type": "markdown",
   "metadata": {},
   "source": [
    "### $ 3.2 $ Modifying the shape of arrays\n",
    "\n",
    "Reshaping arrays is a common and fundamental operation in NumPy. There is both\n",
    "a function and a method named `reshape` that can accomplish this:"
   ]
  },
  {
   "cell_type": "code",
   "execution_count": 62,
   "metadata": {},
   "outputs": [
    {
     "name": "stdout",
     "output_type": "stream",
     "text": [
      "[1 2 3 4 5 6]\n",
      "\n",
      "[[1 2]\n",
      " [3 4]\n",
      " [5 6]]\n",
      "\n",
      "[[1 2 3]\n",
      " [4 5 6]]\n",
      "\n"
     ]
    }
   ],
   "source": [
    "a = np.array([1, 2, 3, 4, 5, 6])\n",
    "print(a, end='\\n\\n')\n",
    "\n",
    "A = np.reshape(a, (3, 2))  # Here we use the _function_ `reshape`\n",
    "\n",
    "B = a.reshape((2, 3))   # Here we use the `reshape` _method_\n",
    "\n",
    "print(A, end=\"\\n\\n\")  # Here a has been reshaped into a 3 by 2 matrix\n",
    "print(B, end=\"\\n\\n\")  # Here a has been reshaped into a 2 by 3 matrix"
   ]
  },
  {
   "cell_type": "markdown",
   "metadata": {},
   "source": [
    "Note that when we reshape an array, the new shape must be compatible with the\n",
    "size of the original array. For example, the following results in an error (why?):"
   ]
  },
  {
   "cell_type": "code",
   "execution_count": null,
   "metadata": {},
   "outputs": [],
   "source": [
    "C = np.reshape(a, (2, 2))"
   ]
  },
  {
   "cell_type": "markdown",
   "metadata": {},
   "source": [
    "When reshaping, we may also specify $ -1 $ in a dimension to instruct\n",
    "NumPy to infer the number of elements along that dimension from the size of the\n",
    "array and that of the remaining dimensions. This is especially useful when an\n",
    "array is passed to us by the user as an argument in a function call, but we do\n",
    "not know in advance how many entries it has:"
   ]
  },
  {
   "cell_type": "code",
   "execution_count": null,
   "metadata": {},
   "outputs": [],
   "source": [
    "a = np.array([[1, 2],\n",
    "              [3, 4]])\n",
    "A = a.reshape((-1, 1))  # Reshape into a column vector\n",
    "print(A)"
   ]
  },
  {
   "cell_type": "markdown",
   "metadata": {},
   "source": [
    "In this example we wanted to reshape our array so that the result would have\n",
    "one column, but didn't want to figure out how many rows it should have for that\n",
    "to happen. Here's another example, in which we reshape a $ 1D $ array into a\n",
    "matrix and then to a row vector:"
   ]
  },
  {
   "cell_type": "code",
   "execution_count": null,
   "metadata": {},
   "outputs": [],
   "source": [
    "x = np.arange(1, 13)\n",
    "X = x.reshape((3, -1))\n",
    "x_row = X.reshape((1, -1))\n",
    "\n",
    "print(x, end='\\n\\n')\n",
    "print(X, end='\\n\\n')\n",
    "print(x_row, end='\\n\\n')"
   ]
  },
  {
   "cell_type": "markdown",
   "metadata": {},
   "source": [
    "📝 There is no essential difference between the function and the method versions\n",
    "of `reshape`. In both cases, NumPy returns a _new_ array, while the original\n",
    "array remains unchanged. However, these operations provide a view of the\n",
    "original array's data whenever possible, meaning that they do not copy the\n",
    "array's _data_ unless necessary. Thus, modifications to the data in the reshaped\n",
    "array can affect the original array and vice versa. Let's use the previous\n",
    "example to illustrate this:"
   ]
  },
  {
   "cell_type": "code",
   "execution_count": null,
   "metadata": {},
   "outputs": [],
   "source": [
    "X[0, 0] = -23  # Modify the top left element of X\n",
    "print(x)  # The 0th element of x has also been affected!"
   ]
  },
  {
   "cell_type": "markdown",
   "metadata": {},
   "source": [
    "To create an independent copy of a NumPy array, we can use the `copy` method.\n",
    "This method generates a new array object with the same data as the original\n",
    "array, but stored in a separate memory location."
   ]
  },
  {
   "cell_type": "code",
   "execution_count": null,
   "metadata": {},
   "outputs": [],
   "source": [
    "y = np.arange(3)  # y is the 1D array with entries 0, 1, 2\n",
    "Y = y.copy().reshape((1, -1))  # Reshape y into an independent 2D row vector\n",
    "y[0] = 10  # Modify 0th element of y\n",
    "print(y)\n",
    "print(Y)  # The 0th element of Y is not affected, since Y is an independent copy"
   ]
  },
  {
   "cell_type": "markdown",
   "metadata": {},
   "source": [
    "There is also a _function_ `np.copy` that is essentially equivalent to the `copy` method.\n",
    "\n",
    "The `flatten` method takes a multi-dimensional array and returns a new,\n",
    "independent _one-dimensional_ array containing all of the elements of the original\n",
    "array. "
   ]
  },
  {
   "cell_type": "code",
   "execution_count": null,
   "metadata": {},
   "outputs": [],
   "source": [
    "A = np.array([[1, 2],\n",
    "              [3, 4]])\n",
    "a = A.flatten()\n",
    "print(a)"
   ]
  },
  {
   "cell_type": "markdown",
   "metadata": {},
   "source": [
    "The order in which the elements are placed in the flattened array is based on\n",
    "the lexicographic ordering of their indices in the original array. For example,\n",
    "if we are dealing with a $ 3D $ array, then the entry at position $ (0, 0, 2) $\n",
    "comes before the entry at $ (0, 1, 0) $, which will be placed before the entry\n",
    "at $ (1, 0, 0) $."
   ]
  },
  {
   "cell_type": "code",
   "execution_count": null,
   "metadata": {},
   "outputs": [],
   "source": [
    "A = np.arange(6).reshape((2, 3))\n",
    "print(A)\n",
    "a = A.flatten()\n",
    "print(a)"
   ]
  },
  {
   "cell_type": "markdown",
   "metadata": {},
   "source": [
    "__Exercise:__ The $ 2D $ of shape $ 28 \\times 28 $ in the code cell below\n",
    "represents a grayscale image. Write a function to rotate this image $ 90 $ degrees\n",
    "clockwise.\n",
    "\n",
    "_Hint_: This can be accomplished by first transposing the array and then\n",
    "flipping it vertically (i.e., reversing the order of the entries along each\n",
    "column) with an appropriate slice. This is illustrated in the $ 3 \\times 3 $\n",
    "example below, but the same idea works in any dimension.\n",
    "$$\n",
    "\\begin{bmatrix}\n",
    "a & b & c \\\\\n",
    "d & e & f \\\\\n",
    "g & h & i \\\\\n",
    "\\end{bmatrix}\n",
    "\\overset{\\text{transpose}}{\\longrightarrow}\n",
    "\\begin{bmatrix}\n",
    "a & d & g \\\\\n",
    "b & e & h \\\\\n",
    "c & f & i \\\\\n",
    "\\end{bmatrix}\n",
    "\\overset{\\text{flip ver.}}{\\longrightarrow}\n",
    "\\begin{bmatrix}\n",
    "g & d & a \\\\\n",
    "h & e & b \\\\\n",
    "i & f & c \\\\\n",
    "\\end{bmatrix}\n",
    "$$"
   ]
  },
  {
   "cell_type": "code",
   "execution_count": null,
   "metadata": {},
   "outputs": [],
   "source": [
    "image = np.array(np.random.randint(0, 256, size=(28, 28)))\n",
    "print(image[:5, :5])"
   ]
  },
  {
   "cell_type": "markdown",
   "metadata": {},
   "source": [
    "__Exercise:__ Given a $ 1D $ array of $ 100 $ elements, reshape it into a $ 10\n",
    "\\times 10 $ matrix. Then, normalize the matrix so that all values are scaled to\n",
    "lie between $ 0 $ and $ 1 $ (inclusive). _Hint:_ Determine the maximum $ M $ and\n",
    "minimum $ m $ of all entries, write a linear function $ f $ that takes $ [m, M] $ into $ [0, 1] $\n",
    "and then apply it to the entire array."
   ]
  },
  {
   "cell_type": "code",
   "execution_count": null,
   "metadata": {},
   "outputs": [],
   "source": []
  },
  {
   "cell_type": "markdown",
   "metadata": {},
   "source": [
    "### $ 3.3 $ Other array methods\n",
    "\n",
    "Some additional methods and functions dealing with array shapes are:\n",
    "* `A.sort()` method: Sorts the array in-place, along the last axis (by default).\n",
    "* `A.squeeze()` method: removes axes of length one from array $ A $. For example, an array\n",
    "  of shape $ (1, 3, 1) $ becomes $ (3,) $ after squeezing.\n",
    "* `A.swapaxes(axis1, axis2)` method: Swaps two axes of an array. It only\n",
    "   provides a view (not a copy) of the original array.\n",
    "* `A.transpose(*axes)` method: Reorders the axes of an array according to the\n",
    "  tuple `axes`. If no axes are provided, it reverses the order of the axes.\n",
    "* `expand_dims(A, axis=i)` function: Inserts a new axis, expanding the array's\n",
    "  shape by one dimension at the specified position ($ i $ in this case).\n"
   ]
  },
  {
   "cell_type": "code",
   "execution_count": null,
   "metadata": {},
   "outputs": [],
   "source": [
    "A = np.array([[9, 2, 1],\n",
    "              [4, 8, 6],\n",
    "              [3, 5, 7]])\n",
    "\n",
    "A.sort()  # Sort A in-place along its last axis (the column axis)\n",
    "print(A)"
   ]
  },
  {
   "cell_type": "code",
   "execution_count": null,
   "metadata": {},
   "outputs": [],
   "source": [
    "a = np.array([1, 2, 3])\n",
    "print(a, '\\n')\n",
    "\n",
    "B = np.expand_dims(a, axis=1)  # Insert a new axis at position 1\n",
    "print(B)\n",
    "print(B.shape)"
   ]
  },
  {
   "cell_type": "code",
   "execution_count": null,
   "metadata": {},
   "outputs": [],
   "source": [
    "A = np.random.randn(2, 3, 4)  # Array of shape 2x3x4 having random elements\n",
    "print(A.shape)\n",
    "print(A, '\\n') \n",
    "\n",
    "# Reorder the axis (0, 1, 2) in the new order (1, 2, 0):\n",
    "B = A.transpose(1, 2, 0)  # The new shape is 3x4x2\n",
    "print(B.shape)\n",
    "print(B)"
   ]
  },
  {
   "cell_type": "markdown",
   "metadata": {},
   "source": [
    "__Exercise:__ For each of these methods/functions, verify whether the result is a view or a copy of the original\n",
    "array by applying it to an array $ A $, assigning the result to $ B $, modifying an entry of $ A $ and then\n",
    "checking whether $ B $ was affected.\n"
   ]
  },
  {
   "cell_type": "code",
   "execution_count": null,
   "metadata": {},
   "outputs": [],
   "source": []
  }
 ],
 "metadata": {
  "kernelspec": {
   "display_name": "base",
   "language": "python",
   "name": "python3"
  },
  "language_info": {
   "codemirror_mode": {
    "name": "ipython",
    "version": 3
   },
   "file_extension": ".py",
   "mimetype": "text/x-python",
   "name": "python",
   "nbconvert_exporter": "python",
   "pygments_lexer": "ipython3",
   "version": "3.12.4"
  }
 },
 "nbformat": 4,
 "nbformat_minor": 2
}
